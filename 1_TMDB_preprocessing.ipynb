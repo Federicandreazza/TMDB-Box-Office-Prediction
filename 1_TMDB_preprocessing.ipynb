{
 "cells": [
  {
   "cell_type": "markdown",
   "metadata": {},
   "source": [
    "# TMDB Box Office Prediction"
   ]
  },
  {
   "cell_type": "markdown",
   "metadata": {
    "toc": true
   },
   "source": [
    "<h1>Table of Contents<span class=\"tocSkip\"></span></h1>\n",
    "<div class=\"toc\"><ul class=\"toc-item\"><li><span><a href=\"#Read-data\" data-toc-modified-id=\"Read-data-2\">Read data</a></span><ul class=\"toc-item\"><li><span><a href=\"#Train-set\" data-toc-modified-id=\"Train-set-2.1\">Train set</a></span></li><li><span><a href=\"#Test-set\" data-toc-modified-id=\"Test-set-2.2\">Test set</a></span></li></ul></li><li><span><a href=\"#Data-Exploration\" data-toc-modified-id=\"Data-Exploration-3\">Data Exploration</a></span><ul class=\"toc-item\"><li><span><a href=\"#Numeric-features\" data-toc-modified-id=\"Numeric-features-3.1\">Numeric features</a></span><ul class=\"toc-item\"><li><span><a href=\"#'revenue'-(TARGET)\" data-toc-modified-id=\"'revenue'-(TARGET)-3.1.1\">'revenue' (TARGET)</a></span></li><li><span><a href=\"#'budget'\" data-toc-modified-id=\"'budget'-3.1.2\">'budget'</a></span></li><li><span><a href=\"#'popularity'\" data-toc-modified-id=\"'popularity'-3.1.3\">'popularity'</a></span></li><li><span><a href=\"#'runtime'\" data-toc-modified-id=\"'runtime'-3.1.4\">'runtime'</a></span></li><li><span><a href=\"#'release_date'\" data-toc-modified-id=\"'release_date'-3.1.5\">'release_date'</a></span></li></ul></li><li><span><a href=\"#Categorical-Data\" data-toc-modified-id=\"Categorical-Data-3.2\">Categorical Data</a></span><ul class=\"toc-item\"><li><span><a href=\"#'belongs_to_collection'\" data-toc-modified-id=\"'belongs_to_collection'-3.2.1\">'belongs_to_collection'</a></span></li><li><span><a href=\"#'homepage'\" data-toc-modified-id=\"'homepage'-3.2.2\">'homepage'</a></span></li><li><span><a href=\"#'original_language'\" data-toc-modified-id=\"'original_language'-3.2.3\">'original_language'</a></span></li><li><span><a href=\"#'overview'\" data-toc-modified-id=\"'overview'-3.2.4\">'overview'</a></span></li><li><span><a href=\"#'tagline'\" data-toc-modified-id=\"'tagline'-3.2.5\">'tagline'</a></span></li><li><span><a href=\"#'status'\" data-toc-modified-id=\"'status'-3.2.6\">'status'</a></span></li><li><span><a href=\"#'title'\" data-toc-modified-id=\"'title'-3.2.7\">'title'</a></span></li></ul></li><li><span><a href=\"#Dictionary-Data\" data-toc-modified-id=\"Dictionary-Data-3.3\">Dictionary Data</a></span><ul class=\"toc-item\"><li><span><a href=\"#'genres'\" data-toc-modified-id=\"'genres'-3.3.1\">'genres'</a></span></li><li><span><a href=\"#'production_companies'\" data-toc-modified-id=\"'production_companies'-3.3.2\">'production_companies'</a></span></li><li><span><a href=\"#'production_countries'\" data-toc-modified-id=\"'production_countries'-3.3.3\">'production_countries'</a></span></li><li><span><a href=\"#'spoken_languages'\" data-toc-modified-id=\"'spoken_languages'-3.3.4\">'spoken_languages'</a></span></li><li><span><a href=\"#'Keywords'\" data-toc-modified-id=\"'Keywords'-3.3.5\">'Keywords'</a></span></li><li><span><a href=\"#'cast'\" data-toc-modified-id=\"'cast'-3.3.6\">'cast'</a></span></li><li><span><a href=\"#'crew'\" data-toc-modified-id=\"'crew'-3.3.7\">'crew'</a></span><ul class=\"toc-item\"><li><span><a href=\"#Directing\" data-toc-modified-id=\"Directing-3.3.7.1\">Directing</a></span></li><li><span><a href=\"#Production\" data-toc-modified-id=\"Production-3.3.7.2\">Production</a></span></li><li><span><a href=\"#Writing\" data-toc-modified-id=\"Writing-3.3.7.3\">Writing</a></span></li><li><span><a href=\"#Sound\" data-toc-modified-id=\"Sound-3.3.7.4\">Sound</a></span></li><li><span><a href=\"#Costume-&amp;-Make-Up\" data-toc-modified-id=\"Costume-&amp;-Make-Up-3.3.7.5\">Costume &amp; Make-Up</a></span></li><li><span><a href=\"#Camera\" data-toc-modified-id=\"Camera-3.3.7.6\">Camera</a></span></li></ul></li></ul></li></ul></li><li><span><a href=\"#Final-dataset\" data-toc-modified-id=\"Final-dataset-4\">Final dataset</a></span><ul class=\"toc-item\"><li><ul class=\"toc-item\"><li><span><a href=\"#Train-set\" data-toc-modified-id=\"Train-set-4.0.1\">Train set</a></span></li><li><span><a href=\"#Test-set\" data-toc-modified-id=\"Test-set-4.0.2\">Test set</a></span></li></ul></li></ul></li></ul></div>"
   ]
  },
  {
   "cell_type": "markdown",
   "metadata": {},
   "source": [
    "Imports"
   ]
  },
  {
   "cell_type": "code",
   "execution_count": 1,
   "metadata": {
    "code_folding": [],
    "scrolled": true
   },
   "outputs": [],
   "source": [
    "## Inserisci qui la tua directory\n",
    "dir_ = 'C:/Users/feder/Desktop/Data&Web Mining/Progetto/'\n",
    "\n",
    "import matplotlib.pyplot as plt\n",
    "import numpy as np\n",
    "import pandas as pd\n",
    "from collections import Counter\n",
    "from statistics import mode\n",
    "from sklearn.preprocessing import MultiLabelBinarizer \n",
    "from sklearn.decomposition import PCA\n",
    "import seaborn as sns\n",
    "import utils as ut"
   ]
  },
  {
   "cell_type": "code",
   "execution_count": 2,
   "metadata": {
    "scrolled": true
   },
   "outputs": [],
   "source": [
    "pd.set_option(\"display.max_columns\", None)"
   ]
  },
  {
   "cell_type": "markdown",
   "metadata": {},
   "source": [
    " "
   ]
  },
  {
   "cell_type": "markdown",
   "metadata": {},
   "source": [
    "## Read data"
   ]
  },
  {
   "cell_type": "markdown",
   "metadata": {},
   "source": [
    "### Train set"
   ]
  },
  {
   "cell_type": "code",
   "execution_count": 3,
   "metadata": {
    "scrolled": false
   },
   "outputs": [
    {
     "data": {
      "text/html": [
       "<div>\n",
       "<style scoped>\n",
       "    .dataframe tbody tr th:only-of-type {\n",
       "        vertical-align: middle;\n",
       "    }\n",
       "\n",
       "    .dataframe tbody tr th {\n",
       "        vertical-align: top;\n",
       "    }\n",
       "\n",
       "    .dataframe thead th {\n",
       "        text-align: right;\n",
       "    }\n",
       "</style>\n",
       "<table border=\"1\" class=\"dataframe\">\n",
       "  <thead>\n",
       "    <tr style=\"text-align: right;\">\n",
       "      <th></th>\n",
       "      <th>id</th>\n",
       "      <th>belongs_to_collection</th>\n",
       "      <th>budget</th>\n",
       "      <th>genres</th>\n",
       "      <th>homepage</th>\n",
       "      <th>imdb_id</th>\n",
       "      <th>original_language</th>\n",
       "      <th>original_title</th>\n",
       "      <th>overview</th>\n",
       "      <th>popularity</th>\n",
       "      <th>poster_path</th>\n",
       "      <th>production_companies</th>\n",
       "      <th>production_countries</th>\n",
       "      <th>release_date</th>\n",
       "      <th>runtime</th>\n",
       "      <th>spoken_languages</th>\n",
       "      <th>status</th>\n",
       "      <th>tagline</th>\n",
       "      <th>title</th>\n",
       "      <th>Keywords</th>\n",
       "      <th>cast</th>\n",
       "      <th>crew</th>\n",
       "      <th>revenue</th>\n",
       "    </tr>\n",
       "  </thead>\n",
       "  <tbody>\n",
       "    <tr>\n",
       "      <th>0</th>\n",
       "      <td>1</td>\n",
       "      <td>[{'id': 313576, 'name': 'Hot Tub Time Machine ...</td>\n",
       "      <td>14000000</td>\n",
       "      <td>[{'id': 35, 'name': 'Comedy'}]</td>\n",
       "      <td>NaN</td>\n",
       "      <td>tt2637294</td>\n",
       "      <td>en</td>\n",
       "      <td>Hot Tub Time Machine 2</td>\n",
       "      <td>When Lou, who has become the \"father of the In...</td>\n",
       "      <td>6.575393</td>\n",
       "      <td>/tQtWuwvMf0hCc2QR2tkolwl7c3c.jpg</td>\n",
       "      <td>[{'name': 'Paramount Pictures', 'id': 4}, {'na...</td>\n",
       "      <td>[{'iso_3166_1': 'US', 'name': 'United States o...</td>\n",
       "      <td>2/20/15</td>\n",
       "      <td>93.0</td>\n",
       "      <td>[{'iso_639_1': 'en', 'name': 'English'}]</td>\n",
       "      <td>Released</td>\n",
       "      <td>The Laws of Space and Time are About to be Vio...</td>\n",
       "      <td>Hot Tub Time Machine 2</td>\n",
       "      <td>[{'id': 4379, 'name': 'time travel'}, {'id': 9...</td>\n",
       "      <td>[{'cast_id': 4, 'character': 'Lou', 'credit_id...</td>\n",
       "      <td>[{'credit_id': '59ac067c92514107af02c8c8', 'de...</td>\n",
       "      <td>12314651</td>\n",
       "    </tr>\n",
       "    <tr>\n",
       "      <th>1</th>\n",
       "      <td>2</td>\n",
       "      <td>[{'id': 107674, 'name': 'The Princess Diaries ...</td>\n",
       "      <td>40000000</td>\n",
       "      <td>[{'id': 35, 'name': 'Comedy'}, {'id': 18, 'nam...</td>\n",
       "      <td>NaN</td>\n",
       "      <td>tt0368933</td>\n",
       "      <td>en</td>\n",
       "      <td>The Princess Diaries 2: Royal Engagement</td>\n",
       "      <td>Mia Thermopolis is now a college graduate and ...</td>\n",
       "      <td>8.248895</td>\n",
       "      <td>/w9Z7A0GHEhIp7etpj0vyKOeU1Wx.jpg</td>\n",
       "      <td>[{'name': 'Walt Disney Pictures', 'id': 2}]</td>\n",
       "      <td>[{'iso_3166_1': 'US', 'name': 'United States o...</td>\n",
       "      <td>8/6/04</td>\n",
       "      <td>113.0</td>\n",
       "      <td>[{'iso_639_1': 'en', 'name': 'English'}]</td>\n",
       "      <td>Released</td>\n",
       "      <td>It can take a lifetime to find true love; she'...</td>\n",
       "      <td>The Princess Diaries 2: Royal Engagement</td>\n",
       "      <td>[{'id': 2505, 'name': 'coronation'}, {'id': 42...</td>\n",
       "      <td>[{'cast_id': 1, 'character': 'Mia Thermopolis'...</td>\n",
       "      <td>[{'credit_id': '52fe43fe9251416c7502563d', 'de...</td>\n",
       "      <td>95149435</td>\n",
       "    </tr>\n",
       "    <tr>\n",
       "      <th>2</th>\n",
       "      <td>3</td>\n",
       "      <td>NaN</td>\n",
       "      <td>3300000</td>\n",
       "      <td>[{'id': 18, 'name': 'Drama'}]</td>\n",
       "      <td>http://sonyclassics.com/whiplash/</td>\n",
       "      <td>tt2582802</td>\n",
       "      <td>en</td>\n",
       "      <td>Whiplash</td>\n",
       "      <td>Under the direction of a ruthless instructor, ...</td>\n",
       "      <td>64.299990</td>\n",
       "      <td>/lIv1QinFqz4dlp5U4lQ6HaiskOZ.jpg</td>\n",
       "      <td>[{'name': 'Bold Films', 'id': 2266}, {'name': ...</td>\n",
       "      <td>[{'iso_3166_1': 'US', 'name': 'United States o...</td>\n",
       "      <td>10/10/14</td>\n",
       "      <td>105.0</td>\n",
       "      <td>[{'iso_639_1': 'en', 'name': 'English'}]</td>\n",
       "      <td>Released</td>\n",
       "      <td>The road to greatness can take you to the edge.</td>\n",
       "      <td>Whiplash</td>\n",
       "      <td>[{'id': 1416, 'name': 'jazz'}, {'id': 1523, 'n...</td>\n",
       "      <td>[{'cast_id': 5, 'character': 'Andrew Neimann',...</td>\n",
       "      <td>[{'credit_id': '54d5356ec3a3683ba0000039', 'de...</td>\n",
       "      <td>13092000</td>\n",
       "    </tr>\n",
       "    <tr>\n",
       "      <th>3</th>\n",
       "      <td>4</td>\n",
       "      <td>NaN</td>\n",
       "      <td>1200000</td>\n",
       "      <td>[{'id': 53, 'name': 'Thriller'}, {'id': 18, 'n...</td>\n",
       "      <td>http://kahaanithefilm.com/</td>\n",
       "      <td>tt1821480</td>\n",
       "      <td>hi</td>\n",
       "      <td>Kahaani</td>\n",
       "      <td>Vidya Bagchi (Vidya Balan) arrives in Kolkata ...</td>\n",
       "      <td>3.174936</td>\n",
       "      <td>/aTXRaPrWSinhcmCrcfJK17urp3F.jpg</td>\n",
       "      <td>NaN</td>\n",
       "      <td>[{'iso_3166_1': 'IN', 'name': 'India'}]</td>\n",
       "      <td>3/9/12</td>\n",
       "      <td>122.0</td>\n",
       "      <td>[{'iso_639_1': 'en', 'name': 'English'}, {'iso...</td>\n",
       "      <td>Released</td>\n",
       "      <td>NaN</td>\n",
       "      <td>Kahaani</td>\n",
       "      <td>[{'id': 10092, 'name': 'mystery'}, {'id': 1054...</td>\n",
       "      <td>[{'cast_id': 1, 'character': 'Vidya Bagchi', '...</td>\n",
       "      <td>[{'credit_id': '52fe48779251416c9108d6eb', 'de...</td>\n",
       "      <td>16000000</td>\n",
       "    </tr>\n",
       "    <tr>\n",
       "      <th>4</th>\n",
       "      <td>5</td>\n",
       "      <td>NaN</td>\n",
       "      <td>0</td>\n",
       "      <td>[{'id': 28, 'name': 'Action'}, {'id': 53, 'nam...</td>\n",
       "      <td>NaN</td>\n",
       "      <td>tt1380152</td>\n",
       "      <td>ko</td>\n",
       "      <td>마린보이</td>\n",
       "      <td>Marine Boy is the story of a former national s...</td>\n",
       "      <td>1.148070</td>\n",
       "      <td>/m22s7zvkVFDU9ir56PiiqIEWFdT.jpg</td>\n",
       "      <td>NaN</td>\n",
       "      <td>[{'iso_3166_1': 'KR', 'name': 'South Korea'}]</td>\n",
       "      <td>2/5/09</td>\n",
       "      <td>118.0</td>\n",
       "      <td>[{'iso_639_1': 'ko', 'name': '한국어/조선말'}]</td>\n",
       "      <td>Released</td>\n",
       "      <td>NaN</td>\n",
       "      <td>Marine Boy</td>\n",
       "      <td>NaN</td>\n",
       "      <td>[{'cast_id': 3, 'character': 'Chun-soo', 'cred...</td>\n",
       "      <td>[{'credit_id': '52fe464b9251416c75073b43', 'de...</td>\n",
       "      <td>3923970</td>\n",
       "    </tr>\n",
       "  </tbody>\n",
       "</table>\n",
       "</div>"
      ],
      "text/plain": [
       "   id                              belongs_to_collection    budget  \\\n",
       "0   1  [{'id': 313576, 'name': 'Hot Tub Time Machine ...  14000000   \n",
       "1   2  [{'id': 107674, 'name': 'The Princess Diaries ...  40000000   \n",
       "2   3                                                NaN   3300000   \n",
       "3   4                                                NaN   1200000   \n",
       "4   5                                                NaN         0   \n",
       "\n",
       "                                              genres  \\\n",
       "0                     [{'id': 35, 'name': 'Comedy'}]   \n",
       "1  [{'id': 35, 'name': 'Comedy'}, {'id': 18, 'nam...   \n",
       "2                      [{'id': 18, 'name': 'Drama'}]   \n",
       "3  [{'id': 53, 'name': 'Thriller'}, {'id': 18, 'n...   \n",
       "4  [{'id': 28, 'name': 'Action'}, {'id': 53, 'nam...   \n",
       "\n",
       "                            homepage    imdb_id original_language  \\\n",
       "0                                NaN  tt2637294                en   \n",
       "1                                NaN  tt0368933                en   \n",
       "2  http://sonyclassics.com/whiplash/  tt2582802                en   \n",
       "3         http://kahaanithefilm.com/  tt1821480                hi   \n",
       "4                                NaN  tt1380152                ko   \n",
       "\n",
       "                             original_title  \\\n",
       "0                    Hot Tub Time Machine 2   \n",
       "1  The Princess Diaries 2: Royal Engagement   \n",
       "2                                  Whiplash   \n",
       "3                                   Kahaani   \n",
       "4                                      마린보이   \n",
       "\n",
       "                                            overview  popularity  \\\n",
       "0  When Lou, who has become the \"father of the In...    6.575393   \n",
       "1  Mia Thermopolis is now a college graduate and ...    8.248895   \n",
       "2  Under the direction of a ruthless instructor, ...   64.299990   \n",
       "3  Vidya Bagchi (Vidya Balan) arrives in Kolkata ...    3.174936   \n",
       "4  Marine Boy is the story of a former national s...    1.148070   \n",
       "\n",
       "                        poster_path  \\\n",
       "0  /tQtWuwvMf0hCc2QR2tkolwl7c3c.jpg   \n",
       "1  /w9Z7A0GHEhIp7etpj0vyKOeU1Wx.jpg   \n",
       "2  /lIv1QinFqz4dlp5U4lQ6HaiskOZ.jpg   \n",
       "3  /aTXRaPrWSinhcmCrcfJK17urp3F.jpg   \n",
       "4  /m22s7zvkVFDU9ir56PiiqIEWFdT.jpg   \n",
       "\n",
       "                                production_companies  \\\n",
       "0  [{'name': 'Paramount Pictures', 'id': 4}, {'na...   \n",
       "1        [{'name': 'Walt Disney Pictures', 'id': 2}]   \n",
       "2  [{'name': 'Bold Films', 'id': 2266}, {'name': ...   \n",
       "3                                                NaN   \n",
       "4                                                NaN   \n",
       "\n",
       "                                production_countries release_date  runtime  \\\n",
       "0  [{'iso_3166_1': 'US', 'name': 'United States o...      2/20/15     93.0   \n",
       "1  [{'iso_3166_1': 'US', 'name': 'United States o...       8/6/04    113.0   \n",
       "2  [{'iso_3166_1': 'US', 'name': 'United States o...     10/10/14    105.0   \n",
       "3            [{'iso_3166_1': 'IN', 'name': 'India'}]       3/9/12    122.0   \n",
       "4      [{'iso_3166_1': 'KR', 'name': 'South Korea'}]       2/5/09    118.0   \n",
       "\n",
       "                                    spoken_languages    status  \\\n",
       "0           [{'iso_639_1': 'en', 'name': 'English'}]  Released   \n",
       "1           [{'iso_639_1': 'en', 'name': 'English'}]  Released   \n",
       "2           [{'iso_639_1': 'en', 'name': 'English'}]  Released   \n",
       "3  [{'iso_639_1': 'en', 'name': 'English'}, {'iso...  Released   \n",
       "4           [{'iso_639_1': 'ko', 'name': '한국어/조선말'}]  Released   \n",
       "\n",
       "                                             tagline  \\\n",
       "0  The Laws of Space and Time are About to be Vio...   \n",
       "1  It can take a lifetime to find true love; she'...   \n",
       "2    The road to greatness can take you to the edge.   \n",
       "3                                                NaN   \n",
       "4                                                NaN   \n",
       "\n",
       "                                      title  \\\n",
       "0                    Hot Tub Time Machine 2   \n",
       "1  The Princess Diaries 2: Royal Engagement   \n",
       "2                                  Whiplash   \n",
       "3                                   Kahaani   \n",
       "4                                Marine Boy   \n",
       "\n",
       "                                            Keywords  \\\n",
       "0  [{'id': 4379, 'name': 'time travel'}, {'id': 9...   \n",
       "1  [{'id': 2505, 'name': 'coronation'}, {'id': 42...   \n",
       "2  [{'id': 1416, 'name': 'jazz'}, {'id': 1523, 'n...   \n",
       "3  [{'id': 10092, 'name': 'mystery'}, {'id': 1054...   \n",
       "4                                                NaN   \n",
       "\n",
       "                                                cast  \\\n",
       "0  [{'cast_id': 4, 'character': 'Lou', 'credit_id...   \n",
       "1  [{'cast_id': 1, 'character': 'Mia Thermopolis'...   \n",
       "2  [{'cast_id': 5, 'character': 'Andrew Neimann',...   \n",
       "3  [{'cast_id': 1, 'character': 'Vidya Bagchi', '...   \n",
       "4  [{'cast_id': 3, 'character': 'Chun-soo', 'cred...   \n",
       "\n",
       "                                                crew   revenue  \n",
       "0  [{'credit_id': '59ac067c92514107af02c8c8', 'de...  12314651  \n",
       "1  [{'credit_id': '52fe43fe9251416c7502563d', 'de...  95149435  \n",
       "2  [{'credit_id': '54d5356ec3a3683ba0000039', 'de...  13092000  \n",
       "3  [{'credit_id': '52fe48779251416c9108d6eb', 'de...  16000000  \n",
       "4  [{'credit_id': '52fe464b9251416c75073b43', 'de...   3923970  "
      ]
     },
     "execution_count": 3,
     "metadata": {},
     "output_type": "execute_result"
    }
   ],
   "source": [
    "#Dataset che comprende i primi 3000 film su cui fare training dei modelli\n",
    "train_df = pd.read_csv(dir_+'train.csv')\n",
    "train_df.head()"
   ]
  },
  {
   "cell_type": "code",
   "execution_count": 4,
   "metadata": {
    "scrolled": false
   },
   "outputs": [
    {
     "name": "stdout",
     "output_type": "stream",
     "text": [
      "<class 'pandas.core.frame.DataFrame'>\n",
      "RangeIndex: 3000 entries, 0 to 2999\n",
      "Data columns (total 23 columns):\n",
      " #   Column                 Non-Null Count  Dtype  \n",
      "---  ------                 --------------  -----  \n",
      " 0   id                     3000 non-null   int64  \n",
      " 1   belongs_to_collection  604 non-null    object \n",
      " 2   budget                 3000 non-null   int64  \n",
      " 3   genres                 2993 non-null   object \n",
      " 4   homepage               946 non-null    object \n",
      " 5   imdb_id                3000 non-null   object \n",
      " 6   original_language      3000 non-null   object \n",
      " 7   original_title         3000 non-null   object \n",
      " 8   overview               2992 non-null   object \n",
      " 9   popularity             3000 non-null   float64\n",
      " 10  poster_path            2999 non-null   object \n",
      " 11  production_companies   2844 non-null   object \n",
      " 12  production_countries   2945 non-null   object \n",
      " 13  release_date           3000 non-null   object \n",
      " 14  runtime                2998 non-null   float64\n",
      " 15  spoken_languages       2980 non-null   object \n",
      " 16  status                 3000 non-null   object \n",
      " 17  tagline                2403 non-null   object \n",
      " 18  title                  3000 non-null   object \n",
      " 19  Keywords               2724 non-null   object \n",
      " 20  cast                   2987 non-null   object \n",
      " 21  crew                   2984 non-null   object \n",
      " 22  revenue                3000 non-null   int64  \n",
      "dtypes: float64(2), int64(3), object(18)\n",
      "memory usage: 539.2+ KB\n"
     ]
    }
   ],
   "source": [
    "train_df.info()"
   ]
  },
  {
   "cell_type": "markdown",
   "metadata": {},
   "source": [
    "### Test set\n"
   ]
  },
  {
   "cell_type": "code",
   "execution_count": 5,
   "metadata": {
    "scrolled": false
   },
   "outputs": [
    {
     "data": {
      "text/html": [
       "<div>\n",
       "<style scoped>\n",
       "    .dataframe tbody tr th:only-of-type {\n",
       "        vertical-align: middle;\n",
       "    }\n",
       "\n",
       "    .dataframe tbody tr th {\n",
       "        vertical-align: top;\n",
       "    }\n",
       "\n",
       "    .dataframe thead th {\n",
       "        text-align: right;\n",
       "    }\n",
       "</style>\n",
       "<table border=\"1\" class=\"dataframe\">\n",
       "  <thead>\n",
       "    <tr style=\"text-align: right;\">\n",
       "      <th></th>\n",
       "      <th>id</th>\n",
       "      <th>belongs_to_collection</th>\n",
       "      <th>budget</th>\n",
       "      <th>genres</th>\n",
       "      <th>homepage</th>\n",
       "      <th>imdb_id</th>\n",
       "      <th>original_language</th>\n",
       "      <th>original_title</th>\n",
       "      <th>overview</th>\n",
       "      <th>popularity</th>\n",
       "      <th>poster_path</th>\n",
       "      <th>production_companies</th>\n",
       "      <th>production_countries</th>\n",
       "      <th>release_date</th>\n",
       "      <th>runtime</th>\n",
       "      <th>spoken_languages</th>\n",
       "      <th>status</th>\n",
       "      <th>tagline</th>\n",
       "      <th>title</th>\n",
       "      <th>Keywords</th>\n",
       "      <th>cast</th>\n",
       "      <th>crew</th>\n",
       "    </tr>\n",
       "  </thead>\n",
       "  <tbody>\n",
       "    <tr>\n",
       "      <th>0</th>\n",
       "      <td>3001</td>\n",
       "      <td>[{'id': 34055, 'name': 'Pokémon Collection', '...</td>\n",
       "      <td>0</td>\n",
       "      <td>[{'id': 12, 'name': 'Adventure'}, {'id': 16, '...</td>\n",
       "      <td>http://www.pokemon.com/us/movies/movie-pokemon...</td>\n",
       "      <td>tt1226251</td>\n",
       "      <td>ja</td>\n",
       "      <td>ディアルガVSパルキアVSダークライ</td>\n",
       "      <td>Ash and friends (this time accompanied by newc...</td>\n",
       "      <td>3.851534</td>\n",
       "      <td>/tnftmLMemPLduW6MRyZE0ZUD19z.jpg</td>\n",
       "      <td>NaN</td>\n",
       "      <td>[{'iso_3166_1': 'JP', 'name': 'Japan'}, {'iso_...</td>\n",
       "      <td>7/14/07</td>\n",
       "      <td>90.0</td>\n",
       "      <td>[{'iso_639_1': 'en', 'name': 'English'}, {'iso...</td>\n",
       "      <td>Released</td>\n",
       "      <td>Somewhere Between Time &amp; Space... A Legend Is ...</td>\n",
       "      <td>Pokémon: The Rise of Darkrai</td>\n",
       "      <td>[{'id': 11451, 'name': 'pok√©mon'}, {'id': 115...</td>\n",
       "      <td>[{'cast_id': 3, 'character': 'Tonio', 'credit_...</td>\n",
       "      <td>[{'credit_id': '52fe44e7c3a368484e03d683', 'de...</td>\n",
       "    </tr>\n",
       "    <tr>\n",
       "      <th>1</th>\n",
       "      <td>3002</td>\n",
       "      <td>NaN</td>\n",
       "      <td>88000</td>\n",
       "      <td>[{'id': 27, 'name': 'Horror'}, {'id': 878, 'na...</td>\n",
       "      <td>NaN</td>\n",
       "      <td>tt0051380</td>\n",
       "      <td>en</td>\n",
       "      <td>Attack of the 50 Foot Woman</td>\n",
       "      <td>When an abused wife grows to giant size becaus...</td>\n",
       "      <td>3.559789</td>\n",
       "      <td>/9MgBNBqlH1sG4yG2u4XkwI5CoJa.jpg</td>\n",
       "      <td>[{'name': 'Woolner Brothers Pictures Inc.', 'i...</td>\n",
       "      <td>[{'iso_3166_1': 'US', 'name': 'United States o...</td>\n",
       "      <td>5/19/58</td>\n",
       "      <td>65.0</td>\n",
       "      <td>[{'iso_639_1': 'en', 'name': 'English'}]</td>\n",
       "      <td>Released</td>\n",
       "      <td>A titanic beauty spreads a macabre wave of hor...</td>\n",
       "      <td>Attack of the 50 Foot Woman</td>\n",
       "      <td>[{'id': 9748, 'name': 'revenge'}, {'id': 9951,...</td>\n",
       "      <td>[{'cast_id': 2, 'character': 'Nancy Fowler Arc...</td>\n",
       "      <td>[{'credit_id': '55807805c3a3685b1300060b', 'de...</td>\n",
       "    </tr>\n",
       "    <tr>\n",
       "      <th>2</th>\n",
       "      <td>3003</td>\n",
       "      <td>NaN</td>\n",
       "      <td>0</td>\n",
       "      <td>[{'id': 35, 'name': 'Comedy'}, {'id': 10749, '...</td>\n",
       "      <td>NaN</td>\n",
       "      <td>tt0118556</td>\n",
       "      <td>en</td>\n",
       "      <td>Addicted to Love</td>\n",
       "      <td>Good-natured astronomer Sam is devastated when...</td>\n",
       "      <td>8.085194</td>\n",
       "      <td>/ed6nD7h9sbojSWY2qrnDcSvDFko.jpg</td>\n",
       "      <td>[{'name': 'Warner Bros.', 'id': 6194}, {'name'...</td>\n",
       "      <td>[{'iso_3166_1': 'US', 'name': 'United States o...</td>\n",
       "      <td>5/23/97</td>\n",
       "      <td>100.0</td>\n",
       "      <td>[{'iso_639_1': 'en', 'name': 'English'}]</td>\n",
       "      <td>Released</td>\n",
       "      <td>A Comedy About Lost Loves And Last Laughs</td>\n",
       "      <td>Addicted to Love</td>\n",
       "      <td>[{'id': 931, 'name': 'jealousy'}, {'id': 9673,...</td>\n",
       "      <td>[{'cast_id': 11, 'character': 'Maggie', 'credi...</td>\n",
       "      <td>[{'credit_id': '52fe4330c3a36847f8041367', 'de...</td>\n",
       "    </tr>\n",
       "    <tr>\n",
       "      <th>3</th>\n",
       "      <td>3004</td>\n",
       "      <td>NaN</td>\n",
       "      <td>6800000</td>\n",
       "      <td>[{'id': 18, 'name': 'Drama'}, {'id': 10752, 'n...</td>\n",
       "      <td>http://www.sonyclassics.com/incendies/</td>\n",
       "      <td>tt1255953</td>\n",
       "      <td>fr</td>\n",
       "      <td>Incendies</td>\n",
       "      <td>A mother's last wishes send twins Jeanne and S...</td>\n",
       "      <td>8.596012</td>\n",
       "      <td>/sEUG3qjxwHjxkzuO7plrRHhOZUH.jpg</td>\n",
       "      <td>[{'name': 'TS Productions', 'id': 313}, {'name...</td>\n",
       "      <td>[{'iso_3166_1': 'CA', 'name': 'Canada'}, {'iso...</td>\n",
       "      <td>9/4/10</td>\n",
       "      <td>130.0</td>\n",
       "      <td>[{'iso_639_1': 'fr', 'name': 'Français'}, {'is...</td>\n",
       "      <td>Released</td>\n",
       "      <td>The search began at the opening of their mothe...</td>\n",
       "      <td>Incendies</td>\n",
       "      <td>[{'id': 378, 'name': 'prison'}, {'id': 539, 'n...</td>\n",
       "      <td>[{'cast_id': 6, 'character': 'Nawal', 'credit_...</td>\n",
       "      <td>[{'credit_id': '56478092c3a36826140043af', 'de...</td>\n",
       "    </tr>\n",
       "    <tr>\n",
       "      <th>4</th>\n",
       "      <td>3005</td>\n",
       "      <td>NaN</td>\n",
       "      <td>2000000</td>\n",
       "      <td>[{'id': 36, 'name': 'History'}, {'id': 99, 'na...</td>\n",
       "      <td>NaN</td>\n",
       "      <td>tt0418753</td>\n",
       "      <td>en</td>\n",
       "      <td>Inside Deep Throat</td>\n",
       "      <td>In 1972, a seemingly typical shoestring budget...</td>\n",
       "      <td>3.217680</td>\n",
       "      <td>/n4WC3zbelz6SG7rhkWbf8m9pMHB.jpg</td>\n",
       "      <td>NaN</td>\n",
       "      <td>[{'iso_3166_1': 'US', 'name': 'United States o...</td>\n",
       "      <td>2/11/05</td>\n",
       "      <td>92.0</td>\n",
       "      <td>[{'iso_639_1': 'en', 'name': 'English'}]</td>\n",
       "      <td>Released</td>\n",
       "      <td>It was filmed in 6 days for 25 thousand dollar...</td>\n",
       "      <td>Inside Deep Throat</td>\n",
       "      <td>[{'id': 279, 'name': 'usa'}, {'id': 1228, 'nam...</td>\n",
       "      <td>[{'cast_id': 1, 'character': 'Narrator (voice)...</td>\n",
       "      <td>[{'credit_id': '52fe44ce9251416c75041967', 'de...</td>\n",
       "    </tr>\n",
       "  </tbody>\n",
       "</table>\n",
       "</div>"
      ],
      "text/plain": [
       "     id                              belongs_to_collection   budget  \\\n",
       "0  3001  [{'id': 34055, 'name': 'Pokémon Collection', '...        0   \n",
       "1  3002                                                NaN    88000   \n",
       "2  3003                                                NaN        0   \n",
       "3  3004                                                NaN  6800000   \n",
       "4  3005                                                NaN  2000000   \n",
       "\n",
       "                                              genres  \\\n",
       "0  [{'id': 12, 'name': 'Adventure'}, {'id': 16, '...   \n",
       "1  [{'id': 27, 'name': 'Horror'}, {'id': 878, 'na...   \n",
       "2  [{'id': 35, 'name': 'Comedy'}, {'id': 10749, '...   \n",
       "3  [{'id': 18, 'name': 'Drama'}, {'id': 10752, 'n...   \n",
       "4  [{'id': 36, 'name': 'History'}, {'id': 99, 'na...   \n",
       "\n",
       "                                            homepage    imdb_id  \\\n",
       "0  http://www.pokemon.com/us/movies/movie-pokemon...  tt1226251   \n",
       "1                                                NaN  tt0051380   \n",
       "2                                                NaN  tt0118556   \n",
       "3             http://www.sonyclassics.com/incendies/  tt1255953   \n",
       "4                                                NaN  tt0418753   \n",
       "\n",
       "  original_language               original_title  \\\n",
       "0                ja           ディアルガVSパルキアVSダークライ   \n",
       "1                en  Attack of the 50 Foot Woman   \n",
       "2                en             Addicted to Love   \n",
       "3                fr                    Incendies   \n",
       "4                en           Inside Deep Throat   \n",
       "\n",
       "                                            overview  popularity  \\\n",
       "0  Ash and friends (this time accompanied by newc...    3.851534   \n",
       "1  When an abused wife grows to giant size becaus...    3.559789   \n",
       "2  Good-natured astronomer Sam is devastated when...    8.085194   \n",
       "3  A mother's last wishes send twins Jeanne and S...    8.596012   \n",
       "4  In 1972, a seemingly typical shoestring budget...    3.217680   \n",
       "\n",
       "                        poster_path  \\\n",
       "0  /tnftmLMemPLduW6MRyZE0ZUD19z.jpg   \n",
       "1  /9MgBNBqlH1sG4yG2u4XkwI5CoJa.jpg   \n",
       "2  /ed6nD7h9sbojSWY2qrnDcSvDFko.jpg   \n",
       "3  /sEUG3qjxwHjxkzuO7plrRHhOZUH.jpg   \n",
       "4  /n4WC3zbelz6SG7rhkWbf8m9pMHB.jpg   \n",
       "\n",
       "                                production_companies  \\\n",
       "0                                                NaN   \n",
       "1  [{'name': 'Woolner Brothers Pictures Inc.', 'i...   \n",
       "2  [{'name': 'Warner Bros.', 'id': 6194}, {'name'...   \n",
       "3  [{'name': 'TS Productions', 'id': 313}, {'name...   \n",
       "4                                                NaN   \n",
       "\n",
       "                                production_countries release_date  runtime  \\\n",
       "0  [{'iso_3166_1': 'JP', 'name': 'Japan'}, {'iso_...      7/14/07     90.0   \n",
       "1  [{'iso_3166_1': 'US', 'name': 'United States o...      5/19/58     65.0   \n",
       "2  [{'iso_3166_1': 'US', 'name': 'United States o...      5/23/97    100.0   \n",
       "3  [{'iso_3166_1': 'CA', 'name': 'Canada'}, {'iso...       9/4/10    130.0   \n",
       "4  [{'iso_3166_1': 'US', 'name': 'United States o...      2/11/05     92.0   \n",
       "\n",
       "                                    spoken_languages    status  \\\n",
       "0  [{'iso_639_1': 'en', 'name': 'English'}, {'iso...  Released   \n",
       "1           [{'iso_639_1': 'en', 'name': 'English'}]  Released   \n",
       "2           [{'iso_639_1': 'en', 'name': 'English'}]  Released   \n",
       "3  [{'iso_639_1': 'fr', 'name': 'Français'}, {'is...  Released   \n",
       "4           [{'iso_639_1': 'en', 'name': 'English'}]  Released   \n",
       "\n",
       "                                             tagline  \\\n",
       "0  Somewhere Between Time & Space... A Legend Is ...   \n",
       "1  A titanic beauty spreads a macabre wave of hor...   \n",
       "2          A Comedy About Lost Loves And Last Laughs   \n",
       "3  The search began at the opening of their mothe...   \n",
       "4  It was filmed in 6 days for 25 thousand dollar...   \n",
       "\n",
       "                          title  \\\n",
       "0  Pokémon: The Rise of Darkrai   \n",
       "1   Attack of the 50 Foot Woman   \n",
       "2              Addicted to Love   \n",
       "3                     Incendies   \n",
       "4            Inside Deep Throat   \n",
       "\n",
       "                                            Keywords  \\\n",
       "0  [{'id': 11451, 'name': 'pok√©mon'}, {'id': 115...   \n",
       "1  [{'id': 9748, 'name': 'revenge'}, {'id': 9951,...   \n",
       "2  [{'id': 931, 'name': 'jealousy'}, {'id': 9673,...   \n",
       "3  [{'id': 378, 'name': 'prison'}, {'id': 539, 'n...   \n",
       "4  [{'id': 279, 'name': 'usa'}, {'id': 1228, 'nam...   \n",
       "\n",
       "                                                cast  \\\n",
       "0  [{'cast_id': 3, 'character': 'Tonio', 'credit_...   \n",
       "1  [{'cast_id': 2, 'character': 'Nancy Fowler Arc...   \n",
       "2  [{'cast_id': 11, 'character': 'Maggie', 'credi...   \n",
       "3  [{'cast_id': 6, 'character': 'Nawal', 'credit_...   \n",
       "4  [{'cast_id': 1, 'character': 'Narrator (voice)...   \n",
       "\n",
       "                                                crew  \n",
       "0  [{'credit_id': '52fe44e7c3a368484e03d683', 'de...  \n",
       "1  [{'credit_id': '55807805c3a3685b1300060b', 'de...  \n",
       "2  [{'credit_id': '52fe4330c3a36847f8041367', 'de...  \n",
       "3  [{'credit_id': '56478092c3a36826140043af', 'de...  \n",
       "4  [{'credit_id': '52fe44ce9251416c75041967', 'de...  "
      ]
     },
     "execution_count": 5,
     "metadata": {},
     "output_type": "execute_result"
    }
   ],
   "source": [
    "#Dataset che contiene i restanti 4398 film da utilizzare come test\n",
    "test_df = pd.read_csv(dir_+'test.csv')\n",
    "test_df.head()"
   ]
  },
  {
   "cell_type": "code",
   "execution_count": 6,
   "metadata": {
    "scrolled": false
   },
   "outputs": [
    {
     "name": "stdout",
     "output_type": "stream",
     "text": [
      "<class 'pandas.core.frame.DataFrame'>\n",
      "RangeIndex: 4398 entries, 0 to 4397\n",
      "Data columns (total 22 columns):\n",
      " #   Column                 Non-Null Count  Dtype  \n",
      "---  ------                 --------------  -----  \n",
      " 0   id                     4398 non-null   int64  \n",
      " 1   belongs_to_collection  877 non-null    object \n",
      " 2   budget                 4398 non-null   int64  \n",
      " 3   genres                 4382 non-null   object \n",
      " 4   homepage               1420 non-null   object \n",
      " 5   imdb_id                4398 non-null   object \n",
      " 6   original_language      4398 non-null   object \n",
      " 7   original_title         4398 non-null   object \n",
      " 8   overview               4384 non-null   object \n",
      " 9   popularity             4398 non-null   float64\n",
      " 10  poster_path            4397 non-null   object \n",
      " 11  production_companies   4140 non-null   object \n",
      " 12  production_countries   4296 non-null   object \n",
      " 13  release_date           4397 non-null   object \n",
      " 14  runtime                4394 non-null   float64\n",
      " 15  spoken_languages       4356 non-null   object \n",
      " 16  status                 4396 non-null   object \n",
      " 17  tagline                3535 non-null   object \n",
      " 18  title                  4395 non-null   object \n",
      " 19  Keywords               4005 non-null   object \n",
      " 20  cast                   4385 non-null   object \n",
      " 21  crew                   4376 non-null   object \n",
      "dtypes: float64(2), int64(2), object(18)\n",
      "memory usage: 756.0+ KB\n"
     ]
    }
   ],
   "source": [
    "test_df.info()"
   ]
  },
  {
   "cell_type": "markdown",
   "metadata": {},
   "source": [
    "**Osservazioni**"
   ]
  },
  {
   "cell_type": "markdown",
   "metadata": {},
   "source": [
    "- Ci sono molti film con 0 nella colonna 'budget' :"
   ]
  },
  {
   "cell_type": "code",
   "execution_count": 7,
   "metadata": {
    "scrolled": true
   },
   "outputs": [
    {
     "data": {
      "text/plain": [
       "812"
      ]
     },
     "execution_count": 7,
     "metadata": {},
     "output_type": "execute_result"
    }
   ],
   "source": [
    "len(train_df.query('budget == 0 ').index)"
   ]
  },
  {
   "cell_type": "markdown",
   "metadata": {},
   "source": [
    "- La colonna 'imdb_id' ha sono valori unici, quindi posso eliminarla."
   ]
  },
  {
   "cell_type": "code",
   "execution_count": 8,
   "metadata": {
    "scrolled": true
   },
   "outputs": [],
   "source": [
    "for df in [train_df, test_df]:\n",
    "    df.drop(columns = 'imdb_id', inplace=True)"
   ]
  },
  {
   "cell_type": "markdown",
   "metadata": {},
   "source": [
    "- Non penso che 'original_title' e 'poster_path' mi serviranno come feature, quindi le elimino."
   ]
  },
  {
   "cell_type": "code",
   "execution_count": 9,
   "metadata": {
    "scrolled": true
   },
   "outputs": [],
   "source": [
    "for df in [train_df, test_df]:\n",
    "    df.drop(columns = 'original_title', inplace=True)\n",
    "    df.drop(columns = 'poster_path', inplace=True)"
   ]
  },
  {
   "cell_type": "markdown",
   "metadata": {},
   "source": [
    " \n",
    " "
   ]
  },
  {
   "cell_type": "markdown",
   "metadata": {},
   "source": [
    "## Data Exploration "
   ]
  },
  {
   "cell_type": "markdown",
   "metadata": {},
   "source": [
    "### Numeric features"
   ]
  },
  {
   "cell_type": "markdown",
   "metadata": {},
   "source": [
    "#### 'revenue' (TARGET)"
   ]
  },
  {
   "cell_type": "code",
   "execution_count": 10,
   "metadata": {},
   "outputs": [
    {
     "data": {
      "text/html": [
       "<div>\n",
       "<style scoped>\n",
       "    .dataframe tbody tr th:only-of-type {\n",
       "        vertical-align: middle;\n",
       "    }\n",
       "\n",
       "    .dataframe tbody tr th {\n",
       "        vertical-align: top;\n",
       "    }\n",
       "\n",
       "    .dataframe thead th {\n",
       "        text-align: right;\n",
       "    }\n",
       "</style>\n",
       "<table border=\"1\" class=\"dataframe\">\n",
       "  <thead>\n",
       "    <tr style=\"text-align: right;\">\n",
       "      <th></th>\n",
       "      <th>count</th>\n",
       "      <th>mean</th>\n",
       "      <th>std</th>\n",
       "      <th>min</th>\n",
       "      <th>25%</th>\n",
       "      <th>50%</th>\n",
       "      <th>75%</th>\n",
       "      <th>max</th>\n",
       "    </tr>\n",
       "  </thead>\n",
       "  <tbody>\n",
       "    <tr>\n",
       "      <th>revenue</th>\n",
       "      <td>3000.0</td>\n",
       "      <td>6.672585e+07</td>\n",
       "      <td>1.375323e+08</td>\n",
       "      <td>1.0</td>\n",
       "      <td>2379808.25</td>\n",
       "      <td>16807068.0</td>\n",
       "      <td>68919203.5</td>\n",
       "      <td>1.519558e+09</td>\n",
       "    </tr>\n",
       "  </tbody>\n",
       "</table>\n",
       "</div>"
      ],
      "text/plain": [
       "          count          mean           std  min         25%         50%  \\\n",
       "revenue  3000.0  6.672585e+07  1.375323e+08  1.0  2379808.25  16807068.0   \n",
       "\n",
       "                75%           max  \n",
       "revenue  68919203.5  1.519558e+09  "
      ]
     },
     "execution_count": 10,
     "metadata": {},
     "output_type": "execute_result"
    }
   ],
   "source": [
    "train_df.loc[:, train_df.columns == 'revenue'].describe().T"
   ]
  },
  {
   "cell_type": "code",
   "execution_count": 11,
   "metadata": {},
   "outputs": [
    {
     "data": {
      "text/plain": [
       "<AxesSubplot:title={'center':'Distribution of log(revenue)'}, xlabel='revenue', ylabel='Count'>"
      ]
     },
     "execution_count": 11,
     "metadata": {},
     "output_type": "execute_result"
    },
    {
     "data": {
      "image/png": "[encoded data removed]",
      "text/plain": [
       "<Figure size 1152x360 with 2 Axes>"
      ]
     },
     "metadata": {
      "needs_background": "light"
     },
     "output_type": "display_data"
    }
   ],
   "source": [
    "plt.figure(figsize = (16, 5))\n",
    "ax1 = plt.subplot(1, 2, 1)\n",
    "ax1.set_title('Distribution of revenue')\n",
    "sns.histplot(train_df['revenue'])\n",
    "\n",
    "ax2 = plt.subplot(1, 2, 2)\n",
    "ax2.set_title('Distribution of log(revenue)')\n",
    "sns.histplot(np.log1p(train_df['revenue']))"
   ]
  },
  {
   "cell_type": "markdown",
   "metadata": {},
   "source": [
    "Con la trasformazione su scala logaritmica sembra assumere più chiaramente una distribuzione Normale, anche se asimmetrica a sinistra."
   ]
  },
  {
   "cell_type": "markdown",
   "metadata": {},
   "source": [
    " Devo prendere il logaritmo di revenue poichè la competizione usa come metrica RMSLE (Root Mean Squared Log Error)"
   ]
  },
  {
   "cell_type": "code",
   "execution_count": 12,
   "metadata": {
    "scrolled": true
   },
   "outputs": [],
   "source": [
    "# train_df['log_revenue'] = np.log1p(train_df['revenue'])"
   ]
  },
  {
   "cell_type": "markdown",
   "metadata": {},
   "source": [
    "#### 'budget'"
   ]
  },
  {
   "cell_type": "code",
   "execution_count": 13,
   "metadata": {},
   "outputs": [
    {
     "data": {
      "text/html": [
       "<div>\n",
       "<style scoped>\n",
       "    .dataframe tbody tr th:only-of-type {\n",
       "        vertical-align: middle;\n",
       "    }\n",
       "\n",
       "    .dataframe tbody tr th {\n",
       "        vertical-align: top;\n",
       "    }\n",
       "\n",
       "    .dataframe thead th {\n",
       "        text-align: right;\n",
       "    }\n",
       "</style>\n",
       "<table border=\"1\" class=\"dataframe\">\n",
       "  <thead>\n",
       "    <tr style=\"text-align: right;\">\n",
       "      <th></th>\n",
       "      <th>count</th>\n",
       "      <th>mean</th>\n",
       "      <th>std</th>\n",
       "      <th>min</th>\n",
       "      <th>25%</th>\n",
       "      <th>50%</th>\n",
       "      <th>75%</th>\n",
       "      <th>max</th>\n",
       "    </tr>\n",
       "  </thead>\n",
       "  <tbody>\n",
       "    <tr>\n",
       "      <th>budget</th>\n",
       "      <td>3000.0</td>\n",
       "      <td>22531334.11</td>\n",
       "      <td>3.702609e+07</td>\n",
       "      <td>0.0</td>\n",
       "      <td>0.0</td>\n",
       "      <td>8000000.0</td>\n",
       "      <td>29000000.0</td>\n",
       "      <td>380000000.0</td>\n",
       "    </tr>\n",
       "  </tbody>\n",
       "</table>\n",
       "</div>"
      ],
      "text/plain": [
       "         count         mean           std  min  25%        50%         75%  \\\n",
       "budget  3000.0  22531334.11  3.702609e+07  0.0  0.0  8000000.0  29000000.0   \n",
       "\n",
       "                max  \n",
       "budget  380000000.0  "
      ]
     },
     "execution_count": 13,
     "metadata": {},
     "output_type": "execute_result"
    }
   ],
   "source": [
    "train_df.loc[:, train_df.columns == 'budget'].describe().T"
   ]
  },
  {
   "cell_type": "code",
   "execution_count": 14,
   "metadata": {},
   "outputs": [
    {
     "data": {
      "text/html": [
       "<div>\n",
       "<style scoped>\n",
       "    .dataframe tbody tr th:only-of-type {\n",
       "        vertical-align: middle;\n",
       "    }\n",
       "\n",
       "    .dataframe tbody tr th {\n",
       "        vertical-align: top;\n",
       "    }\n",
       "\n",
       "    .dataframe thead th {\n",
       "        text-align: right;\n",
       "    }\n",
       "</style>\n",
       "<table border=\"1\" class=\"dataframe\">\n",
       "  <thead>\n",
       "    <tr style=\"text-align: right;\">\n",
       "      <th></th>\n",
       "      <th>count</th>\n",
       "      <th>mean</th>\n",
       "      <th>std</th>\n",
       "      <th>min</th>\n",
       "      <th>25%</th>\n",
       "      <th>50%</th>\n",
       "      <th>75%</th>\n",
       "      <th>max</th>\n",
       "    </tr>\n",
       "  </thead>\n",
       "  <tbody>\n",
       "    <tr>\n",
       "      <th>budget</th>\n",
       "      <td>4398.0</td>\n",
       "      <td>2.264929e+07</td>\n",
       "      <td>3.689991e+07</td>\n",
       "      <td>0.0</td>\n",
       "      <td>0.0</td>\n",
       "      <td>7450000.0</td>\n",
       "      <td>28000000.0</td>\n",
       "      <td>260000000.0</td>\n",
       "    </tr>\n",
       "  </tbody>\n",
       "</table>\n",
       "</div>"
      ],
      "text/plain": [
       "         count          mean           std  min  25%        50%         75%  \\\n",
       "budget  4398.0  2.264929e+07  3.689991e+07  0.0  0.0  7450000.0  28000000.0   \n",
       "\n",
       "                max  \n",
       "budget  260000000.0  "
      ]
     },
     "execution_count": 14,
     "metadata": {},
     "output_type": "execute_result"
    }
   ],
   "source": [
    "test_df.loc[:, test_df.columns == 'budget'].describe().T"
   ]
  },
  {
   "cell_type": "code",
   "execution_count": 15,
   "metadata": {},
   "outputs": [
    {
     "data": {
      "text/plain": [
       "<AxesSubplot:title={'center':'log(budget)'}, xlabel='budget', ylabel='Count'>"
      ]
     },
     "execution_count": 15,
     "metadata": {},
     "output_type": "execute_result"
    },
    {
     "data": {
      "image/png": "[encoded data removed]",
      "text/plain": [
       "<Figure size 1080x360 with 2 Axes>"
      ]
     },
     "metadata": {
      "needs_background": "light"
     },
     "output_type": "display_data"
    }
   ],
   "source": [
    "plt.figure(figsize = (15, 5))\n",
    "# 'budget'\n",
    "ax1 = plt.subplot(1,2,1)\n",
    "ax1.set_title('Budget')\n",
    "sns.histplot(train_df['budget'])\n",
    "\n",
    "# 'log(budget)'\n",
    "ax2 = plt.subplot(1,2,2)\n",
    "ax2.set_title('log(budget)')\n",
    "sns.histplot(np.log1p(train_df['budget']))"
   ]
  },
  {
   "cell_type": "markdown",
   "metadata": {},
   "source": [
    "Sembrano esserci dei dati mancanti che sono stati inseriti come 0."
   ]
  },
  {
   "cell_type": "markdown",
   "metadata": {
    "scrolled": false
   },
   "source": [
    "Vedo se c'è qualche relazione con la variabile target."
   ]
  },
  {
   "cell_type": "code",
   "execution_count": 16,
   "metadata": {},
   "outputs": [
    {
     "data": {
      "text/plain": [
       "<AxesSubplot:title={'center':'log(budget) x log(revenue)'}, xlabel='budget', ylabel='revenue'>"
      ]
     },
     "execution_count": 16,
     "metadata": {},
     "output_type": "execute_result"
    },
    {
     "data": {
      "image/png": "[encoded data removed]",
      "text/plain": [
       "<Figure size 1080x360 with 3 Axes>"
      ]
     },
     "metadata": {
      "needs_background": "light"
     },
     "output_type": "display_data"
    }
   ],
   "source": [
    "plt.figure(figsize = (15, 5))\n",
    "# 'budget' e 'revenue'\n",
    "ax1 = plt.subplot(1,3,1)\n",
    "ax1.set_title('Budget x Revenue')\n",
    "sns.scatterplot(x=train_df['budget'], y=train_df['revenue'])\n",
    "\n",
    "# 'log(budget)' e 'log(revenue)'\n",
    "ax2 = plt.subplot(1,3,2)\n",
    "ax2.set_title('Budget x log(revenue)')\n",
    "sns.scatterplot(x=train_df['budget'], y=np.log1p(train_df['revenue']))\n",
    "\n",
    "# 'log(budget)' e 'log(revenue)'\n",
    "ax3 = plt.subplot(1,3,3)\n",
    "ax3.set_title('log(budget) x log(revenue)')\n",
    "sns.scatterplot(x=np.log1p(train_df['budget']), y=np.log1p(train_df['revenue']))"
   ]
  },
  {
   "cell_type": "markdown",
   "metadata": {},
   "source": [
    "#### 'popularity'"
   ]
  },
  {
   "cell_type": "code",
   "execution_count": 17,
   "metadata": {},
   "outputs": [
    {
     "data": {
      "text/html": [
       "<div>\n",
       "<style scoped>\n",
       "    .dataframe tbody tr th:only-of-type {\n",
       "        vertical-align: middle;\n",
       "    }\n",
       "\n",
       "    .dataframe tbody tr th {\n",
       "        vertical-align: top;\n",
       "    }\n",
       "\n",
       "    .dataframe thead th {\n",
       "        text-align: right;\n",
       "    }\n",
       "</style>\n",
       "<table border=\"1\" class=\"dataframe\">\n",
       "  <thead>\n",
       "    <tr style=\"text-align: right;\">\n",
       "      <th></th>\n",
       "      <th>count</th>\n",
       "      <th>mean</th>\n",
       "      <th>std</th>\n",
       "      <th>min</th>\n",
       "      <th>25%</th>\n",
       "      <th>50%</th>\n",
       "      <th>75%</th>\n",
       "      <th>max</th>\n",
       "    </tr>\n",
       "  </thead>\n",
       "  <tbody>\n",
       "    <tr>\n",
       "      <th>popularity</th>\n",
       "      <td>3000.0</td>\n",
       "      <td>8.463274</td>\n",
       "      <td>12.104</td>\n",
       "      <td>0.000001</td>\n",
       "      <td>4.018053</td>\n",
       "      <td>7.374861</td>\n",
       "      <td>10.890983</td>\n",
       "      <td>294.337037</td>\n",
       "    </tr>\n",
       "  </tbody>\n",
       "</table>\n",
       "</div>"
      ],
      "text/plain": [
       "             count      mean     std       min       25%       50%        75%  \\\n",
       "popularity  3000.0  8.463274  12.104  0.000001  4.018053  7.374861  10.890983   \n",
       "\n",
       "                   max  \n",
       "popularity  294.337037  "
      ]
     },
     "execution_count": 17,
     "metadata": {},
     "output_type": "execute_result"
    }
   ],
   "source": [
    "train_df.loc[:, train_df.columns == 'popularity'].describe().T"
   ]
  },
  {
   "cell_type": "code",
   "execution_count": 18,
   "metadata": {},
   "outputs": [
    {
     "data": {
      "text/plain": [
       "<AxesSubplot:title={'center':'log(popularity)'}, xlabel='popularity', ylabel='Count'>"
      ]
     },
     "execution_count": 18,
     "metadata": {},
     "output_type": "execute_result"
    },
    {
     "data": {
      "image/png": "[encoded data removed]",
      "text/plain": [
       "<Figure size 1080x360 with 2 Axes>"
      ]
     },
     "metadata": {
      "needs_background": "light"
     },
     "output_type": "display_data"
    }
   ],
   "source": [
    "plt.figure(figsize = (15, 5))\n",
    "# 'popularity'\n",
    "ax1 = plt.subplot(1,2,1)\n",
    "ax1.set_title('Popularity')\n",
    "sns.histplot(train_df['popularity'])\n",
    "\n",
    "# 'log(popularity)'\n",
    "ax2 = plt.subplot(1,2,2)\n",
    "ax2.set_title('log(popularity)')\n",
    "sns.histplot(np.log1p(train_df['popularity']))"
   ]
  },
  {
   "cell_type": "markdown",
   "metadata": {},
   "source": [
    "La distibuzione di 'popularity' è assimetrica anche dopo la trasformazione su scala logaritmica."
   ]
  },
  {
   "cell_type": "markdown",
   "metadata": {
    "scrolled": false
   },
   "source": [
    "Vedo se c'è qualche relazione con la variabile target."
   ]
  },
  {
   "cell_type": "code",
   "execution_count": 19,
   "metadata": {},
   "outputs": [
    {
     "data": {
      "text/plain": [
       "<AxesSubplot:title={'center':'log(popularity) x log(revenue)'}, xlabel='popularity', ylabel='revenue'>"
      ]
     },
     "execution_count": 19,
     "metadata": {},
     "output_type": "execute_result"
    },
    {
     "data": {
      "image/png": "[encoded data removed]",
      "text/plain": [
       "<Figure size 1080x360 with 3 Axes>"
      ]
     },
     "metadata": {
      "needs_background": "light"
     },
     "output_type": "display_data"
    }
   ],
   "source": [
    "plt.figure(figsize = (15, 5))\n",
    "# 'popularity' e 'revenue'\n",
    "ax1 = plt.subplot(1,3,1)\n",
    "ax1.set_title('Popularity x Revenue')\n",
    "sns.scatterplot(x=train_df['popularity'], y=train_df['revenue'])\n",
    "\n",
    "# 'log(popularity)' e 'log(revenue)'\n",
    "ax2 = plt.subplot(1,3,2)\n",
    "ax2.set_title('Popularity x log(revenue)')\n",
    "sns.scatterplot(x=train_df['popularity'], y=np.log1p(train_df['revenue']))\n",
    "\n",
    "# 'log(popularity)' e 'log(revenue)'\n",
    "ax3 = plt.subplot(1,3,3)\n",
    "ax3.set_title('log(popularity) x log(revenue)')\n",
    "sns.scatterplot(x=np.log1p(train_df['popularity']), y=np.log1p(train_df['revenue']))"
   ]
  },
  {
   "cell_type": "markdown",
   "metadata": {},
   "source": [
    "#### 'runtime'"
   ]
  },
  {
   "cell_type": "code",
   "execution_count": 20,
   "metadata": {},
   "outputs": [
    {
     "data": {
      "text/html": [
       "<div>\n",
       "<style scoped>\n",
       "    .dataframe tbody tr th:only-of-type {\n",
       "        vertical-align: middle;\n",
       "    }\n",
       "\n",
       "    .dataframe tbody tr th {\n",
       "        vertical-align: top;\n",
       "    }\n",
       "\n",
       "    .dataframe thead th {\n",
       "        text-align: right;\n",
       "    }\n",
       "</style>\n",
       "<table border=\"1\" class=\"dataframe\">\n",
       "  <thead>\n",
       "    <tr style=\"text-align: right;\">\n",
       "      <th></th>\n",
       "      <th>count</th>\n",
       "      <th>mean</th>\n",
       "      <th>std</th>\n",
       "      <th>min</th>\n",
       "      <th>25%</th>\n",
       "      <th>50%</th>\n",
       "      <th>75%</th>\n",
       "      <th>max</th>\n",
       "    </tr>\n",
       "  </thead>\n",
       "  <tbody>\n",
       "    <tr>\n",
       "      <th>runtime</th>\n",
       "      <td>2998.0</td>\n",
       "      <td>107.856571</td>\n",
       "      <td>22.086434</td>\n",
       "      <td>0.0</td>\n",
       "      <td>94.0</td>\n",
       "      <td>104.0</td>\n",
       "      <td>118.0</td>\n",
       "      <td>338.0</td>\n",
       "    </tr>\n",
       "  </tbody>\n",
       "</table>\n",
       "</div>"
      ],
      "text/plain": [
       "          count        mean        std  min   25%    50%    75%    max\n",
       "runtime  2998.0  107.856571  22.086434  0.0  94.0  104.0  118.0  338.0"
      ]
     },
     "execution_count": 20,
     "metadata": {},
     "output_type": "execute_result"
    }
   ],
   "source": [
    "train_df.loc[:, train_df.columns == 'runtime'].describe().T"
   ]
  },
  {
   "cell_type": "markdown",
   "metadata": {},
   "source": [
    "**N.B.:** 'runtime' ha dei valori Nan in alcune righe del dataset, li sostituisco con la media."
   ]
  },
  {
   "cell_type": "code",
   "execution_count": 21,
   "metadata": {},
   "outputs": [],
   "source": [
    "train_df['runtime'] = train_df['runtime'].fillna(train_df['runtime'].mean())\n",
    "test_df['runtime'] = test_df['runtime'].fillna(test_df['runtime'].mean())"
   ]
  },
  {
   "cell_type": "code",
   "execution_count": 22,
   "metadata": {},
   "outputs": [
    {
     "data": {
      "text/plain": [
       "<AxesSubplot:title={'center':'log(runtime)'}, xlabel='runtime', ylabel='Count'>"
      ]
     },
     "execution_count": 22,
     "metadata": {},
     "output_type": "execute_result"
    },
    {
     "data": {
      "image/png": "[encoded data removed]",
      "text/plain": [
       "<Figure size 1080x360 with 2 Axes>"
      ]
     },
     "metadata": {
      "needs_background": "light"
     },
     "output_type": "display_data"
    }
   ],
   "source": [
    "plt.figure(figsize = (15, 5))\n",
    "# 'runtime'\n",
    "ax1 = plt.subplot(1,2,1)\n",
    "ax1.set_title('Runtime')\n",
    "sns.histplot(train_df['runtime'])\n",
    "\n",
    "# 'log(runtime)'\n",
    "ax2 = plt.subplot(1,2,2)\n",
    "ax2.set_title('log(runtime)')\n",
    "sns.histplot(np.log1p(train_df['runtime']))\n"
   ]
  },
  {
   "cell_type": "markdown",
   "metadata": {},
   "source": [
    "Ci sono degli outliers sullo 0 sicuramete dovuti ad informazioni mancanti."
   ]
  },
  {
   "cell_type": "markdown",
   "metadata": {
    "scrolled": false
   },
   "source": [
    "Vedo se c'è qualche relazione con la variabile target."
   ]
  },
  {
   "cell_type": "code",
   "execution_count": 23,
   "metadata": {},
   "outputs": [
    {
     "data": {
      "text/plain": [
       "<AxesSubplot:title={'center':'log(runtime) x log(revenue)'}, xlabel='runtime', ylabel='revenue'>"
      ]
     },
     "execution_count": 23,
     "metadata": {},
     "output_type": "execute_result"
    },
    {
     "data": {
      "image/png": "[encoded data removed]",
      "text/plain": [
       "<Figure size 1080x360 with 3 Axes>"
      ]
     },
     "metadata": {
      "needs_background": "light"
     },
     "output_type": "display_data"
    }
   ],
   "source": [
    "plt.figure(figsize = (15, 5))\n",
    "# 'runtime' e 'revenue'\n",
    "ax1 = plt.subplot(1,3,1)\n",
    "ax1.set_title('Runtime x Revenue')\n",
    "sns.scatterplot(x=train_df['runtime'], y = train_df['revenue'])\n",
    "\n",
    "# 'log(runtime)' e 'log(revenue)'\n",
    "ax2 = plt.subplot(1,3,2)\n",
    "ax2.set_title('Runtime x log(revenue)')\n",
    "sns.scatterplot(x=train_df['runtime'], y = np.log1p(train_df['revenue']))\n",
    "\n",
    "# 'log(runtime)' e 'log(revenue)'\n",
    "ax3 = plt.subplot(1,3,3)\n",
    "ax3.set_title('log(runtime) x log(revenue)')\n",
    "sns.scatterplot(x=np.log1p(train_df['runtime']), y = np.log1p(train_df['revenue']))"
   ]
  },
  {
   "cell_type": "markdown",
   "metadata": {},
   "source": [
    "#### 'release_date'"
   ]
  },
  {
   "cell_type": "markdown",
   "metadata": {},
   "source": [
    "Creo delle feature dalle date di rilascio dei film come: anno, giorno della settimana, mese, giorno del mese."
   ]
  },
  {
   "cell_type": "code",
   "execution_count": 24,
   "metadata": {
    "scrolled": true
   },
   "outputs": [],
   "source": [
    "train_df['release_date'] = train_df['release_date'].apply(lambda x: ut.fix_date(x))\n",
    "train_df['release_date'] = pd.to_datetime(train_df['release_date'])\n",
    "train_df = ut.process_date(train_df)"
   ]
  },
  {
   "cell_type": "code",
   "execution_count": 25,
   "metadata": {
    "scrolled": false
   },
   "outputs": [
    {
     "data": {
      "text/html": [
       "<div>\n",
       "<style scoped>\n",
       "    .dataframe tbody tr th:only-of-type {\n",
       "        vertical-align: middle;\n",
       "    }\n",
       "\n",
       "    .dataframe tbody tr th {\n",
       "        vertical-align: top;\n",
       "    }\n",
       "\n",
       "    .dataframe thead th {\n",
       "        text-align: right;\n",
       "    }\n",
       "</style>\n",
       "<table border=\"1\" class=\"dataframe\">\n",
       "  <thead>\n",
       "    <tr style=\"text-align: right;\">\n",
       "      <th></th>\n",
       "      <th>id</th>\n",
       "      <th>belongs_to_collection</th>\n",
       "      <th>budget</th>\n",
       "      <th>genres</th>\n",
       "      <th>homepage</th>\n",
       "      <th>original_language</th>\n",
       "      <th>overview</th>\n",
       "      <th>popularity</th>\n",
       "      <th>production_companies</th>\n",
       "      <th>production_countries</th>\n",
       "      <th>release_date</th>\n",
       "      <th>runtime</th>\n",
       "      <th>spoken_languages</th>\n",
       "      <th>status</th>\n",
       "      <th>tagline</th>\n",
       "      <th>title</th>\n",
       "      <th>Keywords</th>\n",
       "      <th>cast</th>\n",
       "      <th>crew</th>\n",
       "      <th>revenue</th>\n",
       "      <th>release_date_year</th>\n",
       "      <th>release_date_weekday</th>\n",
       "      <th>release_date_month</th>\n",
       "      <th>release_date_day</th>\n",
       "    </tr>\n",
       "  </thead>\n",
       "  <tbody>\n",
       "    <tr>\n",
       "      <th>0</th>\n",
       "      <td>1</td>\n",
       "      <td>[{'id': 313576, 'name': 'Hot Tub Time Machine ...</td>\n",
       "      <td>14000000</td>\n",
       "      <td>[{'id': 35, 'name': 'Comedy'}]</td>\n",
       "      <td>NaN</td>\n",
       "      <td>en</td>\n",
       "      <td>When Lou, who has become the \"father of the In...</td>\n",
       "      <td>6.575393</td>\n",
       "      <td>[{'name': 'Paramount Pictures', 'id': 4}, {'na...</td>\n",
       "      <td>[{'iso_3166_1': 'US', 'name': 'United States o...</td>\n",
       "      <td>2015-02-20</td>\n",
       "      <td>93.0</td>\n",
       "      <td>[{'iso_639_1': 'en', 'name': 'English'}]</td>\n",
       "      <td>Released</td>\n",
       "      <td>The Laws of Space and Time are About to be Vio...</td>\n",
       "      <td>Hot Tub Time Machine 2</td>\n",
       "      <td>[{'id': 4379, 'name': 'time travel'}, {'id': 9...</td>\n",
       "      <td>[{'cast_id': 4, 'character': 'Lou', 'credit_id...</td>\n",
       "      <td>[{'credit_id': '59ac067c92514107af02c8c8', 'de...</td>\n",
       "      <td>12314651</td>\n",
       "      <td>2015</td>\n",
       "      <td>4</td>\n",
       "      <td>2</td>\n",
       "      <td>20</td>\n",
       "    </tr>\n",
       "    <tr>\n",
       "      <th>1</th>\n",
       "      <td>2</td>\n",
       "      <td>[{'id': 107674, 'name': 'The Princess Diaries ...</td>\n",
       "      <td>40000000</td>\n",
       "      <td>[{'id': 35, 'name': 'Comedy'}, {'id': 18, 'nam...</td>\n",
       "      <td>NaN</td>\n",
       "      <td>en</td>\n",
       "      <td>Mia Thermopolis is now a college graduate and ...</td>\n",
       "      <td>8.248895</td>\n",
       "      <td>[{'name': 'Walt Disney Pictures', 'id': 2}]</td>\n",
       "      <td>[{'iso_3166_1': 'US', 'name': 'United States o...</td>\n",
       "      <td>2004-08-06</td>\n",
       "      <td>113.0</td>\n",
       "      <td>[{'iso_639_1': 'en', 'name': 'English'}]</td>\n",
       "      <td>Released</td>\n",
       "      <td>It can take a lifetime to find true love; she'...</td>\n",
       "      <td>The Princess Diaries 2: Royal Engagement</td>\n",
       "      <td>[{'id': 2505, 'name': 'coronation'}, {'id': 42...</td>\n",
       "      <td>[{'cast_id': 1, 'character': 'Mia Thermopolis'...</td>\n",
       "      <td>[{'credit_id': '52fe43fe9251416c7502563d', 'de...</td>\n",
       "      <td>95149435</td>\n",
       "      <td>2004</td>\n",
       "      <td>4</td>\n",
       "      <td>8</td>\n",
       "      <td>6</td>\n",
       "    </tr>\n",
       "    <tr>\n",
       "      <th>2</th>\n",
       "      <td>3</td>\n",
       "      <td>NaN</td>\n",
       "      <td>3300000</td>\n",
       "      <td>[{'id': 18, 'name': 'Drama'}]</td>\n",
       "      <td>http://sonyclassics.com/whiplash/</td>\n",
       "      <td>en</td>\n",
       "      <td>Under the direction of a ruthless instructor, ...</td>\n",
       "      <td>64.299990</td>\n",
       "      <td>[{'name': 'Bold Films', 'id': 2266}, {'name': ...</td>\n",
       "      <td>[{'iso_3166_1': 'US', 'name': 'United States o...</td>\n",
       "      <td>2014-10-10</td>\n",
       "      <td>105.0</td>\n",
       "      <td>[{'iso_639_1': 'en', 'name': 'English'}]</td>\n",
       "      <td>Released</td>\n",
       "      <td>The road to greatness can take you to the edge.</td>\n",
       "      <td>Whiplash</td>\n",
       "      <td>[{'id': 1416, 'name': 'jazz'}, {'id': 1523, 'n...</td>\n",
       "      <td>[{'cast_id': 5, 'character': 'Andrew Neimann',...</td>\n",
       "      <td>[{'credit_id': '54d5356ec3a3683ba0000039', 'de...</td>\n",
       "      <td>13092000</td>\n",
       "      <td>2014</td>\n",
       "      <td>4</td>\n",
       "      <td>10</td>\n",
       "      <td>10</td>\n",
       "    </tr>\n",
       "    <tr>\n",
       "      <th>3</th>\n",
       "      <td>4</td>\n",
       "      <td>NaN</td>\n",
       "      <td>1200000</td>\n",
       "      <td>[{'id': 53, 'name': 'Thriller'}, {'id': 18, 'n...</td>\n",
       "      <td>http://kahaanithefilm.com/</td>\n",
       "      <td>hi</td>\n",
       "      <td>Vidya Bagchi (Vidya Balan) arrives in Kolkata ...</td>\n",
       "      <td>3.174936</td>\n",
       "      <td>NaN</td>\n",
       "      <td>[{'iso_3166_1': 'IN', 'name': 'India'}]</td>\n",
       "      <td>2012-03-09</td>\n",
       "      <td>122.0</td>\n",
       "      <td>[{'iso_639_1': 'en', 'name': 'English'}, {'iso...</td>\n",
       "      <td>Released</td>\n",
       "      <td>NaN</td>\n",
       "      <td>Kahaani</td>\n",
       "      <td>[{'id': 10092, 'name': 'mystery'}, {'id': 1054...</td>\n",
       "      <td>[{'cast_id': 1, 'character': 'Vidya Bagchi', '...</td>\n",
       "      <td>[{'credit_id': '52fe48779251416c9108d6eb', 'de...</td>\n",
       "      <td>16000000</td>\n",
       "      <td>2012</td>\n",
       "      <td>4</td>\n",
       "      <td>3</td>\n",
       "      <td>9</td>\n",
       "    </tr>\n",
       "    <tr>\n",
       "      <th>4</th>\n",
       "      <td>5</td>\n",
       "      <td>NaN</td>\n",
       "      <td>0</td>\n",
       "      <td>[{'id': 28, 'name': 'Action'}, {'id': 53, 'nam...</td>\n",
       "      <td>NaN</td>\n",
       "      <td>ko</td>\n",
       "      <td>Marine Boy is the story of a former national s...</td>\n",
       "      <td>1.148070</td>\n",
       "      <td>NaN</td>\n",
       "      <td>[{'iso_3166_1': 'KR', 'name': 'South Korea'}]</td>\n",
       "      <td>2009-02-05</td>\n",
       "      <td>118.0</td>\n",
       "      <td>[{'iso_639_1': 'ko', 'name': '한국어/조선말'}]</td>\n",
       "      <td>Released</td>\n",
       "      <td>NaN</td>\n",
       "      <td>Marine Boy</td>\n",
       "      <td>NaN</td>\n",
       "      <td>[{'cast_id': 3, 'character': 'Chun-soo', 'cred...</td>\n",
       "      <td>[{'credit_id': '52fe464b9251416c75073b43', 'de...</td>\n",
       "      <td>3923970</td>\n",
       "      <td>2009</td>\n",
       "      <td>3</td>\n",
       "      <td>2</td>\n",
       "      <td>5</td>\n",
       "    </tr>\n",
       "  </tbody>\n",
       "</table>\n",
       "</div>"
      ],
      "text/plain": [
       "   id                              belongs_to_collection    budget  \\\n",
       "0   1  [{'id': 313576, 'name': 'Hot Tub Time Machine ...  14000000   \n",
       "1   2  [{'id': 107674, 'name': 'The Princess Diaries ...  40000000   \n",
       "2   3                                                NaN   3300000   \n",
       "3   4                                                NaN   1200000   \n",
       "4   5                                                NaN         0   \n",
       "\n",
       "                                              genres  \\\n",
       "0                     [{'id': 35, 'name': 'Comedy'}]   \n",
       "1  [{'id': 35, 'name': 'Comedy'}, {'id': 18, 'nam...   \n",
       "2                      [{'id': 18, 'name': 'Drama'}]   \n",
       "3  [{'id': 53, 'name': 'Thriller'}, {'id': 18, 'n...   \n",
       "4  [{'id': 28, 'name': 'Action'}, {'id': 53, 'nam...   \n",
       "\n",
       "                            homepage original_language  \\\n",
       "0                                NaN                en   \n",
       "1                                NaN                en   \n",
       "2  http://sonyclassics.com/whiplash/                en   \n",
       "3         http://kahaanithefilm.com/                hi   \n",
       "4                                NaN                ko   \n",
       "\n",
       "                                            overview  popularity  \\\n",
       "0  When Lou, who has become the \"father of the In...    6.575393   \n",
       "1  Mia Thermopolis is now a college graduate and ...    8.248895   \n",
       "2  Under the direction of a ruthless instructor, ...   64.299990   \n",
       "3  Vidya Bagchi (Vidya Balan) arrives in Kolkata ...    3.174936   \n",
       "4  Marine Boy is the story of a former national s...    1.148070   \n",
       "\n",
       "                                production_companies  \\\n",
       "0  [{'name': 'Paramount Pictures', 'id': 4}, {'na...   \n",
       "1        [{'name': 'Walt Disney Pictures', 'id': 2}]   \n",
       "2  [{'name': 'Bold Films', 'id': 2266}, {'name': ...   \n",
       "3                                                NaN   \n",
       "4                                                NaN   \n",
       "\n",
       "                                production_countries release_date  runtime  \\\n",
       "0  [{'iso_3166_1': 'US', 'name': 'United States o...   2015-02-20     93.0   \n",
       "1  [{'iso_3166_1': 'US', 'name': 'United States o...   2004-08-06    113.0   \n",
       "2  [{'iso_3166_1': 'US', 'name': 'United States o...   2014-10-10    105.0   \n",
       "3            [{'iso_3166_1': 'IN', 'name': 'India'}]   2012-03-09    122.0   \n",
       "4      [{'iso_3166_1': 'KR', 'name': 'South Korea'}]   2009-02-05    118.0   \n",
       "\n",
       "                                    spoken_languages    status  \\\n",
       "0           [{'iso_639_1': 'en', 'name': 'English'}]  Released   \n",
       "1           [{'iso_639_1': 'en', 'name': 'English'}]  Released   \n",
       "2           [{'iso_639_1': 'en', 'name': 'English'}]  Released   \n",
       "3  [{'iso_639_1': 'en', 'name': 'English'}, {'iso...  Released   \n",
       "4           [{'iso_639_1': 'ko', 'name': '한국어/조선말'}]  Released   \n",
       "\n",
       "                                             tagline  \\\n",
       "0  The Laws of Space and Time are About to be Vio...   \n",
       "1  It can take a lifetime to find true love; she'...   \n",
       "2    The road to greatness can take you to the edge.   \n",
       "3                                                NaN   \n",
       "4                                                NaN   \n",
       "\n",
       "                                      title  \\\n",
       "0                    Hot Tub Time Machine 2   \n",
       "1  The Princess Diaries 2: Royal Engagement   \n",
       "2                                  Whiplash   \n",
       "3                                   Kahaani   \n",
       "4                                Marine Boy   \n",
       "\n",
       "                                            Keywords  \\\n",
       "0  [{'id': 4379, 'name': 'time travel'}, {'id': 9...   \n",
       "1  [{'id': 2505, 'name': 'coronation'}, {'id': 42...   \n",
       "2  [{'id': 1416, 'name': 'jazz'}, {'id': 1523, 'n...   \n",
       "3  [{'id': 10092, 'name': 'mystery'}, {'id': 1054...   \n",
       "4                                                NaN   \n",
       "\n",
       "                                                cast  \\\n",
       "0  [{'cast_id': 4, 'character': 'Lou', 'credit_id...   \n",
       "1  [{'cast_id': 1, 'character': 'Mia Thermopolis'...   \n",
       "2  [{'cast_id': 5, 'character': 'Andrew Neimann',...   \n",
       "3  [{'cast_id': 1, 'character': 'Vidya Bagchi', '...   \n",
       "4  [{'cast_id': 3, 'character': 'Chun-soo', 'cred...   \n",
       "\n",
       "                                                crew   revenue  \\\n",
       "0  [{'credit_id': '59ac067c92514107af02c8c8', 'de...  12314651   \n",
       "1  [{'credit_id': '52fe43fe9251416c7502563d', 'de...  95149435   \n",
       "2  [{'credit_id': '54d5356ec3a3683ba0000039', 'de...  13092000   \n",
       "3  [{'credit_id': '52fe48779251416c9108d6eb', 'de...  16000000   \n",
       "4  [{'credit_id': '52fe464b9251416c75073b43', 'de...   3923970   \n",
       "\n",
       "   release_date_year  release_date_weekday  release_date_month  \\\n",
       "0               2015                     4                   2   \n",
       "1               2004                     4                   8   \n",
       "2               2014                     4                  10   \n",
       "3               2012                     4                   3   \n",
       "4               2009                     3                   2   \n",
       "\n",
       "   release_date_day  \n",
       "0                20  \n",
       "1                 6  \n",
       "2                10  \n",
       "3                 9  \n",
       "4                 5  "
      ]
     },
     "execution_count": 25,
     "metadata": {},
     "output_type": "execute_result"
    }
   ],
   "source": [
    "train_df.head()"
   ]
  },
  {
   "cell_type": "code",
   "execution_count": 26,
   "metadata": {
    "scrolled": true
   },
   "outputs": [],
   "source": [
    "test_df['release_date'] = test_df['release_date'].apply(lambda x: ut.fix_date(x))\n",
    "test_df['release_date'] = pd.to_datetime(test_df['release_date'])\n",
    "test_df = ut.process_date(test_df)"
   ]
  },
  {
   "cell_type": "code",
   "execution_count": 27,
   "metadata": {
    "scrolled": true
   },
   "outputs": [],
   "source": [
    "train_df = train_df.drop(columns = 'release_date')\n",
    "test_df = test_df.drop(columns = 'release_date')"
   ]
  },
  {
   "cell_type": "markdown",
   "metadata": {},
   "source": [
    "Ora posso vedere l'andamento di revenue nel corso degli anni, mesi e giorni della settimana."
   ]
  },
  {
   "cell_type": "code",
   "execution_count": 28,
   "metadata": {
    "scrolled": false
   },
   "outputs": [
    {
     "data": {
      "text/plain": [
       "[<matplotlib.lines.Line2D at 0x1d0326d6b20>]"
      ]
     },
     "execution_count": 28,
     "metadata": {},
     "output_type": "execute_result"
    },
    {
     "data": {
      "image/png": "[encoded data removed]",
      "text/plain": [
       "<Figure size 1080x1080 with 4 Axes>"
      ]
     },
     "metadata": {
      "needs_background": "light"
     },
     "output_type": "display_data"
    }
   ],
   "source": [
    "movie_year = train_df['release_date_year'].value_counts().sort_index()\n",
    "year_revenue_mean = train_df.groupby(['release_date_year'])['revenue'].mean()\n",
    "\n",
    "f = plt.figure(figsize = (15,15))\n",
    "ax1 = f.add_subplot(4,1,1)\n",
    "ax1.yaxis.set_major_formatter(ut.millions)\n",
    "ax1.set_title('Revenue x Year')\n",
    "ax1.plot(movie_year.index, year_revenue_mean)\n",
    "\n",
    "movie_month = train_df['release_date_month'].value_counts().sort_index()\n",
    "month_revenue_mean = train_df.groupby(['release_date_month'])['revenue'].mean()\n",
    "\n",
    "ax2 = f.add_subplot(4,1,2)\n",
    "ax2.yaxis.set_major_formatter(ut.millions)\n",
    "ax2.set_title('Revenue x Month')\n",
    "ax2.plot(movie_month.index, month_revenue_mean)\n",
    "\n",
    "movie_weekday= train_df['release_date_weekday'].value_counts().sort_index()\n",
    "weekday_revenue_mean = train_df.groupby(['release_date_weekday'])['revenue'].mean()\n",
    "\n",
    "ax3 = f.add_subplot(4,1,3)\n",
    "ax3.yaxis.set_major_formatter(ut.millions)\n",
    "ax3.set_title('Revenue x Weekday')\n",
    "ax3.plot(movie_weekday.index, weekday_revenue_mean)\n",
    "\n",
    "\n",
    "movie_day= train_df['release_date_day'].value_counts().sort_index()\n",
    "day_revenue_mean = train_df.groupby(['release_date_day'])['revenue'].mean()\n",
    "\n",
    "ax4 = f.add_subplot(4,1,4)\n",
    "ax4.yaxis.set_major_formatter(ut.millions)\n",
    "ax4.set_title('Revenue x Day')\n",
    "ax4.plot(movie_day.index, day_revenue_mean)"
   ]
  },
  {
   "cell_type": "code",
   "execution_count": 29,
   "metadata": {
    "scrolled": false
   },
   "outputs": [
    {
     "data": {
      "text/plain": [
       "[<matplotlib.lines.Line2D at 0x1d0327c7640>]"
      ]
     },
     "execution_count": 29,
     "metadata": {},
     "output_type": "execute_result"
    },
    {
     "data": {
      "image/png": "[encoded data removed]",
      "text/plain": [
       "<Figure size 1080x576 with 2 Axes>"
      ]
     },
     "metadata": {
      "needs_background": "light"
     },
     "output_type": "display_data"
    }
   ],
   "source": [
    "f = plt.figure(figsize = (15,8))\n",
    "ax1 = f.add_subplot(2,1,1)\n",
    "ax1.yaxis.set_major_formatter(ut.millions)\n",
    "ax1.set_title('Revenue x Year')\n",
    "ax1.plot(movie_year.index, year_revenue_mean)\n",
    "\n",
    "\n",
    "movie_per_year = train_df[['release_date_year', 'id']].sort_values(by = 'release_date_year').groupby(['release_date_year']).count()\n",
    "\n",
    "ax2 = f.add_subplot(2,1,2)\n",
    "ax2.set_title('Number of movies x Year')\n",
    "ax2.plot(movie_per_year)"
   ]
  },
  {
   "cell_type": "markdown",
   "metadata": {},
   "source": [
    "**Osservazioni**"
   ]
  },
  {
   "cell_type": "markdown",
   "metadata": {},
   "source": [
    "Esploro i valori nel dettaglio."
   ]
  },
  {
   "cell_type": "code",
   "execution_count": 30,
   "metadata": {
    "scrolled": false
   },
   "outputs": [
    {
     "data": {
      "text/html": [
       "<div>\n",
       "<style scoped>\n",
       "    .dataframe tbody tr th:only-of-type {\n",
       "        vertical-align: middle;\n",
       "    }\n",
       "\n",
       "    .dataframe tbody tr th {\n",
       "        vertical-align: top;\n",
       "    }\n",
       "\n",
       "    .dataframe thead th {\n",
       "        text-align: right;\n",
       "    }\n",
       "</style>\n",
       "<table border=\"1\" class=\"dataframe\">\n",
       "  <thead>\n",
       "    <tr style=\"text-align: right;\">\n",
       "      <th></th>\n",
       "      <th>id</th>\n",
       "      <th>release_date_year</th>\n",
       "      <th>revenue</th>\n",
       "    </tr>\n",
       "  </thead>\n",
       "  <tbody>\n",
       "    <tr>\n",
       "      <th>347</th>\n",
       "      <td>348</td>\n",
       "      <td>1996</td>\n",
       "      <td>1</td>\n",
       "    </tr>\n",
       "    <tr>\n",
       "      <th>1754</th>\n",
       "      <td>1755</td>\n",
       "      <td>1995</td>\n",
       "      <td>1</td>\n",
       "    </tr>\n",
       "    <tr>\n",
       "      <th>1917</th>\n",
       "      <td>1918</td>\n",
       "      <td>1925</td>\n",
       "      <td>1</td>\n",
       "    </tr>\n",
       "    <tr>\n",
       "      <th>1874</th>\n",
       "      <td>1875</td>\n",
       "      <td>2007</td>\n",
       "      <td>1</td>\n",
       "    </tr>\n",
       "    <tr>\n",
       "      <th>695</th>\n",
       "      <td>696</td>\n",
       "      <td>2003</td>\n",
       "      <td>2</td>\n",
       "    </tr>\n",
       "    <tr>\n",
       "      <th>...</th>\n",
       "      <td>...</td>\n",
       "      <td>...</td>\n",
       "      <td>...</td>\n",
       "    </tr>\n",
       "    <tr>\n",
       "      <th>2322</th>\n",
       "      <td>2323</td>\n",
       "      <td>2011</td>\n",
       "      <td>1123746996</td>\n",
       "    </tr>\n",
       "    <tr>\n",
       "      <th>684</th>\n",
       "      <td>685</td>\n",
       "      <td>2017</td>\n",
       "      <td>1262886337</td>\n",
       "    </tr>\n",
       "    <tr>\n",
       "      <th>2770</th>\n",
       "      <td>2771</td>\n",
       "      <td>2015</td>\n",
       "      <td>1405403694</td>\n",
       "    </tr>\n",
       "    <tr>\n",
       "      <th>1761</th>\n",
       "      <td>1762</td>\n",
       "      <td>2015</td>\n",
       "      <td>1506249360</td>\n",
       "    </tr>\n",
       "    <tr>\n",
       "      <th>1126</th>\n",
       "      <td>1127</td>\n",
       "      <td>2012</td>\n",
       "      <td>1519557910</td>\n",
       "    </tr>\n",
       "  </tbody>\n",
       "</table>\n",
       "<p>3000 rows × 3 columns</p>\n",
       "</div>"
      ],
      "text/plain": [
       "        id  release_date_year     revenue\n",
       "347    348               1996           1\n",
       "1754  1755               1995           1\n",
       "1917  1918               1925           1\n",
       "1874  1875               2007           1\n",
       "695    696               2003           2\n",
       "...    ...                ...         ...\n",
       "2322  2323               2011  1123746996\n",
       "684    685               2017  1262886337\n",
       "2770  2771               2015  1405403694\n",
       "1761  1762               2015  1506249360\n",
       "1126  1127               2012  1519557910\n",
       "\n",
       "[3000 rows x 3 columns]"
      ]
     },
     "execution_count": 30,
     "metadata": {},
     "output_type": "execute_result"
    }
   ],
   "source": [
    "train_df[['id','release_date_year', 'revenue']].sort_values(by = 'revenue')"
   ]
  },
  {
   "cell_type": "markdown",
   "metadata": {},
   "source": [
    "Osservando meglio i film per cui revenue è 1,2,...   \n",
    "1 corrisponde a quanti dollari?   \n",
    "C'è un nesso tra il numero riportato nel dataset e il vero valore dell'incasso?"
   ]
  },
  {
   "cell_type": "code",
   "execution_count": 31,
   "metadata": {
    "scrolled": true
   },
   "outputs": [
    {
     "data": {
      "text/html": [
       "<div>\n",
       "<style scoped>\n",
       "    .dataframe tbody tr th:only-of-type {\n",
       "        vertical-align: middle;\n",
       "    }\n",
       "\n",
       "    .dataframe tbody tr th {\n",
       "        vertical-align: top;\n",
       "    }\n",
       "\n",
       "    .dataframe thead th {\n",
       "        text-align: right;\n",
       "    }\n",
       "</style>\n",
       "<table border=\"1\" class=\"dataframe\">\n",
       "  <thead>\n",
       "    <tr style=\"text-align: right;\">\n",
       "      <th></th>\n",
       "      <th>id</th>\n",
       "      <th>release_date_year</th>\n",
       "      <th>revenue</th>\n",
       "    </tr>\n",
       "  </thead>\n",
       "  <tbody>\n",
       "    <tr>\n",
       "      <th>347</th>\n",
       "      <td>348</td>\n",
       "      <td>1996</td>\n",
       "      <td>1</td>\n",
       "    </tr>\n",
       "    <tr>\n",
       "      <th>1754</th>\n",
       "      <td>1755</td>\n",
       "      <td>1995</td>\n",
       "      <td>1</td>\n",
       "    </tr>\n",
       "    <tr>\n",
       "      <th>1917</th>\n",
       "      <td>1918</td>\n",
       "      <td>1925</td>\n",
       "      <td>1</td>\n",
       "    </tr>\n",
       "    <tr>\n",
       "      <th>1874</th>\n",
       "      <td>1875</td>\n",
       "      <td>2007</td>\n",
       "      <td>1</td>\n",
       "    </tr>\n",
       "    <tr>\n",
       "      <th>695</th>\n",
       "      <td>696</td>\n",
       "      <td>2003</td>\n",
       "      <td>2</td>\n",
       "    </tr>\n",
       "    <tr>\n",
       "      <th>334</th>\n",
       "      <td>335</td>\n",
       "      <td>2003</td>\n",
       "      <td>3</td>\n",
       "    </tr>\n",
       "    <tr>\n",
       "      <th>1541</th>\n",
       "      <td>1542</td>\n",
       "      <td>2014</td>\n",
       "      <td>3</td>\n",
       "    </tr>\n",
       "    <tr>\n",
       "      <th>2383</th>\n",
       "      <td>2384</td>\n",
       "      <td>1970</td>\n",
       "      <td>3</td>\n",
       "    </tr>\n",
       "    <tr>\n",
       "      <th>2117</th>\n",
       "      <td>2118</td>\n",
       "      <td>2001</td>\n",
       "      <td>4</td>\n",
       "    </tr>\n",
       "    <tr>\n",
       "      <th>1346</th>\n",
       "      <td>1347</td>\n",
       "      <td>1955</td>\n",
       "      <td>5</td>\n",
       "    </tr>\n",
       "  </tbody>\n",
       "</table>\n",
       "</div>"
      ],
      "text/plain": [
       "        id  release_date_year  revenue\n",
       "347    348               1996        1\n",
       "1754  1755               1995        1\n",
       "1917  1918               1925        1\n",
       "1874  1875               2007        1\n",
       "695    696               2003        2\n",
       "334    335               2003        3\n",
       "1541  1542               2014        3\n",
       "2383  2384               1970        3\n",
       "2117  2118               2001        4\n",
       "1346  1347               1955        5"
      ]
     },
     "execution_count": 31,
     "metadata": {},
     "output_type": "execute_result"
    }
   ],
   "source": [
    "train_df[['id','release_date_year', 'revenue']].sort_values(by = 'revenue').head(10)"
   ]
  },
  {
   "cell_type": "code",
   "execution_count": 32,
   "metadata": {
    "scrolled": true
   },
   "outputs": [
    {
     "data": {
      "text/plain": [
       "title                Missing\n",
       "revenue                    1\n",
       "release_date_year       2007\n",
       "Name: 1874, dtype: object"
      ]
     },
     "execution_count": 32,
     "metadata": {},
     "output_type": "execute_result"
    }
   ],
   "source": [
    "train_df.loc[1874][['title','revenue', 'release_date_year']]"
   ]
  },
  {
   "cell_type": "markdown",
   "metadata": {},
   "source": [
    "True revenue = $1,981,961   \n",
    "source: https://www.imdb.com/title/tt1133617/"
   ]
  },
  {
   "cell_type": "code",
   "execution_count": 33,
   "metadata": {
    "scrolled": true
   },
   "outputs": [
    {
     "data": {
      "text/plain": [
       "title      Tere Naam\n",
       "revenue            2\n",
       "Name: 695, dtype: object"
      ]
     },
     "execution_count": 33,
     "metadata": {},
     "output_type": "execute_result"
    }
   ],
   "source": [
    "train_df.loc[695][['title','revenue']]"
   ]
  },
  {
   "cell_type": "markdown",
   "metadata": {},
   "source": [
    "True revenue = ₹24.54 crore   \n",
    "equivalent of: $3.320.803,50     \n",
    "source: https://en.wikipedia.org/wiki/Tere_Naam#cite_note-BOI_financials_-_Tere_Naam-1"
   ]
  },
  {
   "cell_type": "code",
   "execution_count": 34,
   "metadata": {
    "scrolled": true
   },
   "outputs": [
    {
     "data": {
      "text/plain": [
       "title      American Adobo\n",
       "revenue                 4\n",
       "Name: 2117, dtype: object"
      ]
     },
     "execution_count": 34,
     "metadata": {},
     "output_type": "execute_result"
    }
   ],
   "source": [
    "train_df.loc[2117][['title','revenue']]"
   ]
  },
  {
   "cell_type": "markdown",
   "metadata": {},
   "source": [
    "True revenue = $344,992       \n",
    "Source: https://en.wikipedia.org/wiki/American_Adobo"
   ]
  },
  {
   "cell_type": "markdown",
   "metadata": {},
   "source": [
    "Quindi ci sono dei film, nel train set, per cui revenue è stato mal riportato.     "
   ]
  },
  {
   "cell_type": "markdown",
   "metadata": {},
   "source": [
    "**Ricapitolando**: Ci sono valori errati per 'budget' e 'revenue'   \n",
    "Li sistemo prendendo i dati dalla discussione sulla competizione in Kaggle."
   ]
  },
  {
   "cell_type": "code",
   "execution_count": 35,
   "metadata": {
    "tags": [
     "hide-input",
     "nbconvert-hide"
    ]
   },
   "outputs": [],
   "source": [
    "train_df.loc[train_df['id'] == 16,'revenue'] = 192864          # Skinning\n",
    "train_df.loc[train_df['id'] == 90,'budget'] = 30000000         # Sommersby          \n",
    "train_df.loc[train_df['id'] == 118,'budget'] = 60000000        # Wild Hogs\n",
    "train_df.loc[train_df['id'] == 149,'budget'] = 18000000        # Beethoven\n",
    "train_df.loc[train_df['id'] == 313,'revenue'] = 12000000       # The Cookout \n",
    "train_df.loc[train_df['id'] == 451,'revenue'] = 12000000       # Chasing Liberty\n",
    "train_df.loc[train_df['id'] == 464,'budget'] = 20000000        # Parenthood\n",
    "train_df.loc[train_df['id'] == 470,'budget'] = 13000000        # The Karate Kid, Part II\n",
    "train_df.loc[train_df['id'] == 513,'budget'] = 930000          # From Prada to Nada\n",
    "train_df.loc[train_df['id'] == 797,'budget'] = 8000000         # Welcome to Dongmakgol\n",
    "train_df.loc[train_df['id'] == 819,'budget'] = 90000000        # Alvin and the Chipmunks: The Road Chip\n",
    "train_df.loc[train_df['id'] == 850,'budget'] = 90000000        # Modern Times\n",
    "train_df.loc[train_df['id'] == 1007,'budget'] = 2              # Zyzzyx Road \n",
    "train_df.loc[train_df['id'] == 1112,'budget'] = 7500000        # An Officer and a Gentleman\n",
    "train_df.loc[train_df['id'] == 1131,'budget'] = 4300000        # Smokey and the Bandit   \n",
    "train_df.loc[train_df['id'] == 1359,'budget'] = 10000000       # Stir Crazy \n",
    "train_df.loc[train_df['id'] == 1542,'budget'] = 1              # All at Once\n",
    "train_df.loc[train_df['id'] == 1570,'budget'] = 15800000       # Crocodile Dundee II\n",
    "train_df.loc[train_df['id'] == 1571,'budget'] = 4000000        # Lady and the Tramp\n",
    "train_df.loc[train_df['id'] == 1714,'budget'] = 46000000       # The Recruit\n",
    "train_df.loc[train_df['id'] == 1721,'budget'] = 17500000       # Cocoon\n",
    "train_df.loc[train_df['id'] == 1865,'revenue'] = 25000000      # Scooby-Doo 2: Monsters Unleashed\n",
    "train_df.loc[train_df['id'] == 1885,'budget'] = 12             # In the Cut\n",
    "train_df.loc[train_df['id'] == 2091,'budget'] = 10             # Deadfall\n",
    "train_df.loc[train_df['id'] == 2268,'budget'] = 17500000       # Madea Goes to Jail budget\n",
    "train_df.loc[train_df['id'] == 2491,'budget'] = 6              # Never Talk to Strangers\n",
    "train_df.loc[train_df['id'] == 2602,'budget'] = 31000000       # Mr. Holland's Opus\n",
    "train_df.loc[train_df['id'] == 2612,'budget'] = 15000000       # Field of Dreams\n",
    "train_df.loc[train_df['id'] == 2696,'budget'] = 10000000       # Nurse 3-D\n",
    "train_df.loc[train_df['id'] == 2801,'budget'] = 10000000       # Fracture\n",
    "train_df.loc[train_df['id'] == 335,'budget'] = 2 \n",
    "train_df.loc[train_df['id'] == 348,'budget'] = 12\n",
    "train_df.loc[train_df['id'] == 470,'budget'] = 13000000 \n",
    "train_df.loc[train_df['id'] == 513,'budget'] = 1100000\n",
    "train_df.loc[train_df['id'] == 640,'budget'] = 6 \n",
    "train_df.loc[train_df['id'] == 696,'budget'] = 1\n",
    "train_df.loc[train_df['id'] == 797,'budget'] = 8000000 \n",
    "train_df.loc[train_df['id'] == 850,'budget'] = 1500000\n",
    "train_df.loc[train_df['id'] == 1199,'budget'] = 5 \n",
    "train_df.loc[train_df['id'] == 1282,'budget'] = 9               # Death at a Funeral\n",
    "train_df.loc[train_df['id'] == 1347,'budget'] = 1\n",
    "train_df.loc[train_df['id'] == 1755,'budget'] = 2\n",
    "train_df.loc[train_df['id'] == 1801,'budget'] = 5\n",
    "train_df.loc[train_df['id'] == 1918,'budget'] = 592 \n",
    "train_df.loc[train_df['id'] == 2033,'budget'] = 4\n",
    "train_df.loc[train_df['id'] == 2118,'budget'] = 344 \n",
    "train_df.loc[train_df['id'] == 2252,'budget'] = 130\n",
    "train_df.loc[train_df['id'] == 2256,'budget'] = 1 \n",
    "train_df.loc[train_df['id'] == 2696,'budget'] = 10000000\n",
    "\n",
    "\n",
    "test_df.loc[test_df['id'] == 6733,'budget'] = 5000000\n",
    "test_df.loc[test_df['id'] == 3889,'budget'] = 15000000\n",
    "test_df.loc[test_df['id'] == 6683,'budget'] = 50000000\n",
    "test_df.loc[test_df['id'] == 5704,'budget'] = 4300000\n",
    "test_df.loc[test_df['id'] == 6109,'budget'] = 281756\n",
    "test_df.loc[test_df['id'] == 7242,'budget'] = 10000000\n",
    "test_df.loc[test_df['id'] == 7021,'budget'] = 17540562       #  Two Is a Family\n",
    "test_df.loc[test_df['id'] == 5591,'budget'] = 4000000        # The Orphanage\n",
    "test_df.loc[test_df['id'] == 4282,'budget'] = 20000000       # Big Top Pee-wee\n",
    "test_df.loc[test_df['id'] == 3033,'budget'] = 250 \n",
    "test_df.loc[test_df['id'] == 3051,'budget'] = 50\n",
    "test_df.loc[test_df['id'] == 3084,'budget'] = 337\n",
    "test_df.loc[test_df['id'] == 3224,'budget'] = 4  \n",
    "test_df.loc[test_df['id'] == 3594,'budget'] = 25  \n",
    "test_df.loc[test_df['id'] == 3619,'budget'] = 500  \n",
    "test_df.loc[test_df['id'] == 3831,'budget'] = 3  \n",
    "test_df.loc[test_df['id'] == 3935,'budget'] = 500  \n",
    "test_df.loc[test_df['id'] == 4049,'budget'] = 995946 \n",
    "test_df.loc[test_df['id'] == 4424,'budget'] = 3  \n",
    "test_df.loc[test_df['id'] == 4460,'budget'] = 8  \n",
    "test_df.loc[test_df['id'] == 4555,'budget'] = 1200000 \n",
    "test_df.loc[test_df['id'] == 4624,'budget'] = 30 \n",
    "test_df.loc[test_df['id'] == 4645,'budget'] = 500 \n",
    "test_df.loc[test_df['id'] == 4709,'budget'] = 450 \n",
    "test_df.loc[test_df['id'] == 4839,'budget'] = 7\n",
    "test_df.loc[test_df['id'] == 3125,'budget'] = 25 \n",
    "test_df.loc[test_df['id'] == 3142,'budget'] = 1\n",
    "test_df.loc[test_df['id'] == 3201,'budget'] = 450\n",
    "test_df.loc[test_df['id'] == 3222,'budget'] = 6\n",
    "test_df.loc[test_df['id'] == 3545,'budget'] = 38\n",
    "test_df.loc[test_df['id'] == 3670,'budget'] = 18\n",
    "test_df.loc[test_df['id'] == 3792,'budget'] = 19\n",
    "test_df.loc[test_df['id'] == 3881,'budget'] = 7\n",
    "test_df.loc[test_df['id'] == 3969,'budget'] = 400\n",
    "test_df.loc[test_df['id'] == 4196,'budget'] = 6\n",
    "test_df.loc[test_df['id'] == 4221,'budget'] = 11\n",
    "test_df.loc[test_df['id'] == 4222,'budget'] = 500\n",
    "test_df.loc[test_df['id'] == 4285,'budget'] = 11\n",
    "test_df.loc[test_df['id'] == 4319,'budget'] = 1\n",
    "test_df.loc[test_df['id'] == 4639,'budget'] = 10\n",
    "test_df.loc[test_df['id'] == 4719,'budget'] = 45\n",
    "test_df.loc[test_df['id'] == 4822,'budget'] = 22\n",
    "test_df.loc[test_df['id'] == 4829,'budget'] = 20\n",
    "test_df.loc[test_df['id'] == 4969,'budget'] = 20\n",
    "test_df.loc[test_df['id'] == 5021,'budget'] = 40 \n",
    "test_df.loc[test_df['id'] == 5035,'budget'] = 1 \n",
    "test_df.loc[test_df['id'] == 5063,'budget'] = 14 \n",
    "test_df.loc[test_df['id'] == 5119,'budget'] = 2 \n",
    "test_df.loc[test_df['id'] == 5214,'budget'] = 30 \n",
    "test_df.loc[test_df['id'] == 5221,'budget'] = 50 \n",
    "test_df.loc[test_df['id'] == 4903,'budget'] = 15\n",
    "test_df.loc[test_df['id'] == 4983,'budget'] = 3\n",
    "test_df.loc[test_df['id'] == 5102,'budget'] = 28\n",
    "test_df.loc[test_df['id'] == 5217,'budget'] = 75\n",
    "test_df.loc[test_df['id'] == 5224,'budget'] = 3 \n",
    "test_df.loc[test_df['id'] == 5469,'budget'] = 20 \n",
    "test_df.loc[test_df['id'] == 5840,'budget'] = 1 \n",
    "test_df.loc[test_df['id'] == 5960,'budget'] = 30\n",
    "test_df.loc[test_df['id'] == 6506,'budget'] = 11 \n",
    "test_df.loc[test_df['id'] == 6553,'budget'] = 280\n",
    "test_df.loc[test_df['id'] == 6561,'budget'] = 7\n",
    "test_df.loc[test_df['id'] == 6582,'budget'] = 218\n",
    "test_df.loc[test_df['id'] == 6638,'budget'] = 5\n",
    "test_df.loc[test_df['id'] == 6749,'budget'] = 8 \n",
    "test_df.loc[test_df['id'] == 6759,'budget'] = 50 \n",
    "test_df.loc[test_df['id'] == 6856,'budget'] = 10\n",
    "test_df.loc[test_df['id'] == 6858,'budget'] =  100\n",
    "test_df.loc[test_df['id'] == 6876,'budget'] =  250\n",
    "test_df.loc[test_df['id'] == 6972,'budget'] = 1\n",
    "test_df.loc[test_df['id'] == 7079,'budget'] = 8000000\n",
    "test_df.loc[test_df['id'] == 7150,'budget'] = 118\n",
    "test_df.loc[test_df['id'] == 6506,'budget'] = 118\n",
    "test_df.loc[test_df['id'] == 7225,'budget'] = 6\n",
    "test_df.loc[test_df['id'] == 7231,'budget'] = 85\n",
    "test_df.loc[test_df['id'] == 5222,'budget'] = 5\n",
    "test_df.loc[test_df['id'] == 5322,'budget'] = 90\n",
    "test_df.loc[test_df['id'] == 5350,'budget'] = 70\n",
    "test_df.loc[test_df['id'] == 5378,'budget'] = 10\n",
    "test_df.loc[test_df['id'] == 5545,'budget'] = 80\n",
    "test_df.loc[test_df['id'] == 5810,'budget'] = 8\n",
    "test_df.loc[test_df['id'] == 5926,'budget'] = 300\n",
    "test_df.loc[test_df['id'] == 5927,'budget'] = 4\n",
    "test_df.loc[test_df['id'] == 5986,'budget'] = 1\n",
    "test_df.loc[test_df['id'] == 6053,'budget'] = 20\n",
    "test_df.loc[test_df['id'] == 6104,'budget'] = 1\n",
    "test_df.loc[test_df['id'] == 6130,'budget'] = 30\n",
    "test_df.loc[test_df['id'] == 6301,'budget'] = 150\n",
    "test_df.loc[test_df['id'] == 6276,'budget'] = 100\n",
    "test_df.loc[test_df['id'] == 6473,'budget'] = 100\n",
    "test_df.loc[test_df['id'] == 6842,'budget'] = 30"
   ]
  },
  {
   "cell_type": "markdown",
   "metadata": {},
   "source": [
    "### Categorical Data"
   ]
  },
  {
   "cell_type": "markdown",
   "metadata": {},
   "source": [
    "Vediamo quali sono le colonne con dati categoriali:"
   ]
  },
  {
   "cell_type": "code",
   "execution_count": 36,
   "metadata": {
    "scrolled": false
   },
   "outputs": [
    {
     "data": {
      "text/html": [
       "<div>\n",
       "<style scoped>\n",
       "    .dataframe tbody tr th:only-of-type {\n",
       "        vertical-align: middle;\n",
       "    }\n",
       "\n",
       "    .dataframe tbody tr th {\n",
       "        vertical-align: top;\n",
       "    }\n",
       "\n",
       "    .dataframe thead th {\n",
       "        text-align: right;\n",
       "    }\n",
       "</style>\n",
       "<table border=\"1\" class=\"dataframe\">\n",
       "  <thead>\n",
       "    <tr style=\"text-align: right;\">\n",
       "      <th></th>\n",
       "      <th>Keywords</th>\n",
       "      <th>belongs_to_collection</th>\n",
       "      <th>cast</th>\n",
       "      <th>crew</th>\n",
       "      <th>genres</th>\n",
       "      <th>homepage</th>\n",
       "      <th>original_language</th>\n",
       "      <th>overview</th>\n",
       "      <th>production_companies</th>\n",
       "      <th>production_countries</th>\n",
       "      <th>release_date_day</th>\n",
       "      <th>release_date_month</th>\n",
       "      <th>release_date_weekday</th>\n",
       "      <th>release_date_year</th>\n",
       "      <th>spoken_languages</th>\n",
       "      <th>status</th>\n",
       "      <th>tagline</th>\n",
       "      <th>title</th>\n",
       "    </tr>\n",
       "  </thead>\n",
       "  <tbody>\n",
       "    <tr>\n",
       "      <th>0</th>\n",
       "      <td>[{'id': 4379, 'name': 'time travel'}, {'id': 9...</td>\n",
       "      <td>[{'id': 313576, 'name': 'Hot Tub Time Machine ...</td>\n",
       "      <td>[{'cast_id': 4, 'character': 'Lou', 'credit_id...</td>\n",
       "      <td>[{'credit_id': '59ac067c92514107af02c8c8', 'de...</td>\n",
       "      <td>[{'id': 35, 'name': 'Comedy'}]</td>\n",
       "      <td>NaN</td>\n",
       "      <td>en</td>\n",
       "      <td>When Lou, who has become the \"father of the In...</td>\n",
       "      <td>[{'name': 'Paramount Pictures', 'id': 4}, {'na...</td>\n",
       "      <td>[{'iso_3166_1': 'US', 'name': 'United States o...</td>\n",
       "      <td>20</td>\n",
       "      <td>2</td>\n",
       "      <td>4</td>\n",
       "      <td>2015</td>\n",
       "      <td>[{'iso_639_1': 'en', 'name': 'English'}]</td>\n",
       "      <td>Released</td>\n",
       "      <td>The Laws of Space and Time are About to be Vio...</td>\n",
       "      <td>Hot Tub Time Machine 2</td>\n",
       "    </tr>\n",
       "    <tr>\n",
       "      <th>1</th>\n",
       "      <td>[{'id': 2505, 'name': 'coronation'}, {'id': 42...</td>\n",
       "      <td>[{'id': 107674, 'name': 'The Princess Diaries ...</td>\n",
       "      <td>[{'cast_id': 1, 'character': 'Mia Thermopolis'...</td>\n",
       "      <td>[{'credit_id': '52fe43fe9251416c7502563d', 'de...</td>\n",
       "      <td>[{'id': 35, 'name': 'Comedy'}, {'id': 18, 'nam...</td>\n",
       "      <td>NaN</td>\n",
       "      <td>en</td>\n",
       "      <td>Mia Thermopolis is now a college graduate and ...</td>\n",
       "      <td>[{'name': 'Walt Disney Pictures', 'id': 2}]</td>\n",
       "      <td>[{'iso_3166_1': 'US', 'name': 'United States o...</td>\n",
       "      <td>6</td>\n",
       "      <td>8</td>\n",
       "      <td>4</td>\n",
       "      <td>2004</td>\n",
       "      <td>[{'iso_639_1': 'en', 'name': 'English'}]</td>\n",
       "      <td>Released</td>\n",
       "      <td>It can take a lifetime to find true love; she'...</td>\n",
       "      <td>The Princess Diaries 2: Royal Engagement</td>\n",
       "    </tr>\n",
       "    <tr>\n",
       "      <th>2</th>\n",
       "      <td>[{'id': 1416, 'name': 'jazz'}, {'id': 1523, 'n...</td>\n",
       "      <td>NaN</td>\n",
       "      <td>[{'cast_id': 5, 'character': 'Andrew Neimann',...</td>\n",
       "      <td>[{'credit_id': '54d5356ec3a3683ba0000039', 'de...</td>\n",
       "      <td>[{'id': 18, 'name': 'Drama'}]</td>\n",
       "      <td>http://sonyclassics.com/whiplash/</td>\n",
       "      <td>en</td>\n",
       "      <td>Under the direction of a ruthless instructor, ...</td>\n",
       "      <td>[{'name': 'Bold Films', 'id': 2266}, {'name': ...</td>\n",
       "      <td>[{'iso_3166_1': 'US', 'name': 'United States o...</td>\n",
       "      <td>10</td>\n",
       "      <td>10</td>\n",
       "      <td>4</td>\n",
       "      <td>2014</td>\n",
       "      <td>[{'iso_639_1': 'en', 'name': 'English'}]</td>\n",
       "      <td>Released</td>\n",
       "      <td>The road to greatness can take you to the edge.</td>\n",
       "      <td>Whiplash</td>\n",
       "    </tr>\n",
       "    <tr>\n",
       "      <th>3</th>\n",
       "      <td>[{'id': 10092, 'name': 'mystery'}, {'id': 1054...</td>\n",
       "      <td>NaN</td>\n",
       "      <td>[{'cast_id': 1, 'character': 'Vidya Bagchi', '...</td>\n",
       "      <td>[{'credit_id': '52fe48779251416c9108d6eb', 'de...</td>\n",
       "      <td>[{'id': 53, 'name': 'Thriller'}, {'id': 18, 'n...</td>\n",
       "      <td>http://kahaanithefilm.com/</td>\n",
       "      <td>hi</td>\n",
       "      <td>Vidya Bagchi (Vidya Balan) arrives in Kolkata ...</td>\n",
       "      <td>NaN</td>\n",
       "      <td>[{'iso_3166_1': 'IN', 'name': 'India'}]</td>\n",
       "      <td>9</td>\n",
       "      <td>3</td>\n",
       "      <td>4</td>\n",
       "      <td>2012</td>\n",
       "      <td>[{'iso_639_1': 'en', 'name': 'English'}, {'iso...</td>\n",
       "      <td>Released</td>\n",
       "      <td>NaN</td>\n",
       "      <td>Kahaani</td>\n",
       "    </tr>\n",
       "    <tr>\n",
       "      <th>4</th>\n",
       "      <td>NaN</td>\n",
       "      <td>NaN</td>\n",
       "      <td>[{'cast_id': 3, 'character': 'Chun-soo', 'cred...</td>\n",
       "      <td>[{'credit_id': '52fe464b9251416c75073b43', 'de...</td>\n",
       "      <td>[{'id': 28, 'name': 'Action'}, {'id': 53, 'nam...</td>\n",
       "      <td>NaN</td>\n",
       "      <td>ko</td>\n",
       "      <td>Marine Boy is the story of a former national s...</td>\n",
       "      <td>NaN</td>\n",
       "      <td>[{'iso_3166_1': 'KR', 'name': 'South Korea'}]</td>\n",
       "      <td>5</td>\n",
       "      <td>2</td>\n",
       "      <td>3</td>\n",
       "      <td>2009</td>\n",
       "      <td>[{'iso_639_1': 'ko', 'name': '한국어/조선말'}]</td>\n",
       "      <td>Released</td>\n",
       "      <td>NaN</td>\n",
       "      <td>Marine Boy</td>\n",
       "    </tr>\n",
       "  </tbody>\n",
       "</table>\n",
       "</div>"
      ],
      "text/plain": [
       "                                            Keywords  \\\n",
       "0  [{'id': 4379, 'name': 'time travel'}, {'id': 9...   \n",
       "1  [{'id': 2505, 'name': 'coronation'}, {'id': 42...   \n",
       "2  [{'id': 1416, 'name': 'jazz'}, {'id': 1523, 'n...   \n",
       "3  [{'id': 10092, 'name': 'mystery'}, {'id': 1054...   \n",
       "4                                                NaN   \n",
       "\n",
       "                               belongs_to_collection  \\\n",
       "0  [{'id': 313576, 'name': 'Hot Tub Time Machine ...   \n",
       "1  [{'id': 107674, 'name': 'The Princess Diaries ...   \n",
       "2                                                NaN   \n",
       "3                                                NaN   \n",
       "4                                                NaN   \n",
       "\n",
       "                                                cast  \\\n",
       "0  [{'cast_id': 4, 'character': 'Lou', 'credit_id...   \n",
       "1  [{'cast_id': 1, 'character': 'Mia Thermopolis'...   \n",
       "2  [{'cast_id': 5, 'character': 'Andrew Neimann',...   \n",
       "3  [{'cast_id': 1, 'character': 'Vidya Bagchi', '...   \n",
       "4  [{'cast_id': 3, 'character': 'Chun-soo', 'cred...   \n",
       "\n",
       "                                                crew  \\\n",
       "0  [{'credit_id': '59ac067c92514107af02c8c8', 'de...   \n",
       "1  [{'credit_id': '52fe43fe9251416c7502563d', 'de...   \n",
       "2  [{'credit_id': '54d5356ec3a3683ba0000039', 'de...   \n",
       "3  [{'credit_id': '52fe48779251416c9108d6eb', 'de...   \n",
       "4  [{'credit_id': '52fe464b9251416c75073b43', 'de...   \n",
       "\n",
       "                                              genres  \\\n",
       "0                     [{'id': 35, 'name': 'Comedy'}]   \n",
       "1  [{'id': 35, 'name': 'Comedy'}, {'id': 18, 'nam...   \n",
       "2                      [{'id': 18, 'name': 'Drama'}]   \n",
       "3  [{'id': 53, 'name': 'Thriller'}, {'id': 18, 'n...   \n",
       "4  [{'id': 28, 'name': 'Action'}, {'id': 53, 'nam...   \n",
       "\n",
       "                            homepage original_language  \\\n",
       "0                                NaN                en   \n",
       "1                                NaN                en   \n",
       "2  http://sonyclassics.com/whiplash/                en   \n",
       "3         http://kahaanithefilm.com/                hi   \n",
       "4                                NaN                ko   \n",
       "\n",
       "                                            overview  \\\n",
       "0  When Lou, who has become the \"father of the In...   \n",
       "1  Mia Thermopolis is now a college graduate and ...   \n",
       "2  Under the direction of a ruthless instructor, ...   \n",
       "3  Vidya Bagchi (Vidya Balan) arrives in Kolkata ...   \n",
       "4  Marine Boy is the story of a former national s...   \n",
       "\n",
       "                                production_companies  \\\n",
       "0  [{'name': 'Paramount Pictures', 'id': 4}, {'na...   \n",
       "1        [{'name': 'Walt Disney Pictures', 'id': 2}]   \n",
       "2  [{'name': 'Bold Films', 'id': 2266}, {'name': ...   \n",
       "3                                                NaN   \n",
       "4                                                NaN   \n",
       "\n",
       "                                production_countries  release_date_day  \\\n",
       "0  [{'iso_3166_1': 'US', 'name': 'United States o...                20   \n",
       "1  [{'iso_3166_1': 'US', 'name': 'United States o...                 6   \n",
       "2  [{'iso_3166_1': 'US', 'name': 'United States o...                10   \n",
       "3            [{'iso_3166_1': 'IN', 'name': 'India'}]                 9   \n",
       "4      [{'iso_3166_1': 'KR', 'name': 'South Korea'}]                 5   \n",
       "\n",
       "   release_date_month  release_date_weekday  release_date_year  \\\n",
       "0                   2                     4               2015   \n",
       "1                   8                     4               2004   \n",
       "2                  10                     4               2014   \n",
       "3                   3                     4               2012   \n",
       "4                   2                     3               2009   \n",
       "\n",
       "                                    spoken_languages    status  \\\n",
       "0           [{'iso_639_1': 'en', 'name': 'English'}]  Released   \n",
       "1           [{'iso_639_1': 'en', 'name': 'English'}]  Released   \n",
       "2           [{'iso_639_1': 'en', 'name': 'English'}]  Released   \n",
       "3  [{'iso_639_1': 'en', 'name': 'English'}, {'iso...  Released   \n",
       "4           [{'iso_639_1': 'ko', 'name': '한국어/조선말'}]  Released   \n",
       "\n",
       "                                             tagline  \\\n",
       "0  The Laws of Space and Time are About to be Vio...   \n",
       "1  It can take a lifetime to find true love; she'...   \n",
       "2    The road to greatness can take you to the edge.   \n",
       "3                                                NaN   \n",
       "4                                                NaN   \n",
       "\n",
       "                                      title  \n",
       "0                    Hot Tub Time Machine 2  \n",
       "1  The Princess Diaries 2: Royal Engagement  \n",
       "2                                  Whiplash  \n",
       "3                                   Kahaani  \n",
       "4                                Marine Boy  "
      ]
     },
     "execution_count": 36,
     "metadata": {},
     "output_type": "execute_result"
    }
   ],
   "source": [
    "numerical_col = ['id', 'budget', 'popularity', 'runtime', 'revenue', 'log_revenue']\n",
    "train_df[train_df.columns.difference(numerical_col)].head()"
   ]
  },
  {
   "cell_type": "markdown",
   "metadata": {},
   "source": [
    "Sembra che alcuni dati siano nel formato dizionario, meglio sistemarli..."
   ]
  },
  {
   "cell_type": "code",
   "execution_count": 37,
   "metadata": {
    "scrolled": true
   },
   "outputs": [],
   "source": [
    "series_cols = ['belongs_to_collection', 'genres','production_companies',\n",
    "                'production_countries', 'spoken_languages', 'Keywords', 'cast', 'crew']\n",
    "#Converto i dati nel vero formato dizionario\n",
    "for df in [train_df, test_df]:\n",
    "    for column in series_cols:\n",
    "        df[column] = df[column].apply(lambda s: [] if pd.isnull(s) else eval(s))"
   ]
  },
  {
   "cell_type": "code",
   "execution_count": 38,
   "metadata": {
    "scrolled": false
   },
   "outputs": [
    {
     "data": {
      "text/html": [
       "<div>\n",
       "<style scoped>\n",
       "    .dataframe tbody tr th:only-of-type {\n",
       "        vertical-align: middle;\n",
       "    }\n",
       "\n",
       "    .dataframe tbody tr th {\n",
       "        vertical-align: top;\n",
       "    }\n",
       "\n",
       "    .dataframe thead th {\n",
       "        text-align: right;\n",
       "    }\n",
       "</style>\n",
       "<table border=\"1\" class=\"dataframe\">\n",
       "  <thead>\n",
       "    <tr style=\"text-align: right;\">\n",
       "      <th></th>\n",
       "      <th>id</th>\n",
       "      <th>belongs_to_collection</th>\n",
       "      <th>budget</th>\n",
       "      <th>genres</th>\n",
       "      <th>homepage</th>\n",
       "      <th>original_language</th>\n",
       "      <th>overview</th>\n",
       "      <th>popularity</th>\n",
       "      <th>production_companies</th>\n",
       "      <th>production_countries</th>\n",
       "      <th>runtime</th>\n",
       "      <th>spoken_languages</th>\n",
       "      <th>status</th>\n",
       "      <th>tagline</th>\n",
       "      <th>title</th>\n",
       "      <th>Keywords</th>\n",
       "      <th>cast</th>\n",
       "      <th>crew</th>\n",
       "      <th>revenue</th>\n",
       "      <th>release_date_year</th>\n",
       "      <th>release_date_weekday</th>\n",
       "      <th>release_date_month</th>\n",
       "      <th>release_date_day</th>\n",
       "    </tr>\n",
       "  </thead>\n",
       "  <tbody>\n",
       "    <tr>\n",
       "      <th>0</th>\n",
       "      <td>1</td>\n",
       "      <td>[{'id': 313576, 'name': 'Hot Tub Time Machine ...</td>\n",
       "      <td>14000000</td>\n",
       "      <td>[{'id': 35, 'name': 'Comedy'}]</td>\n",
       "      <td>NaN</td>\n",
       "      <td>en</td>\n",
       "      <td>When Lou, who has become the \"father of the In...</td>\n",
       "      <td>6.575393</td>\n",
       "      <td>[{'name': 'Paramount Pictures', 'id': 4}, {'na...</td>\n",
       "      <td>[{'iso_3166_1': 'US', 'name': 'United States o...</td>\n",
       "      <td>93.0</td>\n",
       "      <td>[{'iso_639_1': 'en', 'name': 'English'}]</td>\n",
       "      <td>Released</td>\n",
       "      <td>The Laws of Space and Time are About to be Vio...</td>\n",
       "      <td>Hot Tub Time Machine 2</td>\n",
       "      <td>[{'id': 4379, 'name': 'time travel'}, {'id': 9...</td>\n",
       "      <td>[{'cast_id': 4, 'character': 'Lou', 'credit_id...</td>\n",
       "      <td>[{'credit_id': '59ac067c92514107af02c8c8', 'de...</td>\n",
       "      <td>12314651</td>\n",
       "      <td>2015</td>\n",
       "      <td>4</td>\n",
       "      <td>2</td>\n",
       "      <td>20</td>\n",
       "    </tr>\n",
       "    <tr>\n",
       "      <th>1</th>\n",
       "      <td>2</td>\n",
       "      <td>[{'id': 107674, 'name': 'The Princess Diaries ...</td>\n",
       "      <td>40000000</td>\n",
       "      <td>[{'id': 35, 'name': 'Comedy'}, {'id': 18, 'nam...</td>\n",
       "      <td>NaN</td>\n",
       "      <td>en</td>\n",
       "      <td>Mia Thermopolis is now a college graduate and ...</td>\n",
       "      <td>8.248895</td>\n",
       "      <td>[{'name': 'Walt Disney Pictures', 'id': 2}]</td>\n",
       "      <td>[{'iso_3166_1': 'US', 'name': 'United States o...</td>\n",
       "      <td>113.0</td>\n",
       "      <td>[{'iso_639_1': 'en', 'name': 'English'}]</td>\n",
       "      <td>Released</td>\n",
       "      <td>It can take a lifetime to find true love; she'...</td>\n",
       "      <td>The Princess Diaries 2: Royal Engagement</td>\n",
       "      <td>[{'id': 2505, 'name': 'coronation'}, {'id': 42...</td>\n",
       "      <td>[{'cast_id': 1, 'character': 'Mia Thermopolis'...</td>\n",
       "      <td>[{'credit_id': '52fe43fe9251416c7502563d', 'de...</td>\n",
       "      <td>95149435</td>\n",
       "      <td>2004</td>\n",
       "      <td>4</td>\n",
       "      <td>8</td>\n",
       "      <td>6</td>\n",
       "    </tr>\n",
       "    <tr>\n",
       "      <th>2</th>\n",
       "      <td>3</td>\n",
       "      <td>[]</td>\n",
       "      <td>3300000</td>\n",
       "      <td>[{'id': 18, 'name': 'Drama'}]</td>\n",
       "      <td>http://sonyclassics.com/whiplash/</td>\n",
       "      <td>en</td>\n",
       "      <td>Under the direction of a ruthless instructor, ...</td>\n",
       "      <td>64.299990</td>\n",
       "      <td>[{'name': 'Bold Films', 'id': 2266}, {'name': ...</td>\n",
       "      <td>[{'iso_3166_1': 'US', 'name': 'United States o...</td>\n",
       "      <td>105.0</td>\n",
       "      <td>[{'iso_639_1': 'en', 'name': 'English'}]</td>\n",
       "      <td>Released</td>\n",
       "      <td>The road to greatness can take you to the edge.</td>\n",
       "      <td>Whiplash</td>\n",
       "      <td>[{'id': 1416, 'name': 'jazz'}, {'id': 1523, 'n...</td>\n",
       "      <td>[{'cast_id': 5, 'character': 'Andrew Neimann',...</td>\n",
       "      <td>[{'credit_id': '54d5356ec3a3683ba0000039', 'de...</td>\n",
       "      <td>13092000</td>\n",
       "      <td>2014</td>\n",
       "      <td>4</td>\n",
       "      <td>10</td>\n",
       "      <td>10</td>\n",
       "    </tr>\n",
       "    <tr>\n",
       "      <th>3</th>\n",
       "      <td>4</td>\n",
       "      <td>[]</td>\n",
       "      <td>1200000</td>\n",
       "      <td>[{'id': 53, 'name': 'Thriller'}, {'id': 18, 'n...</td>\n",
       "      <td>http://kahaanithefilm.com/</td>\n",
       "      <td>hi</td>\n",
       "      <td>Vidya Bagchi (Vidya Balan) arrives in Kolkata ...</td>\n",
       "      <td>3.174936</td>\n",
       "      <td>[]</td>\n",
       "      <td>[{'iso_3166_1': 'IN', 'name': 'India'}]</td>\n",
       "      <td>122.0</td>\n",
       "      <td>[{'iso_639_1': 'en', 'name': 'English'}, {'iso...</td>\n",
       "      <td>Released</td>\n",
       "      <td>NaN</td>\n",
       "      <td>Kahaani</td>\n",
       "      <td>[{'id': 10092, 'name': 'mystery'}, {'id': 1054...</td>\n",
       "      <td>[{'cast_id': 1, 'character': 'Vidya Bagchi', '...</td>\n",
       "      <td>[{'credit_id': '52fe48779251416c9108d6eb', 'de...</td>\n",
       "      <td>16000000</td>\n",
       "      <td>2012</td>\n",
       "      <td>4</td>\n",
       "      <td>3</td>\n",
       "      <td>9</td>\n",
       "    </tr>\n",
       "    <tr>\n",
       "      <th>4</th>\n",
       "      <td>5</td>\n",
       "      <td>[]</td>\n",
       "      <td>0</td>\n",
       "      <td>[{'id': 28, 'name': 'Action'}, {'id': 53, 'nam...</td>\n",
       "      <td>NaN</td>\n",
       "      <td>ko</td>\n",
       "      <td>Marine Boy is the story of a former national s...</td>\n",
       "      <td>1.148070</td>\n",
       "      <td>[]</td>\n",
       "      <td>[{'iso_3166_1': 'KR', 'name': 'South Korea'}]</td>\n",
       "      <td>118.0</td>\n",
       "      <td>[{'iso_639_1': 'ko', 'name': '한국어/조선말'}]</td>\n",
       "      <td>Released</td>\n",
       "      <td>NaN</td>\n",
       "      <td>Marine Boy</td>\n",
       "      <td>[]</td>\n",
       "      <td>[{'cast_id': 3, 'character': 'Chun-soo', 'cred...</td>\n",
       "      <td>[{'credit_id': '52fe464b9251416c75073b43', 'de...</td>\n",
       "      <td>3923970</td>\n",
       "      <td>2009</td>\n",
       "      <td>3</td>\n",
       "      <td>2</td>\n",
       "      <td>5</td>\n",
       "    </tr>\n",
       "  </tbody>\n",
       "</table>\n",
       "</div>"
      ],
      "text/plain": [
       "   id                              belongs_to_collection    budget  \\\n",
       "0   1  [{'id': 313576, 'name': 'Hot Tub Time Machine ...  14000000   \n",
       "1   2  [{'id': 107674, 'name': 'The Princess Diaries ...  40000000   \n",
       "2   3                                                 []   3300000   \n",
       "3   4                                                 []   1200000   \n",
       "4   5                                                 []         0   \n",
       "\n",
       "                                              genres  \\\n",
       "0                     [{'id': 35, 'name': 'Comedy'}]   \n",
       "1  [{'id': 35, 'name': 'Comedy'}, {'id': 18, 'nam...   \n",
       "2                      [{'id': 18, 'name': 'Drama'}]   \n",
       "3  [{'id': 53, 'name': 'Thriller'}, {'id': 18, 'n...   \n",
       "4  [{'id': 28, 'name': 'Action'}, {'id': 53, 'nam...   \n",
       "\n",
       "                            homepage original_language  \\\n",
       "0                                NaN                en   \n",
       "1                                NaN                en   \n",
       "2  http://sonyclassics.com/whiplash/                en   \n",
       "3         http://kahaanithefilm.com/                hi   \n",
       "4                                NaN                ko   \n",
       "\n",
       "                                            overview  popularity  \\\n",
       "0  When Lou, who has become the \"father of the In...    6.575393   \n",
       "1  Mia Thermopolis is now a college graduate and ...    8.248895   \n",
       "2  Under the direction of a ruthless instructor, ...   64.299990   \n",
       "3  Vidya Bagchi (Vidya Balan) arrives in Kolkata ...    3.174936   \n",
       "4  Marine Boy is the story of a former national s...    1.148070   \n",
       "\n",
       "                                production_companies  \\\n",
       "0  [{'name': 'Paramount Pictures', 'id': 4}, {'na...   \n",
       "1        [{'name': 'Walt Disney Pictures', 'id': 2}]   \n",
       "2  [{'name': 'Bold Films', 'id': 2266}, {'name': ...   \n",
       "3                                                 []   \n",
       "4                                                 []   \n",
       "\n",
       "                                production_countries  runtime  \\\n",
       "0  [{'iso_3166_1': 'US', 'name': 'United States o...     93.0   \n",
       "1  [{'iso_3166_1': 'US', 'name': 'United States o...    113.0   \n",
       "2  [{'iso_3166_1': 'US', 'name': 'United States o...    105.0   \n",
       "3            [{'iso_3166_1': 'IN', 'name': 'India'}]    122.0   \n",
       "4      [{'iso_3166_1': 'KR', 'name': 'South Korea'}]    118.0   \n",
       "\n",
       "                                    spoken_languages    status  \\\n",
       "0           [{'iso_639_1': 'en', 'name': 'English'}]  Released   \n",
       "1           [{'iso_639_1': 'en', 'name': 'English'}]  Released   \n",
       "2           [{'iso_639_1': 'en', 'name': 'English'}]  Released   \n",
       "3  [{'iso_639_1': 'en', 'name': 'English'}, {'iso...  Released   \n",
       "4           [{'iso_639_1': 'ko', 'name': '한국어/조선말'}]  Released   \n",
       "\n",
       "                                             tagline  \\\n",
       "0  The Laws of Space and Time are About to be Vio...   \n",
       "1  It can take a lifetime to find true love; she'...   \n",
       "2    The road to greatness can take you to the edge.   \n",
       "3                                                NaN   \n",
       "4                                                NaN   \n",
       "\n",
       "                                      title  \\\n",
       "0                    Hot Tub Time Machine 2   \n",
       "1  The Princess Diaries 2: Royal Engagement   \n",
       "2                                  Whiplash   \n",
       "3                                   Kahaani   \n",
       "4                                Marine Boy   \n",
       "\n",
       "                                            Keywords  \\\n",
       "0  [{'id': 4379, 'name': 'time travel'}, {'id': 9...   \n",
       "1  [{'id': 2505, 'name': 'coronation'}, {'id': 42...   \n",
       "2  [{'id': 1416, 'name': 'jazz'}, {'id': 1523, 'n...   \n",
       "3  [{'id': 10092, 'name': 'mystery'}, {'id': 1054...   \n",
       "4                                                 []   \n",
       "\n",
       "                                                cast  \\\n",
       "0  [{'cast_id': 4, 'character': 'Lou', 'credit_id...   \n",
       "1  [{'cast_id': 1, 'character': 'Mia Thermopolis'...   \n",
       "2  [{'cast_id': 5, 'character': 'Andrew Neimann',...   \n",
       "3  [{'cast_id': 1, 'character': 'Vidya Bagchi', '...   \n",
       "4  [{'cast_id': 3, 'character': 'Chun-soo', 'cred...   \n",
       "\n",
       "                                                crew   revenue  \\\n",
       "0  [{'credit_id': '59ac067c92514107af02c8c8', 'de...  12314651   \n",
       "1  [{'credit_id': '52fe43fe9251416c7502563d', 'de...  95149435   \n",
       "2  [{'credit_id': '54d5356ec3a3683ba0000039', 'de...  13092000   \n",
       "3  [{'credit_id': '52fe48779251416c9108d6eb', 'de...  16000000   \n",
       "4  [{'credit_id': '52fe464b9251416c75073b43', 'de...   3923970   \n",
       "\n",
       "   release_date_year  release_date_weekday  release_date_month  \\\n",
       "0               2015                     4                   2   \n",
       "1               2004                     4                   8   \n",
       "2               2014                     4                  10   \n",
       "3               2012                     4                   3   \n",
       "4               2009                     3                   2   \n",
       "\n",
       "   release_date_day  \n",
       "0                20  \n",
       "1                 6  \n",
       "2                10  \n",
       "3                 9  \n",
       "4                 5  "
      ]
     },
     "execution_count": 38,
     "metadata": {},
     "output_type": "execute_result"
    }
   ],
   "source": [
    "train_df.head()"
   ]
  },
  {
   "cell_type": "markdown",
   "metadata": {},
   "source": [
    "Esamino ogni colonna nel dettaglio per cercare le migliori feature da utilizzare per la predizione."
   ]
  },
  {
   "cell_type": "markdown",
   "metadata": {},
   "source": [
    "#### 'belongs_to_collection'"
   ]
  },
  {
   "cell_type": "markdown",
   "metadata": {},
   "source": [
    "Dalla tabella delle informazioni sul dataset che ho creato all'inizio, noto che mancano molte informazioni per questa colonna."
   ]
  },
  {
   "cell_type": "code",
   "execution_count": 39,
   "metadata": {
    "scrolled": true
   },
   "outputs": [
    {
     "data": {
      "text/plain": [
       "0    2396\n",
       "1     604\n",
       "Name: belongs_to_collection, dtype: int64"
      ]
     },
     "execution_count": 39,
     "metadata": {},
     "output_type": "execute_result"
    }
   ],
   "source": [
    "train_df['belongs_to_collection'].apply(lambda x: len(x) if x != {} else 0).value_counts()"
   ]
  },
  {
   "cell_type": "markdown",
   "metadata": {},
   "source": [
    "Da questi dati posso ricavare come feature 'has_collection', mettendo 1 se il film appartiene ad una collezione e 0 altrimenti."
   ]
  },
  {
   "cell_type": "code",
   "execution_count": 40,
   "metadata": {
    "scrolled": true
   },
   "outputs": [],
   "source": [
    "for df in [train_df, test_df]:\n",
    "    df['has_collection'] = df['belongs_to_collection'].apply(lambda x: len(x) if x != {} else 0)\n",
    "    df.drop(columns = 'belongs_to_collection', inplace=True)"
   ]
  },
  {
   "cell_type": "code",
   "execution_count": 41,
   "metadata": {
    "scrolled": false
   },
   "outputs": [
    {
     "data": {
      "text/plain": [
       "<seaborn.axisgrid.FacetGrid at 0x1d0247ef430>"
      ]
     },
     "execution_count": 41,
     "metadata": {},
     "output_type": "execute_result"
    },
    {
     "data": {
      "image/png": "[encoded data removed]",
      "text/plain": [
       "<Figure size 360x360 with 1 Axes>"
      ]
     },
     "metadata": {
      "needs_background": "light"
     },
     "output_type": "display_data"
    }
   ],
   "source": [
    "sns.catplot(x = 'has_collection', y = 'revenue', data=train_df)"
   ]
  },
  {
   "cell_type": "markdown",
   "metadata": {},
   "source": [
    "#### 'homepage'"
   ]
  },
  {
   "cell_type": "markdown",
   "metadata": {},
   "source": [
    "Quanti sono i dati mancanti per la colonna 'homepage'?"
   ]
  },
  {
   "cell_type": "code",
   "execution_count": 42,
   "metadata": {
    "scrolled": true
   },
   "outputs": [
    {
     "data": {
      "text/plain": [
       "2054"
      ]
     },
     "execution_count": 42,
     "metadata": {},
     "output_type": "execute_result"
    }
   ],
   "source": [
    "train_df['homepage'].apply(lambda v: pd.isnull(v) == True).sum()"
   ]
  },
  {
   "cell_type": "markdown",
   "metadata": {},
   "source": [
    "Di nuovo, da questi dati posso ricavare come feature 'has_homepage', mettendo 1 se al film è associata una homepage e 0 altrimenti."
   ]
  },
  {
   "cell_type": "code",
   "execution_count": 43,
   "metadata": {
    "scrolled": true
   },
   "outputs": [],
   "source": [
    "for df in [train_df, test_df]:\n",
    "    df['has_homepage'] = df['homepage'].apply(lambda x: 1 if pd.isnull(x) == False else 0)\n",
    "    df.drop(columns = 'homepage', inplace=True)"
   ]
  },
  {
   "cell_type": "code",
   "execution_count": 44,
   "metadata": {
    "scrolled": false
   },
   "outputs": [
    {
     "data": {
      "text/plain": [
       "<seaborn.axisgrid.FacetGrid at 0x1d03a808190>"
      ]
     },
     "execution_count": 44,
     "metadata": {},
     "output_type": "execute_result"
    },
    {
     "data": {
      "image/png": "[encoded data removed]",
      "text/plain": [
       "<Figure size 360x360 with 1 Axes>"
      ]
     },
     "metadata": {
      "needs_background": "light"
     },
     "output_type": "display_data"
    }
   ],
   "source": [
    "sns.catplot(x = 'has_homepage', y = 'revenue', data=train_df)"
   ]
  },
  {
   "cell_type": "markdown",
   "metadata": {},
   "source": [
    "#### 'original_language'"
   ]
  },
  {
   "cell_type": "markdown",
   "metadata": {},
   "source": [
    "Per chiarezza creo un grafico per visualizzare l'impatto della lingua originale sull'incasso del film."
   ]
  },
  {
   "cell_type": "code",
   "execution_count": 45,
   "metadata": {
    "scrolled": false
   },
   "outputs": [
    {
     "data": {
      "text/plain": [
       "<AxesSubplot:xlabel='original_language', ylabel='revenue'>"
      ]
     },
     "execution_count": 45,
     "metadata": {},
     "output_type": "execute_result"
    },
    {
     "data": {
      "image/png": "[encoded data removed]",
      "text/plain": [
       "<Figure size 1152x576 with 1 Axes>"
      ]
     },
     "metadata": {
      "needs_background": "light"
     },
     "output_type": "display_data"
    }
   ],
   "source": [
    "plt.figure(figsize = (16, 8))\n",
    "plt.subplot(1, 2, 1)\n",
    "data = train_df.loc[train_df['original_language'].isin(train_df['original_language'].value_counts().head(10).index)]\n",
    "y = np.log1p(train_df['revenue'])\n",
    "sns.boxplot(x = 'original_language', y = y, data = data)"
   ]
  },
  {
   "cell_type": "code",
   "execution_count": 46,
   "metadata": {
    "scrolled": true
   },
   "outputs": [
    {
     "data": {
      "text/plain": [
       "[('en', 2575),\n",
       " ('fr', 78),\n",
       " ('ru', 47),\n",
       " ('es', 43),\n",
       " ('hi', 42),\n",
       " ('ja', 37),\n",
       " ('it', 24),\n",
       " ('ko', 20),\n",
       " ('cn', 20),\n",
       " ('zh', 19),\n",
       " ('de', 18),\n",
       " ('ta', 16),\n",
       " ('sv', 8),\n",
       " ('nl', 6),\n",
       " ('pt', 6),\n",
       " ('fa', 5),\n",
       " ('da', 5)]"
      ]
     },
     "execution_count": 46,
     "metadata": {},
     "output_type": "execute_result"
    }
   ],
   "source": [
    "top_original_language = Counter(train_df['original_language']).most_common(17)\n",
    "top_original_language"
   ]
  },
  {
   "cell_type": "markdown",
   "metadata": {},
   "source": [
    "Estraggo solo le 5 lingue con la media degli incassi più alta, le quali sono originali per almeno 5 film nel dataset."
   ]
  },
  {
   "cell_type": "code",
   "execution_count": 47,
   "metadata": {
    "scrolled": true
   },
   "outputs": [
    {
     "name": "stdout",
     "output_type": "stream",
     "text": [
      "  language    mean_revenue\n",
      "0       en  74614465.27184\n",
      "9       zh  70376369.15789\n",
      "5       ja  30651798.81081\n",
      "8       cn  29772885.25000\n",
      "4       hi  25346368.73810\n"
     ]
    }
   ],
   "source": [
    "lang = [x[0] for x in top_original_language]\n",
    "unique_names = pd.Series(lang).unique()\n",
    "dic = {}\n",
    "for l in unique_names:\n",
    "    language = train_df['original_language'].apply(lambda x: l in x)\n",
    "    dic[l] = train_df[language]['revenue'].mean()\n",
    "    \n",
    "##top 5 lingue originali con la media degli incassi più alta\n",
    "l_mean_revenue = pd.DataFrame.from_dict(dic, orient='index', columns = ['mean_revenue']).reset_index().rename(columns = {'index':'language'})\n",
    "l_mean_revenue = l_mean_revenue.nlargest(5, 'mean_revenue')\n",
    "list_top_languages = list(l_mean_revenue['language'])\n",
    "l_mean_revenue['mean_revenue'] = l_mean_revenue['mean_revenue'].apply(lambda x:  '{0:.5f}'.format(x))\n",
    "print(l_mean_revenue)\n",
    "\n",
    "for lang in list_top_languages: ## one hot encoding\n",
    "    train_df['orig_lang_' + lang] = train_df['original_language'].apply(lambda x: 1 if x == lang else 0)\n",
    "    test_df['orig_lang_' + lang] = test_df['original_language'].apply(lambda x: 1 if x == lang else 0)"
   ]
  },
  {
   "cell_type": "code",
   "execution_count": 48,
   "metadata": {
    "scrolled": true
   },
   "outputs": [],
   "source": [
    "for df in [train_df, test_df]:\n",
    "    df.drop(columns = 'original_language', inplace=True)"
   ]
  },
  {
   "cell_type": "markdown",
   "metadata": {},
   "source": [
    "#### 'overview'"
   ]
  },
  {
   "cell_type": "markdown",
   "metadata": {},
   "source": [
    "All'inizio ho pensato che fosse una buona idea creare delle feature facendo one hot encoding sulle parole più frequenti tra tutte le overview, però così facendo avrei creato molte colonne e questo potrebbe essere un problema.  \n",
    "Per questo mi limito a creare una feature per la lunghezza della overview per ogni film e, per le parole più frequenti, mi baso unicamente sulle keywords."
   ]
  },
  {
   "cell_type": "code",
   "execution_count": 49,
   "metadata": {
    "scrolled": true
   },
   "outputs": [],
   "source": [
    "for df in [train_df, test_df]:\n",
    "    df['overview'] = df['overview'].fillna(\"\")\n",
    "    df['overview_word_count'] = df['overview'].str.split().str.len()\n",
    "    df.drop(columns = 'overview', inplace=True)"
   ]
  },
  {
   "cell_type": "markdown",
   "metadata": {},
   "source": [
    "#### 'tagline'"
   ]
  },
  {
   "cell_type": "markdown",
   "metadata": {},
   "source": [
    "Faccio la stessa cosa per 'tagline'."
   ]
  },
  {
   "cell_type": "code",
   "execution_count": 50,
   "metadata": {
    "scrolled": true
   },
   "outputs": [],
   "source": [
    "for df in [train_df, test_df]:\n",
    "    df['tagline'] = df['tagline'].fillna(\"\")\n",
    "    df['tagline_word_count'] = df['tagline'].str.split().str.len()\n",
    "    df.drop(columns = 'tagline', inplace=True)"
   ]
  },
  {
   "cell_type": "markdown",
   "metadata": {},
   "source": [
    "#### 'status'"
   ]
  },
  {
   "cell_type": "markdown",
   "metadata": {},
   "source": [
    "Da una prima esplorazione del dataset sembrava che molti film avessero come stato 'released', quindi vediamo effettivamente quanti film non lo hanno:"
   ]
  },
  {
   "cell_type": "code",
   "execution_count": 51,
   "metadata": {
    "scrolled": false
   },
   "outputs": [
    {
     "data": {
      "text/html": [
       "<div>\n",
       "<style scoped>\n",
       "    .dataframe tbody tr th:only-of-type {\n",
       "        vertical-align: middle;\n",
       "    }\n",
       "\n",
       "    .dataframe tbody tr th {\n",
       "        vertical-align: top;\n",
       "    }\n",
       "\n",
       "    .dataframe thead th {\n",
       "        text-align: right;\n",
       "    }\n",
       "</style>\n",
       "<table border=\"1\" class=\"dataframe\">\n",
       "  <thead>\n",
       "    <tr style=\"text-align: right;\">\n",
       "      <th></th>\n",
       "      <th>id</th>\n",
       "      <th>budget</th>\n",
       "      <th>genres</th>\n",
       "      <th>popularity</th>\n",
       "      <th>production_companies</th>\n",
       "      <th>production_countries</th>\n",
       "      <th>runtime</th>\n",
       "      <th>spoken_languages</th>\n",
       "      <th>status</th>\n",
       "      <th>title</th>\n",
       "      <th>Keywords</th>\n",
       "      <th>cast</th>\n",
       "      <th>crew</th>\n",
       "      <th>revenue</th>\n",
       "      <th>release_date_year</th>\n",
       "      <th>release_date_weekday</th>\n",
       "      <th>release_date_month</th>\n",
       "      <th>release_date_day</th>\n",
       "      <th>has_collection</th>\n",
       "      <th>has_homepage</th>\n",
       "      <th>orig_lang_en</th>\n",
       "      <th>orig_lang_zh</th>\n",
       "      <th>orig_lang_ja</th>\n",
       "      <th>orig_lang_cn</th>\n",
       "      <th>orig_lang_hi</th>\n",
       "      <th>overview_word_count</th>\n",
       "      <th>tagline_word_count</th>\n",
       "    </tr>\n",
       "  </thead>\n",
       "  <tbody>\n",
       "    <tr>\n",
       "      <th>609</th>\n",
       "      <td>610</td>\n",
       "      <td>0</td>\n",
       "      <td>[{'id': 14, 'name': 'Fantasy'}, {'id': 16, 'na...</td>\n",
       "      <td>5.121309</td>\n",
       "      <td>[]</td>\n",
       "      <td>[]</td>\n",
       "      <td>71.0</td>\n",
       "      <td>[{'iso_639_1': 'da', 'name': 'Dansk'}, {'iso_6...</td>\n",
       "      <td>Rumored</td>\n",
       "      <td>The Swan Princess: Escape from Castle Mountain</td>\n",
       "      <td>[{'id': 3071, 'name': 'prince'}, {'id': 4456, ...</td>\n",
       "      <td>[{'cast_id': 2, 'character': 'Odette (voice)',...</td>\n",
       "      <td>[{'credit_id': '52fe488bc3a36847f816cfd3', 'de...</td>\n",
       "      <td>273644</td>\n",
       "      <td>1997</td>\n",
       "      <td>2</td>\n",
       "      <td>1</td>\n",
       "      <td>1</td>\n",
       "      <td>1</td>\n",
       "      <td>0</td>\n",
       "      <td>1</td>\n",
       "      <td>0</td>\n",
       "      <td>0</td>\n",
       "      <td>0</td>\n",
       "      <td>0</td>\n",
       "      <td>49</td>\n",
       "      <td>10</td>\n",
       "    </tr>\n",
       "    <tr>\n",
       "      <th>1007</th>\n",
       "      <td>1008</td>\n",
       "      <td>0</td>\n",
       "      <td>[{'id': 35, 'name': 'Comedy'}]</td>\n",
       "      <td>0.007877</td>\n",
       "      <td>[]</td>\n",
       "      <td>[{'iso_3166_1': 'US', 'name': 'United States o...</td>\n",
       "      <td>60.0</td>\n",
       "      <td>[{'iso_639_1': 'en', 'name': 'English'}]</td>\n",
       "      <td>Rumored</td>\n",
       "      <td>Billy Gardell: Halftime</td>\n",
       "      <td>[]</td>\n",
       "      <td>[{'cast_id': 9, 'character': 'Himself', 'credi...</td>\n",
       "      <td>[{'credit_id': '52fe4be1c3a368484e19d265', 'de...</td>\n",
       "      <td>60</td>\n",
       "      <td>2011</td>\n",
       "      <td>5</td>\n",
       "      <td>2</td>\n",
       "      <td>5</td>\n",
       "      <td>0</td>\n",
       "      <td>0</td>\n",
       "      <td>1</td>\n",
       "      <td>0</td>\n",
       "      <td>0</td>\n",
       "      <td>0</td>\n",
       "      <td>0</td>\n",
       "      <td>31</td>\n",
       "      <td>0</td>\n",
       "    </tr>\n",
       "    <tr>\n",
       "      <th>1216</th>\n",
       "      <td>1217</td>\n",
       "      <td>0</td>\n",
       "      <td>[{'id': 18, 'name': 'Drama'}, {'id': 53, 'name...</td>\n",
       "      <td>10.273979</td>\n",
       "      <td>[{'name': 'Atlantic Entertainment Group', 'id'...</td>\n",
       "      <td>[{'iso_3166_1': 'US', 'name': 'United States o...</td>\n",
       "      <td>89.0</td>\n",
       "      <td>[{'iso_639_1': 'en', 'name': 'English'}]</td>\n",
       "      <td>Rumored</td>\n",
       "      <td>Extremities</td>\n",
       "      <td>[{'id': 2483, 'name': 'nudity'}, {'id': 2539, ...</td>\n",
       "      <td>[{'cast_id': 1, 'character': 'Marjorie', 'cred...</td>\n",
       "      <td>[{'credit_id': '582cca1c925141780b00259f', 'de...</td>\n",
       "      <td>13418091</td>\n",
       "      <td>1986</td>\n",
       "      <td>4</td>\n",
       "      <td>8</td>\n",
       "      <td>22</td>\n",
       "      <td>0</td>\n",
       "      <td>0</td>\n",
       "      <td>1</td>\n",
       "      <td>0</td>\n",
       "      <td>0</td>\n",
       "      <td>0</td>\n",
       "      <td>0</td>\n",
       "      <td>101</td>\n",
       "      <td>12</td>\n",
       "    </tr>\n",
       "    <tr>\n",
       "      <th>1618</th>\n",
       "      <td>1619</td>\n",
       "      <td>891000</td>\n",
       "      <td>[{'id': 99, 'name': 'Documentary'}]</td>\n",
       "      <td>0.179246</td>\n",
       "      <td>[]</td>\n",
       "      <td>[{'iso_3166_1': 'CA', 'name': 'Canada'}]</td>\n",
       "      <td>89.0</td>\n",
       "      <td>[{'iso_639_1': 'en', 'name': 'English'}, {'iso...</td>\n",
       "      <td>Rumored</td>\n",
       "      <td>A Place Called Chiapas</td>\n",
       "      <td>[{'id': 187056, 'name': 'woman director'}]</td>\n",
       "      <td>[{'cast_id': 1, 'character': 'Himself', 'credi...</td>\n",
       "      <td>[{'credit_id': '57b4f7619251417287000dfc', 'de...</td>\n",
       "      <td>229000</td>\n",
       "      <td>1998</td>\n",
       "      <td>4</td>\n",
       "      <td>2</td>\n",
       "      <td>20</td>\n",
       "      <td>0</td>\n",
       "      <td>0</td>\n",
       "      <td>1</td>\n",
       "      <td>0</td>\n",
       "      <td>0</td>\n",
       "      <td>0</td>\n",
       "      <td>0</td>\n",
       "      <td>134</td>\n",
       "      <td>6</td>\n",
       "    </tr>\n",
       "  </tbody>\n",
       "</table>\n",
       "</div>"
      ],
      "text/plain": [
       "        id  budget                                             genres  \\\n",
       "609    610       0  [{'id': 14, 'name': 'Fantasy'}, {'id': 16, 'na...   \n",
       "1007  1008       0                     [{'id': 35, 'name': 'Comedy'}]   \n",
       "1216  1217       0  [{'id': 18, 'name': 'Drama'}, {'id': 53, 'name...   \n",
       "1618  1619  891000                [{'id': 99, 'name': 'Documentary'}]   \n",
       "\n",
       "      popularity                               production_companies  \\\n",
       "609     5.121309                                                 []   \n",
       "1007    0.007877                                                 []   \n",
       "1216   10.273979  [{'name': 'Atlantic Entertainment Group', 'id'...   \n",
       "1618    0.179246                                                 []   \n",
       "\n",
       "                                   production_countries  runtime  \\\n",
       "609                                                  []     71.0   \n",
       "1007  [{'iso_3166_1': 'US', 'name': 'United States o...     60.0   \n",
       "1216  [{'iso_3166_1': 'US', 'name': 'United States o...     89.0   \n",
       "1618           [{'iso_3166_1': 'CA', 'name': 'Canada'}]     89.0   \n",
       "\n",
       "                                       spoken_languages   status  \\\n",
       "609   [{'iso_639_1': 'da', 'name': 'Dansk'}, {'iso_6...  Rumored   \n",
       "1007           [{'iso_639_1': 'en', 'name': 'English'}]  Rumored   \n",
       "1216           [{'iso_639_1': 'en', 'name': 'English'}]  Rumored   \n",
       "1618  [{'iso_639_1': 'en', 'name': 'English'}, {'iso...  Rumored   \n",
       "\n",
       "                                               title  \\\n",
       "609   The Swan Princess: Escape from Castle Mountain   \n",
       "1007                         Billy Gardell: Halftime   \n",
       "1216                                     Extremities   \n",
       "1618                          A Place Called Chiapas   \n",
       "\n",
       "                                               Keywords  \\\n",
       "609   [{'id': 3071, 'name': 'prince'}, {'id': 4456, ...   \n",
       "1007                                                 []   \n",
       "1216  [{'id': 2483, 'name': 'nudity'}, {'id': 2539, ...   \n",
       "1618         [{'id': 187056, 'name': 'woman director'}]   \n",
       "\n",
       "                                                   cast  \\\n",
       "609   [{'cast_id': 2, 'character': 'Odette (voice)',...   \n",
       "1007  [{'cast_id': 9, 'character': 'Himself', 'credi...   \n",
       "1216  [{'cast_id': 1, 'character': 'Marjorie', 'cred...   \n",
       "1618  [{'cast_id': 1, 'character': 'Himself', 'credi...   \n",
       "\n",
       "                                                   crew   revenue  \\\n",
       "609   [{'credit_id': '52fe488bc3a36847f816cfd3', 'de...    273644   \n",
       "1007  [{'credit_id': '52fe4be1c3a368484e19d265', 'de...        60   \n",
       "1216  [{'credit_id': '582cca1c925141780b00259f', 'de...  13418091   \n",
       "1618  [{'credit_id': '57b4f7619251417287000dfc', 'de...    229000   \n",
       "\n",
       "      release_date_year  release_date_weekday  release_date_month  \\\n",
       "609                1997                     2                   1   \n",
       "1007               2011                     5                   2   \n",
       "1216               1986                     4                   8   \n",
       "1618               1998                     4                   2   \n",
       "\n",
       "      release_date_day  has_collection  has_homepage  orig_lang_en  \\\n",
       "609                  1               1             0             1   \n",
       "1007                 5               0             0             1   \n",
       "1216                22               0             0             1   \n",
       "1618                20               0             0             1   \n",
       "\n",
       "      orig_lang_zh  orig_lang_ja  orig_lang_cn  orig_lang_hi  \\\n",
       "609              0             0             0             0   \n",
       "1007             0             0             0             0   \n",
       "1216             0             0             0             0   \n",
       "1618             0             0             0             0   \n",
       "\n",
       "      overview_word_count  tagline_word_count  \n",
       "609                    49                  10  \n",
       "1007                   31                   0  \n",
       "1216                  101                  12  \n",
       "1618                  134                   6  "
      ]
     },
     "execution_count": 51,
     "metadata": {},
     "output_type": "execute_result"
    }
   ],
   "source": [
    " train_df.query('status != \"Released\" ')"
   ]
  },
  {
   "cell_type": "markdown",
   "metadata": {},
   "source": [
    "Solo 4 film su 3000 non ha uno status, quindi lo elimino."
   ]
  },
  {
   "cell_type": "code",
   "execution_count": 52,
   "metadata": {
    "scrolled": true
   },
   "outputs": [],
   "source": [
    "for df in [train_df, test_df]:\n",
    "    df.drop(columns = 'status', inplace=True)"
   ]
  },
  {
   "cell_type": "markdown",
   "metadata": {},
   "source": [
    "#### 'title'"
   ]
  },
  {
   "cell_type": "markdown",
   "metadata": {},
   "source": [
    "Eseguo lo stesso procedimento che ho fatto per 'overview' e 'tagline':  "
   ]
  },
  {
   "cell_type": "code",
   "execution_count": 53,
   "metadata": {
    "scrolled": true
   },
   "outputs": [],
   "source": [
    "for df in [train_df, test_df]:\n",
    "    df['title'] = df['title'].fillna(\"\")\n",
    "    df['title_word_count'] = df['title'].str.split().str.len()\n",
    "    df.drop(columns = 'title', inplace=True)"
   ]
  },
  {
   "cell_type": "markdown",
   "metadata": {},
   "source": [
    "Posso eliminare anche 'id'"
   ]
  },
  {
   "cell_type": "code",
   "execution_count": 54,
   "metadata": {},
   "outputs": [],
   "source": [
    "for df in [train_df, test_df]:\n",
    "    df.drop(columns = 'id', inplace=True)"
   ]
  },
  {
   "cell_type": "markdown",
   "metadata": {},
   "source": [
    " "
   ]
  },
  {
   "cell_type": "markdown",
   "metadata": {},
   "source": [
    "**Ultimi ma non meno importanti:**"
   ]
  },
  {
   "cell_type": "markdown",
   "metadata": {},
   "source": [
    "### Dictionary Data"
   ]
  },
  {
   "cell_type": "markdown",
   "metadata": {},
   "source": [
    "Estraggo le feature più importanti dalle colonne di tipo dizionario:  \n",
    "- #### 'genres'"
   ]
  },
  {
   "cell_type": "code",
   "execution_count": 55,
   "metadata": {
    "scrolled": true
   },
   "outputs": [
    {
     "name": "stdout",
     "output_type": "stream",
     "text": [
      "[{'id': 35, 'name': 'Comedy'}]\n",
      "[{'id': 35, 'name': 'Comedy'}, {'id': 18, 'name': 'Drama'}, {'id': 10751, 'name': 'Family'}, {'id': 10749, 'name': 'Romance'}]\n",
      "[{'id': 18, 'name': 'Drama'}]\n",
      "[{'id': 53, 'name': 'Thriller'}, {'id': 18, 'name': 'Drama'}]\n",
      "[{'id': 28, 'name': 'Action'}, {'id': 53, 'name': 'Thriller'}]\n"
     ]
    }
   ],
   "source": [
    "for genres in train_df['genres'][:5]:\n",
    "    print(genres)"
   ]
  },
  {
   "cell_type": "code",
   "execution_count": 56,
   "metadata": {
    "scrolled": true
   },
   "outputs": [],
   "source": [
    "for df in [train_df, test_df]:\n",
    "    df['genres'] = df['genres'].apply(lambda x: [i['name'] for i in x] if x != {} else []).values\n",
    "    df['num_gen'] = df['genres'].apply(lambda x: len(x) if x != {} else 0)"
   ]
  },
  {
   "cell_type": "code",
   "execution_count": 57,
   "metadata": {
    "scrolled": true
   },
   "outputs": [
    {
     "data": {
      "text/plain": [
       "[('Drama', 1531),\n",
       " ('Comedy', 1028),\n",
       " ('Thriller', 789),\n",
       " ('Action', 741),\n",
       " ('Romance', 571),\n",
       " ('Crime', 469),\n",
       " ('Adventure', 439),\n",
       " ('Horror', 301),\n",
       " ('Science Fiction', 290),\n",
       " ('Family', 260),\n",
       " ('Fantasy', 232),\n",
       " ('Mystery', 225),\n",
       " ('Animation', 141),\n",
       " ('History', 132),\n",
       " ('Music', 100),\n",
       " ('War', 100),\n",
       " ('Documentary', 87),\n",
       " ('Western', 43),\n",
       " ('Foreign', 31),\n",
       " ('TV Movie', 1)]"
      ]
     },
     "execution_count": 57,
     "metadata": {},
     "output_type": "execute_result"
    }
   ],
   "source": [
    "list_genres = Counter([i for j in train_df['genres'] for i in j]).most_common()\n",
    "list_genres"
   ]
  },
  {
   "cell_type": "markdown",
   "metadata": {},
   "source": [
    "Controllo se i generi sono gli stessi per test_df"
   ]
  },
  {
   "cell_type": "code",
   "execution_count": 58,
   "metadata": {},
   "outputs": [
    {
     "data": {
      "text/plain": [
       "[('Drama', 2145),\n",
       " ('Comedy', 1577),\n",
       " ('Thriller', 1080),\n",
       " ('Action', 994),\n",
       " ('Romance', 864),\n",
       " ('Adventure', 677),\n",
       " ('Crime', 615),\n",
       " ('Science Fiction', 454),\n",
       " ('Horror', 434),\n",
       " ('Family', 415),\n",
       " ('Fantasy', 396),\n",
       " ('Mystery', 325),\n",
       " ('Animation', 241),\n",
       " ('Music', 167),\n",
       " ('History', 163),\n",
       " ('War', 143),\n",
       " ('Documentary', 134),\n",
       " ('Western', 74),\n",
       " ('Foreign', 53)]"
      ]
     },
     "execution_count": 58,
     "metadata": {},
     "output_type": "execute_result"
    }
   ],
   "source": [
    "list_genres_test = Counter([i for j in test_df['genres'] for i in j]).most_common()\n",
    "list_genres_test"
   ]
  },
  {
   "cell_type": "markdown",
   "metadata": {},
   "source": [
    "Dal momento che 'TV movie' compare solo come genere di un unico film nel train set, decido di ometterlo come feature."
   ]
  },
  {
   "cell_type": "code",
   "execution_count": 59,
   "metadata": {
    "scrolled": true
   },
   "outputs": [],
   "source": [
    "## one hot encoding\n",
    "mlb = MultiLabelBinarizer()\n",
    "train_df = train_df.join(pd.DataFrame(mlb.fit_transform(train_df.pop('genres')),\n",
    "                          columns=mlb.classes_,\n",
    "                          index=train_df.index))\n",
    "train_df.drop(columns = 'TV Movie', inplace=True)\n",
    "test_df = test_df.join(pd.DataFrame(mlb.fit_transform(test_df.pop('genres')),\n",
    "                          columns=mlb.classes_,\n",
    "                          index=test_df.index))"
   ]
  },
  {
   "cell_type": "code",
   "execution_count": 60,
   "metadata": {},
   "outputs": [
    {
     "data": {
      "text/plain": [
       "(3000, 44)"
      ]
     },
     "execution_count": 60,
     "metadata": {},
     "output_type": "execute_result"
    }
   ],
   "source": [
    "train_df.shape"
   ]
  },
  {
   "cell_type": "code",
   "execution_count": 61,
   "metadata": {},
   "outputs": [
    {
     "data": {
      "text/plain": [
       "(4398, 43)"
      ]
     },
     "execution_count": 61,
     "metadata": {},
     "output_type": "execute_result"
    }
   ],
   "source": [
    "test_df.shape"
   ]
  },
  {
   "cell_type": "markdown",
   "metadata": {},
   "source": [
    "- #### 'production_companies'"
   ]
  },
  {
   "cell_type": "code",
   "execution_count": 62,
   "metadata": {
    "scrolled": true
   },
   "outputs": [
    {
     "name": "stdout",
     "output_type": "stream",
     "text": [
      "[{'name': 'Paramount Pictures', 'id': 4}, {'name': 'United Artists', 'id': 60}, {'name': 'Metro-Goldwyn-Mayer (MGM)', 'id': 8411}]\n",
      "[{'name': 'Walt Disney Pictures', 'id': 2}]\n",
      "[{'name': 'Bold Films', 'id': 2266}, {'name': 'Blumhouse Productions', 'id': 3172}, {'name': 'Right of Way Films', 'id': 32157}]\n",
      "[]\n",
      "[]\n"
     ]
    }
   ],
   "source": [
    "for p_comp in train_df['production_companies'][:5]:\n",
    "    print(p_comp)"
   ]
  },
  {
   "cell_type": "code",
   "execution_count": 63,
   "metadata": {
    "scrolled": true
   },
   "outputs": [],
   "source": [
    "for df in [train_df, test_df]:\n",
    "    df['production_companies'] = df['production_companies'].apply(lambda x: [i['name'] for i in x] if x != {} else 0).values\n",
    "    df['num_prod_comp'] = df['production_companies'].apply(lambda x: len(x) if x != {} else 0)"
   ]
  },
  {
   "cell_type": "code",
   "execution_count": 64,
   "metadata": {
    "scrolled": true
   },
   "outputs": [
    {
     "data": {
      "text/plain": [
       "[('Warner Bros.', 202),\n",
       " ('Universal Pictures', 188),\n",
       " ('Paramount Pictures', 161),\n",
       " ('Twentieth Century Fox Film Corporation', 138),\n",
       " ('Columbia Pictures', 91),\n",
       " ('Metro-Goldwyn-Mayer (MGM)', 84),\n",
       " ('New Line Cinema', 75),\n",
       " ('Touchstone Pictures', 63),\n",
       " ('Walt Disney Pictures', 62),\n",
       " ('Columbia Pictures Corporation', 61),\n",
       " ('TriStar Pictures', 53),\n",
       " ('Relativity Media', 48),\n",
       " ('Canal+', 46),\n",
       " ('United Artists', 44),\n",
       " ('Miramax Films', 40),\n",
       " ('Village Roadshow Pictures', 36),\n",
       " ('Regency Enterprises', 31),\n",
       " ('BBC Films', 30),\n",
       " ('Dune Entertainment', 30),\n",
       " ('Working Title Films', 30),\n",
       " ('Fox Searchlight Pictures', 29),\n",
       " ('StudioCanal', 28),\n",
       " ('Lionsgate', 28),\n",
       " ('DreamWorks SKG', 27),\n",
       " ('Fox 2000 Pictures', 25),\n",
       " ('Summit Entertainment', 24),\n",
       " ('Hollywood Pictures', 24),\n",
       " ('Orion Pictures', 24),\n",
       " ('Amblin Entertainment', 23),\n",
       " ('Dimension Films', 23),\n",
       " ('Castle Rock Entertainment', 21),\n",
       " ('Epsilon Motion Pictures', 21),\n",
       " ('Morgan Creek Productions', 21),\n",
       " ('Original Film', 21),\n",
       " ('Focus Features', 21)]"
      ]
     },
     "execution_count": 64,
     "metadata": {},
     "output_type": "execute_result"
    }
   ],
   "source": [
    "## case di produzione cinematografica che hanno prodotto almeno 20 film\n",
    "list_of_top_pcomp = Counter([i for j in train_df['production_companies'] for i in j]).most_common(35)\n",
    "list_of_top_pcomp"
   ]
  },
  {
   "cell_type": "code",
   "execution_count": 65,
   "metadata": {
    "scrolled": true
   },
   "outputs": [
    {
     "name": "stdout",
     "output_type": "stream",
     "text": [
      "    production_companies     mean_revenue\n",
      "8   Walt Disney Pictures  303777082.54839\n",
      "28  Amblin Entertainment  230780010.26087\n",
      "33         Original Film  227934116.14286\n",
      "23        DreamWorks SKG  187110073.44444\n",
      "18    Dune Entertainment  168699729.36667\n"
     ]
    }
   ],
   "source": [
    "pcomp = [x[0] for x in list_of_top_pcomp]\n",
    "unique_names = pd.Series(pcomp).unique()\n",
    "dic = {}\n",
    "for n in unique_names:\n",
    "    pcomp = train_df['production_companies'].apply(lambda x: n in x)\n",
    "    dic[n] = train_df[pcomp]['revenue'].mean()\n",
    "    \n",
    "## top 5 compagnie di produzione con la media degli incassi più alta e che hanno prodotto almeno 20 film\n",
    "pcomp_mean_revenue = pd.DataFrame.from_dict(dic, orient='index', columns = ['mean_revenue']).reset_index().rename(columns = {'index':'production_companies'})\n",
    "pcomp_mean_revenue = pcomp_mean_revenue.nlargest(5, 'mean_revenue') \n",
    "list_top_pcomps = list(pcomp_mean_revenue['production_companies'])\n",
    "pcomp_mean_revenue['mean_revenue'] = pcomp_mean_revenue['mean_revenue'].apply(lambda x:  '{0:.5f}'.format(x))\n",
    "print(pcomp_mean_revenue)\n",
    "\n",
    "for pcomp in list_top_pcomps: ## one hot encoding\n",
    "    train_df['pcomp_' + pcomp] = train_df['production_companies'].apply(lambda x: 1 if pcomp in x else 0)\n",
    "    test_df['pcomp_' + pcomp] = test_df['production_companies'].apply(lambda x: 1 if pcomp in x else 0)"
   ]
  },
  {
   "cell_type": "code",
   "execution_count": 66,
   "metadata": {
    "scrolled": true
   },
   "outputs": [],
   "source": [
    "for df in [train_df, test_df]:\n",
    "    df.drop(columns = 'production_companies', inplace=True)"
   ]
  },
  {
   "cell_type": "markdown",
   "metadata": {},
   "source": [
    "- #### 'production_countries'"
   ]
  },
  {
   "cell_type": "code",
   "execution_count": 67,
   "metadata": {
    "scrolled": true
   },
   "outputs": [
    {
     "data": {
      "text/plain": [
       "0    [{'iso_3166_1': 'US', 'name': 'United States o...\n",
       "1    [{'iso_3166_1': 'US', 'name': 'United States o...\n",
       "2    [{'iso_3166_1': 'US', 'name': 'United States o...\n",
       "3              [{'iso_3166_1': 'IN', 'name': 'India'}]\n",
       "4        [{'iso_3166_1': 'KR', 'name': 'South Korea'}]\n",
       "Name: production_countries, dtype: object"
      ]
     },
     "execution_count": 67,
     "metadata": {},
     "output_type": "execute_result"
    }
   ],
   "source": [
    "train_df['production_countries'].head()"
   ]
  },
  {
   "cell_type": "code",
   "execution_count": 68,
   "metadata": {
    "scrolled": true
   },
   "outputs": [],
   "source": [
    "for df in [train_df, test_df]:\n",
    "    df['production_countries'] = df['production_countries'].apply(lambda x: [i['iso_3166_1'] for i in x] if x != {} else 0).values\n",
    "    df['num_prod_countries'] = df['production_countries'].apply(lambda x: len(x) if x != {} else 0)"
   ]
  },
  {
   "cell_type": "code",
   "execution_count": 69,
   "metadata": {
    "scrolled": true
   },
   "outputs": [
    {
     "data": {
      "text/plain": [
       "[('US', 2282),\n",
       " ('GB', 380),\n",
       " ('FR', 222),\n",
       " ('DE', 167),\n",
       " ('CA', 120),\n",
       " ('IN', 81),\n",
       " ('IT', 64),\n",
       " ('JP', 61),\n",
       " ('AU', 61),\n",
       " ('RU', 58),\n",
       " ('ES', 54),\n",
       " ('CN', 42),\n",
       " ('HK', 42),\n",
       " ('IE', 23),\n",
       " ('BE', 23),\n",
       " ('KR', 22),\n",
       " ('MX', 19),\n",
       " ('SE', 18),\n",
       " ('NZ', 17),\n",
       " ('NL', 15)]"
      ]
     },
     "execution_count": 69,
     "metadata": {},
     "output_type": "execute_result"
    }
   ],
   "source": [
    "## paesi in cui sono stati prodotti almeno 15 film\n",
    "list_of_top_pcountries = Counter([i for j in train_df['production_countries'] for i in j]).most_common(20)\n",
    "list_of_top_pcountries"
   ]
  },
  {
   "cell_type": "code",
   "execution_count": 70,
   "metadata": {
    "scrolled": true
   },
   "outputs": [
    {
     "name": "stdout",
     "output_type": "stream",
     "text": [
      "   production_countries     mean_revenue\n",
      "18                   NZ  308559228.58824\n",
      "0                    US   81908746.95180\n",
      "4                    CA   77107964.00000\n",
      "3                    DE   76163831.01198\n",
      "11                   CN   75239181.61905\n"
     ]
    }
   ],
   "source": [
    "pcountr = [x[0] for x in list_of_top_pcountries]\n",
    "unique_names = pd.Series(pcountr).unique()\n",
    "dic = {}\n",
    "for n in unique_names:\n",
    "    pcountr = train_df['production_countries'].apply(lambda x: n in x)\n",
    "    dic[n] = train_df[pcountr]['revenue'].mean()\n",
    "    \n",
    "## top 5 paesi di produzione con la media degli incassi più alta e in cui sono stati prodotti almeno 15 film\n",
    "pcountr_mean_revenue = pd.DataFrame.from_dict(dic, orient='index', columns=['mean_revenue']).reset_index().rename(columns={'index':'production_countries'})\n",
    "pcountr_mean_revenue = pcountr_mean_revenue.nlargest(5, 'mean_revenue') \n",
    "list_top_pcountrs = list(pcountr_mean_revenue['production_countries'])\n",
    "pcountr_mean_revenue['mean_revenue'] = pcountr_mean_revenue['mean_revenue'].apply(lambda x:  '{0:.5f}'.format(x))\n",
    "print(pcountr_mean_revenue)\n",
    "\n",
    "for pcountr in list_top_pcountrs: ## one hot encoding\n",
    "    train_df['pcountr_' + pcountr] = train_df['production_countries'].apply(lambda x: 1 if pcountr in x else 0)\n",
    "    test_df['pcountr_' + pcountr] = test_df['production_countries'].apply(lambda x: 1 if pcountr in x else 0)"
   ]
  },
  {
   "cell_type": "code",
   "execution_count": 71,
   "metadata": {
    "scrolled": true
   },
   "outputs": [],
   "source": [
    "for df in [train_df, test_df]:\n",
    "    df.drop(columns = 'production_countries', inplace=True)"
   ]
  },
  {
   "cell_type": "markdown",
   "metadata": {},
   "source": [
    "- #### 'spoken_languages'"
   ]
  },
  {
   "cell_type": "code",
   "execution_count": 72,
   "metadata": {
    "scrolled": true
   },
   "outputs": [
    {
     "name": "stdout",
     "output_type": "stream",
     "text": [
      "[{'iso_639_1': 'en', 'name': 'English'}]\n",
      "[{'iso_639_1': 'en', 'name': 'English'}]\n",
      "[{'iso_639_1': 'en', 'name': 'English'}]\n",
      "[{'iso_639_1': 'en', 'name': 'English'}, {'iso_639_1': 'hi', 'name': 'हिन्दी'}]\n",
      "[{'iso_639_1': 'ko', 'name': '한국어/조선말'}]\n"
     ]
    }
   ],
   "source": [
    "for lang in train_df['spoken_languages'][:5]:\n",
    "    print(lang)"
   ]
  },
  {
   "cell_type": "code",
   "execution_count": 73,
   "metadata": {
    "scrolled": true
   },
   "outputs": [],
   "source": [
    "for df in [train_df, test_df]:\n",
    "    df['spoken_languages'] = df['spoken_languages'].apply(lambda x: [i['iso_639_1'] for i in x] if x != {} else 0).values\n",
    "    df['num_lang'] = df['spoken_languages'].apply(lambda x: len(x) if x != {} else 0)"
   ]
  },
  {
   "cell_type": "code",
   "execution_count": 74,
   "metadata": {
    "scrolled": true
   },
   "outputs": [
    {
     "data": {
      "text/plain": [
       "[('en', 2618),\n",
       " ('fr', 288),\n",
       " ('es', 239),\n",
       " ('de', 169),\n",
       " ('ru', 152),\n",
       " ('it', 124),\n",
       " ('ja', 89),\n",
       " ('zh', 68),\n",
       " ('hi', 56),\n",
       " ('pt', 43),\n",
       " ('ar', 40),\n",
       " ('ko', 37),\n",
       " ('cn', 36),\n",
       " ('ta', 27),\n",
       " ('pl', 25),\n",
       " ('hu', 24),\n",
       " ('la', 23),\n",
       " ('sv', 22),\n",
       " ('th', 22),\n",
       " ('cs', 20),\n",
       " ('he', 15),\n",
       " ('el', 15),\n",
       " ('tr', 13),\n",
       " ('da', 13),\n",
       " ('nl', 10),\n",
       " ('fa', 10),\n",
       " ('vi', 10)]"
      ]
     },
     "execution_count": 74,
     "metadata": {},
     "output_type": "execute_result"
    }
   ],
   "source": [
    "## lingue che si parlano in almeno 10 film\n",
    "list_of_top_lang = Counter([i for j in train_df['spoken_languages'] for i in j]).most_common(27)\n",
    "list_of_top_lang"
   ]
  },
  {
   "cell_type": "code",
   "execution_count": 75,
   "metadata": {
    "scrolled": true
   },
   "outputs": [
    {
     "name": "stdout",
     "output_type": "stream",
     "text": [
      "   spoken_languages     mean_revenue\n",
      "16               la  163693786.73913\n",
      "18               th  135134897.36364\n",
      "21               el  127700392.93333\n",
      "7                zh  102015496.51471\n",
      "10               ar  101855598.20000\n"
     ]
    }
   ],
   "source": [
    "lang = [x[0] for x in list_of_top_lang]\n",
    "unique_names = pd.Series(lang).unique()\n",
    "dic = {}\n",
    "for n in unique_names:\n",
    "    language = train_df['spoken_languages'].apply(lambda x: n in x)\n",
    "    dic[n] = train_df[language]['revenue'].mean()\n",
    "    \n",
    "## top 5 lingue con la media degli incassi più alta e che si parlano in almeno 10 film\n",
    "l_mean_revenue = pd.DataFrame.from_dict(dic, orient = 'index', columns = ['mean_revenue']).reset_index().rename(columns = {'index':'spoken_languages'})\n",
    "l_mean_revenue = l_mean_revenue.nlargest(5, 'mean_revenue')\n",
    "list_top_languages = list(l_mean_revenue['spoken_languages'])\n",
    "l_mean_revenue['mean_revenue'] = l_mean_revenue['mean_revenue'].apply(lambda x:  '{0:.5f}'.format(x))\n",
    "print(l_mean_revenue)\n",
    "\n",
    "for lang in list_top_languages: ## one hot encoding\n",
    "    train_df['lang_' + lang] = train_df['spoken_languages'].apply(lambda x: 1 if lang in x else 0)\n",
    "    test_df['lang_' + lang] = test_df['spoken_languages'].apply(lambda x: 1 if lang in x else 0)"
   ]
  },
  {
   "cell_type": "code",
   "execution_count": 76,
   "metadata": {
    "scrolled": true
   },
   "outputs": [],
   "source": [
    "for df in [train_df, test_df]:\n",
    "    df.drop(columns = 'spoken_languages', inplace=True)"
   ]
  },
  {
   "cell_type": "markdown",
   "metadata": {},
   "source": [
    "- #### 'Keywords'"
   ]
  },
  {
   "cell_type": "code",
   "execution_count": 77,
   "metadata": {
    "scrolled": true
   },
   "outputs": [
    {
     "name": "stdout",
     "output_type": "stream",
     "text": [
      "[{'id': 4379, 'name': 'time travel'}, {'id': 9663, 'name': 'sequel'}, {'id': 11830, 'name': 'hot tub'}, {'id': 179431, 'name': 'duringcreditsstinger'}]\n",
      "[{'id': 2505, 'name': 'coronation'}, {'id': 4263, 'name': 'duty'}, {'id': 6038, 'name': 'marriage'}, {'id': 13072, 'name': 'falling in love'}]\n",
      "[{'id': 1416, 'name': 'jazz'}, {'id': 1523, 'name': 'obsession'}, {'id': 1640, 'name': 'conservatory'}, {'id': 2176, 'name': 'music teacher'}, {'id': 14512, 'name': 'new york city'}, {'id': 14819, 'name': 'violence'}, {'id': 33896, 'name': 'montage'}, {'id': 156823, 'name': 'drummer'}, {'id': 170418, 'name': 'public humiliation'}, {'id': 176095, 'name': 'jazz band'}, {'id': 206298, 'name': 'young adult'}, {'id': 207739, 'name': 'music school'}]\n",
      "[{'id': 10092, 'name': 'mystery'}, {'id': 10540, 'name': 'bollywood'}, {'id': 11734, 'name': 'police corruption'}, {'id': 14536, 'name': 'crime'}, {'id': 14636, 'name': 'india'}, {'id': 208364, 'name': 'missing husband'}, {'id': 220935, 'name': 'nerve gas'}]\n",
      "[]\n"
     ]
    }
   ],
   "source": [
    "for kw in train_df['Keywords'][:5]:\n",
    "    print(kw)"
   ]
  },
  {
   "cell_type": "code",
   "execution_count": 78,
   "metadata": {
    "scrolled": true
   },
   "outputs": [],
   "source": [
    "for df in [train_df, test_df]:\n",
    "    df['Keywords'] = df['Keywords'].apply(lambda x: [i['name'] for i in x] if x != {} else 0).values\n",
    "    df['num_keywords'] = df['Keywords'].apply(lambda x: len(x) if x != {} else 0)"
   ]
  },
  {
   "cell_type": "code",
   "execution_count": 79,
   "metadata": {
    "scrolled": false
   },
   "outputs": [
    {
     "data": {
      "text/plain": [
       "[('woman director', 175),\n",
       " ('independent film', 155),\n",
       " ('duringcreditsstinger', 134),\n",
       " ('murder', 123),\n",
       " ('based on novel', 111),\n",
       " ('violence', 87),\n",
       " ('sport', 82),\n",
       " ('biography', 77),\n",
       " ('aftercreditsstinger', 75),\n",
       " ('dystopia', 73),\n",
       " ('revenge', 73),\n",
       " ('friendship', 72),\n",
       " ('sex', 71),\n",
       " ('suspense', 67),\n",
       " ('sequel', 66),\n",
       " ('love', 64),\n",
       " ('police', 64),\n",
       " ('teenager', 61),\n",
       " ('nudity', 57),\n",
       " ('female nudity', 53),\n",
       " ('drug', 52),\n",
       " ('prison', 50),\n",
       " ('musical', 49),\n",
       " ('high school', 49),\n",
       " ('los angeles', 48),\n",
       " ('new york', 47),\n",
       " ('family', 45),\n",
       " ('father son relationship', 44),\n",
       " ('kidnapping', 41),\n",
       " ('investigation', 41),\n",
       " ('wedding', 40),\n",
       " ('3d', 40)]"
      ]
     },
     "execution_count": 79,
     "metadata": {},
     "output_type": "execute_result"
    }
   ],
   "source": [
    "## keywords che sono state usate almeno 40 volte\n",
    "list_of_top_kw = Counter([i for j in train_df['Keywords'] for i in j]).most_common(32)\n",
    "list_of_top_kw"
   ]
  },
  {
   "cell_type": "code",
   "execution_count": 80,
   "metadata": {
    "scrolled": true
   },
   "outputs": [
    {
     "name": "stdout",
     "output_type": "stream",
     "text": [
      "                   keywords     mean_revenue\n",
      "31                       3d  375249570.52500\n",
      "8       aftercreditsstinger  217725899.98667\n",
      "14                   sequel  205682018.27273\n",
      "2      duringcreditsstinger  183936420.39552\n",
      "9                  dystopia  134917413.16438\n",
      "4            based on novel  115681069.42342\n",
      "27  father son relationship  101996587.15909\n",
      "30                  wedding  100758282.95000\n",
      "25                 new york   90808908.76596\n",
      "24              los angeles   86396287.41667\n"
     ]
    }
   ],
   "source": [
    "kw = [x[0] for x in list_of_top_kw]\n",
    "unique_names = pd.Series(kw).unique()\n",
    "dic = {}\n",
    "for n in unique_names:\n",
    "    language = train_df['Keywords'].apply(lambda x: n in x)\n",
    "    dic[n] = train_df[language]['revenue'].mean()\n",
    "    \n",
    "## top 10 keywords con la media degli incassi più alta e che sono state usate almeno 40 volte\n",
    "kw_mean_revenue = pd.DataFrame.from_dict(dic, orient = 'index', columns = ['mean_revenue']).reset_index().rename(columns = {'index':'keywords'})\n",
    "kw_mean_revenue = kw_mean_revenue.nlargest(10, 'mean_revenue') \n",
    "list_top_keywords = list(kw_mean_revenue['keywords'])\n",
    "kw_mean_revenue['mean_revenue'] = kw_mean_revenue['mean_revenue'].apply(lambda x:  '{0:.5f}'.format(x))\n",
    "print(kw_mean_revenue)\n",
    "\n",
    "for kw in list_top_keywords: ## one hot encoding\n",
    "    train_df['kw_' + kw] = train_df['Keywords'].apply(lambda x: 1 if kw in x else 0)\n",
    "    test_df['kw_' + kw] = test_df['Keywords'].apply(lambda x: 1 if kw in x else 0)"
   ]
  },
  {
   "cell_type": "code",
   "execution_count": 81,
   "metadata": {
    "scrolled": true
   },
   "outputs": [],
   "source": [
    "for df in [train_df, test_df]:\n",
    "    df.drop(columns = 'Keywords', inplace=True)"
   ]
  },
  {
   "cell_type": "markdown",
   "metadata": {},
   "source": [
    "- #### 'cast'"
   ]
  },
  {
   "cell_type": "code",
   "execution_count": 82,
   "metadata": {
    "scrolled": true
   },
   "outputs": [
    {
     "name": "stdout",
     "output_type": "stream",
     "text": [
      "[{'cast_id': 4, 'character': 'Lou', 'credit_id': '52fe4ee7c3a36847f82afae7', 'gender': 2, 'id': 52997, 'name': 'Rob Corddry', 'order': 0, 'profile_path': '/k2zJL0V1nEZuFT08xUdOd3ucfXz.jpg'}, {'cast_id': 5, 'character': 'Nick', 'credit_id': '52fe4ee7c3a36847f82afaeb', 'gender': 2, 'id': 64342, 'name': 'Craig Robinson', 'order': 1, 'profile_path': '/tVaRMkJXOEVhYxtnnFuhqW0Rjzz.jpg'}, {'cast_id': 6, 'character': 'Jacob', 'credit_id': '52fe4ee7c3a36847f82afaef', 'gender': 2, 'id': 54729, 'name': 'Clark Duke', 'order': 2, 'profile_path': '/oNzK0umwm5Wn0wyEbOy6TVJCSBn.jpg'}, {'cast_id': 7, 'character': 'Adam Jr.', 'credit_id': '52fe4ee7c3a36847f82afaf3', 'gender': 2, 'id': 36801, 'name': 'Adam Scott', 'order': 3, 'profile_path': '/5gb65xz8bzd42yjMAl4zwo4cvKw.jpg'}, {'cast_id': 8, 'character': 'Hot Tub Repairman', 'credit_id': '52fe4ee7c3a36847f82afaf7', 'gender': 2, 'id': 54812, 'name': 'Chevy Chase', 'order': 4, 'profile_path': '/svjpyYtPwtjvRxX9IZnOmOkhDOt.jpg'}, {'cast_id': 9, 'character': 'Jill', 'credit_id': '52fe4ee7c3a36847f82afafb', 'gender': 1, 'id': 94098, 'name': 'Gillian Jacobs', 'order': 5, 'profile_path': '/rBnhe5vhNPnhRUdtYahBWx90fJM.jpg'}, {'cast_id': 10, 'character': 'Sophie', 'credit_id': '52fe4ee7c3a36847f82afaff', 'gender': 1, 'id': 1159009, 'name': 'Bianca Haase', 'order': 6, 'profile_path': '/4x3nbtD8q8phAJPmoGWXPvz0iM.jpg'}, {'cast_id': 11, 'character': 'Kelly', 'credit_id': '5524ec51c3a3687df3000dbb', 'gender': 1, 'id': 86624, 'name': 'Collette Wolfe', 'order': 7, 'profile_path': '/aSD4h5379b2eEw3bLou9ByLimmq.jpg'}, {'cast_id': 13, 'character': 'Brad', 'credit_id': '5524ec8ec3a3687ded000d72', 'gender': 2, 'id': 466505, 'name': 'Kumail Nanjiani', 'order': 9, 'profile_path': '/x4nAztHY72SVciRfxEsbhIVTsIu.jpg'}, {'cast_id': 14, 'character': 'Courtney', 'credit_id': '5524ec9bc3a3687df8000d13', 'gender': 1, 'id': 70776, 'name': 'Kellee Stewart', 'order': 10, 'profile_path': '/w3xmsEPmJc1Cf0dQ4aIn8YmlHbk.jpg'}, {'cast_id': 15, 'character': 'Terry', 'credit_id': '5524eca892514171cb008237', 'gender': 2, 'id': 347335, 'name': 'Josh Heald', 'order': 11, 'profile_path': '/pwXJIenrDMrG7t3zNfLvr8w1RGU.jpg'}, {'cast_id': 16, 'character': 'Susan', 'credit_id': '5524ecb7925141720c001116', 'gender': 0, 'id': 1451392, 'name': 'Gretchen Koerner', 'order': 12, 'profile_path': '/muULPexCTJGyJba4yKzxronpD50.jpg'}, {'cast_id': 17, 'character': 'Herself', 'credit_id': '5524ecc3c3a3687ded000d74', 'gender': 1, 'id': 98879, 'name': 'Lisa Loeb', 'order': 13, 'profile_path': '/bGqg58ca0bZR38z9HliUMmeNGE.jpg'}, {'cast_id': 18, 'character': 'Herself', 'credit_id': '5524ecd3c3a3687e11000ed3', 'gender': 1, 'id': 1394648, 'name': 'Jessica Williams', 'order': 14, 'profile_path': '/A4syKjkcYB92wLEhH0c0hC3BCpz.jpg'}, {'cast_id': 19, 'character': 'Himself', 'credit_id': '5524ece6925141718d001009', 'gender': 0, 'id': 1451393, 'name': 'Bruce Buffer', 'order': 15, 'profile_path': None}, {'cast_id': 20, 'character': 'Shot Girl', 'credit_id': '5524ecf5c3a3687e08000dc2', 'gender': 0, 'id': 1451394, 'name': 'Mariana Paola Vicente', 'order': 16, 'profile_path': '/ckPllza8624UHWGHCbLShkLxCD1.jpg'}, {'cast_id': 33, 'character': 'Choozy Doozy Host', 'credit_id': '555844da9251412afe0013a9', 'gender': 2, 'id': 2224, 'name': 'Christian Slater', 'order': 17, 'profile_path': '/3ElLWjnvchMS6Q4cIQOK8QNAoMG.jpg'}, {'cast_id': 35, 'character': 'Gary Winkle', 'credit_id': '55872027c3a3683853005074', 'gender': 0, 'id': 185805, 'name': 'Jason Jones', 'order': 18, 'profile_path': '/aIoCw6vo8AGMdsQRAI5g2t0yJT3.jpg'}, {'cast_id': 36, 'character': 'Bridesmaid', 'credit_id': '55efe971c3a368090c00cd1b', 'gender': 0, 'id': 1507448, 'name': 'Olivia Jordan', 'order': 19, 'profile_path': '/szMukAEiIDeasel0lvyaeyKuych.jpg'}, {'cast_id': 37, 'character': 'Christine', 'credit_id': '55efe980c3a36871bf008176', 'gender': 1, 'id': 1334091, 'name': 'Christine Bently', 'order': 20, 'profile_path': '/oUZltnGa55OXE52hfyPTfCshuNy.jpg'}, {'cast_id': 38, 'character': 'Excited Girl', 'credit_id': '55efe98e9251413e3201d316', 'gender': 0, 'id': 557803, 'name': 'Stacey Asaro', 'order': 21, 'profile_path': '/qTPdlr1dXf3kNdyHuDsgtGC0HCC.jpg'}, {'cast_id': 64, 'character': 'Adam (uncredited)', 'credit_id': '58f2135ac3a3682e95008b91', 'gender': 2, 'id': 3036, 'name': 'John Cusack', 'order': 22, 'profile_path': '/uKydQYuZ9TnCzvbQLtj6j98vWAT.jpg'}, {'cast_id': 65, 'character': 'J-Bird', 'credit_id': '59ac0240c3a3682cc802c399', 'gender': 2, 'id': 59256, 'name': 'Adam Herschman', 'order': 23, 'profile_path': '/wZMwiuX1DslF6hDS50z9OTN6z1X.jpg'}, {'cast_id': 66, 'character': 'Bridesmaid', 'credit_id': '59ac02cd925141079d02b1b4', 'gender': 1, 'id': 129714, 'name': 'Kisha Sierra', 'order': 24, 'profile_path': None}]\n",
      "[{'cast_id': 1, 'character': 'Mia Thermopolis', 'credit_id': '52fe43fe9251416c7502561f', 'gender': 1, 'id': 1813, 'name': 'Anne Hathaway', 'order': 0, 'profile_path': '/jUMOKwSUBnTcMeN1HfhutiY49Ad.jpg'}, {'cast_id': 2, 'character': 'Queen Clarisse Renaldi', 'credit_id': '52fe43fe9251416c75025623', 'gender': 1, 'id': 5823, 'name': 'Julie Andrews', 'order': 1, 'profile_path': '/6t61jkmfSA6nbYRCKR9s97CgUN6.jpg'}, {'cast_id': 3, 'character': 'Joe', 'credit_id': '52fe43fe9251416c75025627', 'gender': 2, 'id': 1210, 'name': 'H√©ctor Elizondo', 'order': 2, 'profile_path': '/48UNfVFZVr0jyMIlLPhzm8IIM7f.jpg'}, {'cast_id': 4, 'character': 'Viscount Mabrey', 'credit_id': '52fe43fe9251416c7502562b', 'gender': 2, 'id': 655, 'name': 'John Rhys-Davies', 'order': 3, 'profile_path': '/zZ67PuoFfik9QlZyfaEsFBC1yVJ.jpg'}, {'cast_id': 5, 'character': 'Lilly Moscovitz', 'credit_id': '52fe43fe9251416c7502562f', 'gender': 1, 'id': 33656, 'name': 'Heather Matarazzo', 'order': 4, 'profile_path': '/xcwR8aPuSkUCDPIyKU049M1CXph.jpg'}, {'cast_id': 6, 'character': 'Nicholas Devereaux', 'credit_id': '52fe43fe9251416c75025633', 'gender': 2, 'id': 62064, 'name': 'Chris Pine', 'order': 5, 'profile_path': '/vSe6sIsdtcoqBhuWRXynahFg8Vf.jpg'}, {'cast_id': 7, 'character': 'Andrew Jacoby', 'credit_id': '52fe43fe9251416c75025637', 'gender': 2, 'id': 68287, 'name': 'Callum Blue', 'order': 6, 'profile_path': '/3qf8rLoWmXOcCA8Rs9RPIEQ9yLB.jpg'}, {'cast_id': 17, 'character': 'Paolo', 'credit_id': '52fe43fe9251416c75025671', 'gender': 2, 'id': 1211, 'name': 'Larry Miller', 'order': 7, 'profile_path': '/xA8zCxNrwtamLaLWNBkLyX5tGtU.jpg'}, {'cast_id': 18, 'character': 'Asana', 'credit_id': '52fe43fe9251416c75025675', 'gender': 1, 'id': 66896, 'name': 'Raven-Symon√©', 'order': 8, 'profile_path': '/nzklI9bgqsUKVWlnQcT5lSrCyaM.jpg'}, {'cast_id': 19, 'character': 'Charlotte Kutaway', 'credit_id': '52fe43fe9251416c75025679', 'gender': 1, 'id': 303542, 'name': 'Kathleen Marshall', 'order': 9, 'profile_path': '/4ANxOHPa81aqLyP8BQxkwmZrWgK.jpg'}, {'cast_id': 21, 'character': \"Mia's Mom Helen\", 'credit_id': '5687f876c3a3685f8900e2a1', 'gender': 1, 'id': 6692, 'name': 'Caroline Goodall', 'order': 10, 'profile_path': '/f3L5WmEtGjjONTe8qvBZOy2dWTJ.jpg'}, {'cast_id': 20, 'character': 'Princess Lorraine', 'credit_id': '5687f825c3a36860e9023861', 'gender': 1, 'id': 966053, 'name': 'Lorraine Nicholson', 'order': 11, 'profile_path': '/eCsoySifBALa6UecWWQ6XShkkeV.jpg'}, {'cast_id': 22, 'character': 'Lady Salsa', 'credit_id': '56b67fc4c3a3680700009953', 'gender': 1, 'id': 95469, 'name': 'Shannon Wilcox', 'order': 12, 'profile_path': '/dQTvcWdLyB5RIWNQxk4DWn6ko59.jpg'}, {'cast_id': 23, 'character': 'Baron Siegfried von Troken', 'credit_id': '56c0ad8cc3a36817f400cc2d', 'gender': 2, 'id': 33832, 'name': 'Greg Lewis', 'order': 13, 'profile_path': '/ys6erqERBQhfTsvCiarmwH8daUm.jpg'}, {'cast_id': 24, 'character': 'Carolina', 'credit_id': '575e0b469251415dd2004e97', 'gender': 1, 'id': 17140, 'name': 'Abigail Breslin', 'order': 14, 'profile_path': '/5zM4beIvrFKICiJXhQCqY3ORngR.jpg'}, {'cast_id': 25, 'character': 'Lord Crawley', 'credit_id': '575e0bc1c3a3683731002094', 'gender': 2, 'id': 155403, 'name': 'Paul Vogt', 'order': 15, 'profile_path': None}, {'cast_id': 26, 'character': 'Monsieur Dupont', 'credit_id': '57c8cc429251410d5000019d', 'gender': 2, 'id': 1665036, 'name': 'Joseph Leo Bwarie', 'order': 16, 'profile_path': '/9H8u70pOBdk0xZsRcKIleBEAyLK.jpg'}, {'cast_id': 27, 'character': 'Lady Caroline', 'credit_id': '57dd9a1092514178550018e1', 'gender': 1, 'id': 83053, 'name': 'Hope Alexander-Willis', 'order': 17, 'profile_path': '/uMA3E1OUniek80LNbqf8ejK2edW.jpg'}, {'cast_id': 28, 'character': 'Lord Peroit', 'credit_id': '57eecf689251416cd60095c1', 'gender': 2, 'id': 1451161, 'name': 'Rowan Joseph', 'order': 18, 'profile_path': '/6zUforjrDfcPoP8YMsdIaoygHmz.jpg'}, {'cast_id': 29, 'character': 'Genovian Cafe Owner', 'credit_id': '57eed0ff9251415ddb00752b', 'gender': 2, 'id': 156005, 'name': 'Jeffrey Scott Jensen', 'order': 19, 'profile_path': '/mW0EwKomK5u3WSmkL60V2HWLhCu.jpg'}]\n"
     ]
    }
   ],
   "source": [
    "for cast in train_df['cast'][:2]:\n",
    "    print(cast)"
   ]
  },
  {
   "cell_type": "code",
   "execution_count": 83,
   "metadata": {
    "scrolled": true
   },
   "outputs": [],
   "source": [
    "for df in [train_df, test_df]:\n",
    "    df['cast'] = df['cast'].apply(lambda x: [i['name'] for i in x] if x != {} else 0).values\n",
    "    df['num_cast'] = df['cast'].apply(lambda x: len(x) if x != {} else 0)"
   ]
  },
  {
   "cell_type": "code",
   "execution_count": 84,
   "metadata": {
    "scrolled": false
   },
   "outputs": [
    {
     "data": {
      "text/plain": [
       "[('Samuel L. Jackson', 30),\n",
       " ('Robert De Niro', 30),\n",
       " ('Morgan Freeman', 27),\n",
       " ('J.K. Simmons', 25),\n",
       " ('Bruce Willis', 25),\n",
       " ('Liam Neeson', 25),\n",
       " ('Susan Sarandon', 25),\n",
       " ('Bruce McGill', 24),\n",
       " ('John Turturro', 24),\n",
       " ('Forest Whitaker', 23),\n",
       " ('Willem Dafoe', 23),\n",
       " ('Bill Murray', 22),\n",
       " ('Owen Wilson', 22),\n",
       " ('Nicolas Cage', 22),\n",
       " ('Sylvester Stallone', 21),\n",
       " ('Jason Statham', 21),\n",
       " ('Keith David', 21),\n",
       " ('John Goodman', 21),\n",
       " ('Mel Gibson', 21),\n",
       " ('Sigourney Weaver', 21),\n",
       " ('Frank Welker', 20),\n",
       " ('Michael Caine', 20),\n",
       " ('George Clooney', 20),\n",
       " ('Denzel Washington', 20),\n",
       " ('Robert Duvall', 20),\n",
       " ('Ed Harris', 20),\n",
       " ('Dennis Quaid', 20),\n",
       " ('Richard Jenkins', 20),\n",
       " ('Matt Damon', 20)]"
      ]
     },
     "execution_count": 84,
     "metadata": {},
     "output_type": "execute_result"
    }
   ],
   "source": [
    " ## attori che hanno recitato in almeno 20 film\n",
    "list_of_top_actor_names = Counter([i for j in train_df['cast'] for i in j]).most_common(29)\n",
    "list_of_top_actor_names"
   ]
  },
  {
   "cell_type": "code",
   "execution_count": 85,
   "metadata": {
    "scrolled": true
   },
   "outputs": [
    {
     "name": "stdout",
     "output_type": "stream",
     "text": [
      "                actors     mean_revenue\n",
      "0    Samuel L. Jackson  290182222.33333\n",
      "20        Frank Welker  254493202.84211\n",
      "8        John Turturro  184732506.37500\n",
      "14  Sylvester Stallone  165665154.09524\n",
      "15       Jason Statham  163019915.04762\n",
      "25           Ed Harris  153885842.60000\n",
      "21       Michael Caine  151742341.75000\n",
      "22      George Clooney  151651751.65000\n",
      "19    Sigourney Weaver  147324772.80952\n",
      "12         Owen Wilson  139404534.81818\n"
     ]
    }
   ],
   "source": [
    "actor = [x[0] for x in list_of_top_actor_names]\n",
    "unique_names = pd.Series(actor).unique()\n",
    "dic = {}\n",
    "for n in unique_names:\n",
    "    actor = train_df['cast'].apply(lambda x: n in x)\n",
    "    dic[n] = train_df[actor]['revenue'].mean()\n",
    "\n",
    "## top 10 attori con la media degli incassi più alta e che hanno recitato in almeno 20 film\n",
    "kw_mean_revenue = pd.DataFrame.from_dict(dic, orient='index', columns = ['mean_revenue']).reset_index().rename(columns = {'index':'actors'})\n",
    "kw_mean_revenue = kw_mean_revenue.nlargest(10, 'mean_revenue')\n",
    "list_top_actors = list(kw_mean_revenue['actors'])\n",
    "kw_mean_revenue['mean_revenue'] = kw_mean_revenue['mean_revenue'].apply(lambda x:  '{0:.5f}'.format(x))\n",
    "print(kw_mean_revenue)\n",
    "\n",
    "for actor in list_top_actors: ## one hot encoding\n",
    "    train_df['actor_' + actor] = train_df['cast'].apply(lambda x: 1 if actor in x else 0)\n",
    "    test_df['actor_' + actor] = test_df['cast'].apply(lambda x: 1 if actor in x else 0)"
   ]
  },
  {
   "cell_type": "code",
   "execution_count": 86,
   "metadata": {
    "scrolled": true
   },
   "outputs": [],
   "source": [
    "for df in [train_df, test_df]:\n",
    "    df.drop(columns = 'cast', inplace=True)"
   ]
  },
  {
   "cell_type": "code",
   "execution_count": 87,
   "metadata": {},
   "outputs": [
    {
     "data": {
      "text/plain": [
       "(3000, 79)"
      ]
     },
     "execution_count": 87,
     "metadata": {},
     "output_type": "execute_result"
    }
   ],
   "source": [
    "train_df.shape"
   ]
  },
  {
   "cell_type": "code",
   "execution_count": 88,
   "metadata": {},
   "outputs": [
    {
     "data": {
      "text/plain": [
       "(4398, 78)"
      ]
     },
     "execution_count": 88,
     "metadata": {},
     "output_type": "execute_result"
    }
   ],
   "source": [
    "test_df.shape"
   ]
  },
  {
   "cell_type": "markdown",
   "metadata": {},
   "source": [
    "- #### 'crew'"
   ]
  },
  {
   "cell_type": "code",
   "execution_count": 89,
   "metadata": {
    "scrolled": true
   },
   "outputs": [
    {
     "name": "stdout",
     "output_type": "stream",
     "text": [
      "[{'credit_id': '59ac067c92514107af02c8c8', 'department': 'Directing', 'gender': 0, 'id': 1449071, 'job': 'First Assistant Director', 'name': 'Kelly Cantley', 'profile_path': None}, {'credit_id': '52fe4ee7c3a36847f82afad7', 'department': 'Directing', 'gender': 2, 'id': 3227, 'job': 'Director', 'name': 'Steve Pink', 'profile_path': '/myHOgo8mQSCiCAZNGMRdHVr03jr.jpg'}, {'credit_id': '5524ed25c3a3687ded000d88', 'department': 'Writing', 'gender': 2, 'id': 347335, 'job': 'Writer', 'name': 'Josh Heald', 'profile_path': '/pwXJIenrDMrG7t3zNfLvr8w1RGU.jpg'}, {'credit_id': '5524ed2d925141720c001128', 'department': 'Writing', 'gender': 2, 'id': 347335, 'job': 'Characters', 'name': 'Josh Heald', 'profile_path': '/pwXJIenrDMrG7t3zNfLvr8w1RGU.jpg'}, {'credit_id': '5524ed3d92514166c1004a5d', 'department': 'Production', 'gender': 2, 'id': 57822, 'job': 'Producer', 'name': 'Andrew Panay', 'profile_path': None}, {'credit_id': '5524ed4bc3a3687df3000dd2', 'department': 'Production', 'gender': 0, 'id': 1451395, 'job': 'Associate Producer', 'name': 'Adam Blum', 'profile_path': None}, {'credit_id': '5524ed5a925141720c00112c', 'department': 'Production', 'gender': 2, 'id': 52997, 'job': 'Executive Producer', 'name': 'Rob Corddry', 'profile_path': '/k2zJL0V1nEZuFT08xUdOd3ucfXz.jpg'}, {'credit_id': '5524ed85c3a3687e0e000f56', 'department': 'Production', 'gender': 0, 'id': 62807, 'job': 'Executive Producer', 'name': 'Ben Ormand', 'profile_path': None}, {'credit_id': '5524ed9fc3a3687e0e000f59', 'department': 'Sound', 'gender': 2, 'id': 23486, 'job': 'Original Music Composer', 'name': 'Christophe Beck', 'profile_path': '/2fnJUmCk6IEpVIptpYaUk31epHx.jpg'}, {'credit_id': '5524eda6c3a3687e03000d28', 'department': 'Camera', 'gender': 2, 'id': 6117, 'job': 'Director of Photography', 'name': 'Declan Quinn', 'profile_path': None}, {'credit_id': '5524edb4925141720c00113d', 'department': 'Editing', 'gender': 0, 'id': 1451396, 'job': 'Editor', 'name': 'Jamie Gross', 'profile_path': None}, {'credit_id': '5524edc1925141727600102e', 'department': 'Production', 'gender': 0, 'id': 22219, 'job': 'Casting', 'name': 'Susie Farris', 'profile_path': None}, {'credit_id': '5524edd192514171cb008257', 'department': 'Art', 'gender': 0, 'id': 1002643, 'job': 'Production Design', 'name': 'Ryan Berg', 'profile_path': None}, {'credit_id': '555ad9be9251411e5b00d485', 'department': 'Production', 'gender': 2, 'id': 57431, 'job': 'Executive Producer', 'name': 'Matt Moore', 'profile_path': None}, {'credit_id': '5677e93bc3a36816890087dc', 'department': 'Directing', 'gender': 0, 'id': 1551818, 'job': 'Script Supervisor', 'name': 'Nicole Garcea', 'profile_path': None}, {'credit_id': '5677e96a92514179e10093d0', 'department': 'Production', 'gender': 0, 'id': 1551819, 'job': 'Production Coordinator', 'name': 'Jason Salzman', 'profile_path': None}, {'credit_id': '5677e98492514179d2008cd9', 'department': 'Costume & Make-Up', 'gender': 0, 'id': 1422996, 'job': 'Costume Design', 'name': 'Carol Cutshall', 'profile_path': None}, {'credit_id': '5677e9d5c3a368168e009414', 'department': 'Art', 'gender': 2, 'id': 500199, 'job': 'Set Decoration', 'name': 'Tim Cohn', 'profile_path': None}, {'credit_id': '5677f89d9251417845001a61', 'department': 'Costume & Make-Up', 'gender': 0, 'id': 1527917, 'job': 'Hair Department Head', 'name': 'Voni Hinkle', 'profile_path': None}, {'credit_id': '5677f8b392514179dd0089fb', 'department': 'Costume & Make-Up', 'gender': 0, 'id': 1431554, 'job': 'Makeup Department Head', 'name': 'Remi Savva', 'profile_path': None}, {'credit_id': '5677f8d1c3a3681689008a4b', 'department': 'Art', 'gender': 0, 'id': 66495, 'job': 'Art Direction', 'name': 'Jason Baldwin Stewart', 'profile_path': None}, {'credit_id': '5677f8eec3a3681685008dd5', 'department': 'Production', 'gender': 0, 'id': 1412466, 'job': 'Production Supervisor', 'name': 'Korey Budd', 'profile_path': None}, {'credit_id': '5677f90a9251417845001a7d', 'department': 'Sound', 'gender': 0, 'id': 1401562, 'job': 'Sound Re-Recording Mixer', 'name': 'Gary C. Bourgeois', 'profile_path': None}, {'credit_id': '5677f91e9251417845001a84', 'department': 'Sound', 'gender': 0, 'id': 1396794, 'job': 'Sound Re-Recording Mixer', 'name': 'Gabriel J. Serrano', 'profile_path': None}, {'credit_id': '5677f938c3a3681680008dd4', 'department': 'Editing', 'gender': 0, 'id': 13168, 'job': 'Dialogue Editor', 'name': 'Victoria Rose Sampson', 'profile_path': None}, {'credit_id': '5677f94e92514179dd008a1f', 'department': 'Sound', 'gender': 0, 'id': 1551839, 'job': 'Production Sound Mixer', 'name': 'Michael B. Koff', 'profile_path': None}, {'credit_id': '5677f968c3a368168e009698', 'department': 'Sound', 'gender': 0, 'id': 113052, 'job': 'Sound Effects Editor', 'name': 'Randall Guth', 'profile_path': None}, {'credit_id': '5677f98dc3a3681685008e02', 'department': 'Crew', 'gender': 2, 'id': 1442535, 'job': 'Stunt Coordinator', 'name': 'Chuck Picerni Jr.', 'profile_path': '/yE5QtXUzcrnCzMRctZL8F5g842B.jpg'}, {'credit_id': '5677f9a692514179dd008a49', 'department': 'Camera', 'gender': 0, 'id': 1437305, 'job': 'Camera Operator', 'name': 'Michael Applebaum', 'profile_path': None}, {'credit_id': '5677f9bd9251417845001aae', 'department': 'Camera', 'gender': 0, 'id': 1401765, 'job': 'Still Photographer', 'name': 'Steve Dietl', 'profile_path': None}, {'credit_id': '5677f9e592514179e7008bf7', 'department': 'Lighting', 'gender': 0, 'id': 1402721, 'job': 'Rigging Gaffer', 'name': 'Tarik Naim Alherimi', 'profile_path': None}, {'credit_id': '5677f9f4c3a368167c0090ed', 'department': 'Lighting', 'gender': 0, 'id': 1402719, 'job': 'Gaffer', 'name': 'Paul Olinde', 'profile_path': None}, {'credit_id': '5677fa21c3a368168e0096ca', 'department': 'Sound', 'gender': 0, 'id': 1551840, 'job': 'Music Supervisor', 'name': 'Steve Griffen', 'profile_path': None}, {'credit_id': '5677fa31c3a3681680008e04', 'department': 'Sound', 'gender': 0, 'id': 1551841, 'job': 'Music Editor', 'name': 'Matt Fausak', 'profile_path': None}, {'credit_id': '5677fa4392514179dd008a76', 'department': 'Sound', 'gender': 0, 'id': 1551840, 'job': 'Music Editor', 'name': 'Steve Griffen', 'profile_path': None}, {'credit_id': '5677fa609251417845001acf', 'department': 'Costume & Make-Up', 'gender': 0, 'id': 1403416, 'job': 'Costume Supervisor', 'name': 'Shonta T. McCray', 'profile_path': None}, {'credit_id': '5677fa8492514179d2008fb3', 'department': 'Camera', 'gender': 0, 'id': 1425831, 'job': 'Steadicam Operator', 'name': 'Mark Karavite', 'profile_path': None}, {'credit_id': '5677fab2c3a3681689008ac3', 'department': 'Camera', 'gender': 0, 'id': 1551842, 'job': 'First Assistant Camera', 'name': 'Joe Waistell', 'profile_path': None}, {'credit_id': '5677faecc3a368168e0096fe', 'department': 'Sound', 'gender': 0, 'id': 58362, 'job': 'Supervising Sound Editor', 'name': 'Michael Hilkene', 'profile_path': None}, {'credit_id': '59ac0368c3a3682c0a02c484', 'department': 'Crew', 'gender': 0, 'id': 1881584, 'job': 'Additional Writing', 'name': 'John Karnay', 'profile_path': None}, {'credit_id': '59ac0411c3a3682bf0028966', 'department': 'Costume & Make-Up', 'gender': 0, 'id': 1431552, 'job': 'Hairstylist', 'name': 'Daina Daigle', 'profile_path': None}, {'credit_id': '59ac0504925141072302b8fb', 'department': 'Costume & Make-Up', 'gender': 0, 'id': 1712001, 'job': 'Makeup Artist', 'name': 'Allison Gordin', 'profile_path': None}, {'credit_id': '59ac0570c3a3682bf0028aac', 'department': 'Costume & Make-Up', 'gender': 0, 'id': 578725, 'job': 'Makeup Artist', 'name': 'Darryl Lucas', 'profile_path': None}, {'credit_id': '59ac05a4925141077e02c97e', 'department': 'Costume & Make-Up', 'gender': 0, 'id': 1463274, 'job': 'Makeup Artist', 'name': 'Annabelle MacNeal', 'profile_path': None}, {'credit_id': '59ac05c6925141076502d106', 'department': 'Costume & Make-Up', 'gender': 0, 'id': 1881586, 'job': 'Makeup Artist', 'name': 'Marina Savva', 'profile_path': None}, {'credit_id': '59ac0615c3a3682c480296aa', 'department': 'Costume & Make-Up', 'gender': 0, 'id': 1406267, 'job': 'Hairstylist', 'name': 'Carl G. Variste', 'profile_path': None}, {'credit_id': '59ac06ba925141076502d1fa', 'department': 'Directing', 'gender': 0, 'id': 1798593, 'job': 'First Assistant Director', 'name': 'Josh King', 'profile_path': None}, {'credit_id': '59ac06f1c3a3682c2202aca0', 'department': 'Art', 'gender': 0, 'id': 1415083, 'job': 'Greensman', 'name': 'Scott C. Bivona', 'profile_path': None}, {'credit_id': '59ac072c925141076502d260', 'department': 'Art', 'gender': 0, 'id': 1881587, 'job': 'Title Designer', 'name': 'Eunha Choi', 'profile_path': None}, {'credit_id': '59ac077c925141077e02cb62', 'department': 'Art', 'gender': 0, 'id': 1585302, 'job': 'Construction Coordinator', 'name': 'Daniel Coe', 'profile_path': None}, {'credit_id': '59ac07e0925141078a02d842', 'department': 'Art', 'gender': 0, 'id': 1495523, 'job': 'Set Designer', 'name': 'Spencer Davison', 'profile_path': None}, {'credit_id': '59ac0862925141072f02cf6f', 'department': 'Art', 'gender': 0, 'id': 1881589, 'job': 'Painter', 'name': 'Sonia L. Garcia', 'profile_path': None}, {'credit_id': '59ac08e0c3a3682bf0028e51', 'department': 'Art', 'gender': 0, 'id': 1424896, 'job': 'Art Department Coordinator', 'name': 'Caleb Guillotte', 'profile_path': None}, {'credit_id': '59ac0920c3a3682c2202af36', 'department': 'Art', 'gender': 0, 'id': 1393375, 'job': 'Leadman', 'name': \"Pat A. O'Connor\", 'profile_path': None}, {'credit_id': '59ac095592514107af02cc39', 'department': 'Art', 'gender': 0, 'id': 1881592, 'job': 'Set Designer', 'name': 'Brendan Turrill', 'profile_path': None}, {'credit_id': '59ac0989925141072302bdfa', 'department': 'Art', 'gender': 2, 'id': 76497, 'job': 'Property Master', 'name': 'Brook Yeaton', 'profile_path': None}, {'credit_id': '59ac0a2cc3a3682c9c02add1', 'department': 'Sound', 'gender': 0, 'id': 1881596, 'job': 'Boom Operator', 'name': 'Matthew Armstrong', 'profile_path': None}, {'credit_id': '59ac0aa8925141072f02d282', 'department': 'Visual Effects', 'gender': 2, 'id': 1558086, 'job': 'Special Effects Supervisor', 'name': 'Matt Kutcher', 'profile_path': None}, {'credit_id': '59ac0b2ac3a3682c2202b192', 'department': 'Crew', 'gender': 2, 'id': 1558087, 'job': 'Special Effects Coordinator', 'name': 'Eric Roberts', 'profile_path': None}, {'credit_id': '59ac0b7ac3a3682c2202b1fb', 'department': 'Visual Effects', 'gender': 0, 'id': 1392098, 'job': 'Visual Effects Supervisor', 'name': 'Rocco Passionino', 'profile_path': None}, {'credit_id': '59ac0bbe925141077e02d0c4', 'department': 'Visual Effects', 'gender': 0, 'id': 1558716, 'job': 'Visual Effects Coordinator', 'name': 'Joseph Payo', 'profile_path': None}, {'credit_id': '59ac0bf2c3a3682cc802cefa', 'department': 'Visual Effects', 'gender': 0, 'id': 1408784, 'job': 'Visual Effects Producer', 'name': 'Chris Roff', 'profile_path': None}, {'credit_id': '59ac0c51c3a3682c48029d99', 'department': 'Lighting', 'gender': 0, 'id': 1881600, 'job': 'Best Boy Electric', 'name': 'Ulyan Atamanyuk', 'profile_path': None}, {'credit_id': '59ac0cbac3a3682c0a02cff6', 'department': 'Camera', 'gender': 0, 'id': 1881602, 'job': 'Key Grip', 'name': 'Chris Ekstrom', 'profile_path': None}, {'credit_id': '59ac0d54925141072f02d5e6', 'department': 'Lighting', 'gender': 0, 'id': 1484984, 'job': 'Best Boy Electric', 'name': 'Brad Garris', 'profile_path': None}, {'credit_id': '59ac0db0925141078a02df86', 'department': 'Camera', 'gender': 0, 'id': 1881603, 'job': 'Dolly Grip', 'name': 'Kendell Joseph', 'profile_path': None}, {'credit_id': '59ac0e5a925141077e02d39f', 'department': 'Camera', 'gender': 0, 'id': 1549179, 'job': 'Dolly Grip', 'name': 'Spencer Wilcox', 'profile_path': None}, {'credit_id': '59ac0e9f925141079d02bee6', 'department': 'Costume & Make-Up', 'gender': 0, 'id': 1552626, 'job': 'Key Costumer', 'name': 'Sarah P. Koeppe', 'profile_path': None}, {'credit_id': '59ac0ec1c3a3682bf0029524', 'department': 'Costume & Make-Up', 'gender': 0, 'id': 1881605, 'job': 'Seamstress', 'name': 'Catherine Rodi', 'profile_path': None}, {'credit_id': '59ac0eef925141070702c7ff', 'department': 'Costume & Make-Up', 'gender': 0, 'id': 1463801, 'job': 'Seamstress', 'name': 'Giselle Spence', 'profile_path': None}, {'credit_id': '59ac0f5dc3a3682c4802a0f5', 'department': 'Production', 'gender': 0, 'id': 1400837, 'job': 'Location Manager', 'name': 'John A. Johnston', 'profile_path': None}, {'credit_id': '59ac0ff2c3a3682c4802a196', 'department': 'Crew', 'gender': 0, 'id': 1844322, 'job': 'Production Controller', 'name': 'Gail Marks', 'profile_path': None}]\n",
      "[{'credit_id': '52fe43fe9251416c7502563d', 'department': 'Directing', 'gender': 2, 'id': 1201, 'job': 'Director', 'name': 'Garry Marshall', 'profile_path': '/kx77E8p5rnEmKxIhFT0qWCEMEik.jpg'}, {'credit_id': '52fe43fe9251416c75025667', 'department': 'Camera', 'gender': 2, 'id': 1214, 'job': 'Director of Photography', 'name': 'Charles Minsky', 'profile_path': None}, {'credit_id': '52fe43fe9251416c75025661', 'department': 'Sound', 'gender': 2, 'id': 4500, 'job': 'Original Music Composer', 'name': 'John Debney', 'profile_path': '/hTrlvZlDXQk49nfc2BM9sjKfJv.jpg'}, {'credit_id': '52fe43fe9251416c7502564f', 'department': 'Production', 'gender': 1, 'id': 8851, 'job': 'Producer', 'name': 'Whitney Houston', 'profile_path': '/69ouDnXnmklYPr4sMJXWKYz81AL.jpg'}, {'credit_id': '52fe43fe9251416c7502566d', 'department': 'Editing', 'gender': 0, 'id': 12970, 'job': 'Editor', 'name': 'Bruce Green', 'profile_path': '/yplxWPVgwK1b33AjvbhM9mWX2Aw.jpg'}, {'credit_id': '52fe43fe9251416c75025655', 'department': 'Production', 'gender': 2, 'id': 38415, 'job': 'Producer', 'name': 'Mario Iscovich', 'profile_path': None}, {'credit_id': '52fe43fe9251416c7502565b', 'department': 'Production', 'gender': 1, 'id': 38416, 'job': 'Executive Producer', 'name': 'Ellen H. Schwartz', 'profile_path': '/6WInjABr1sAYGXaa5qOvSrsHIqP.jpg'}, {'credit_id': '52fe43fe9251416c75025649', 'department': 'Production', 'gender': 1, 'id': 59973, 'job': 'Producer', 'name': 'Debra Martin Chase', 'profile_path': None}, {'credit_id': '52fe43fe9251416c75025643', 'department': 'Writing', 'gender': 1, 'id': 25539, 'job': 'Screenplay', 'name': 'Shonda Rhimes', 'profile_path': '/4c77e347InbTAlw9lGvORpZBHV6.jpg'}]\n"
     ]
    }
   ],
   "source": [
    "for crew in train_df['crew'][:2]:\n",
    "    print(crew)"
   ]
  },
  {
   "cell_type": "code",
   "execution_count": 90,
   "metadata": {
    "scrolled": true
   },
   "outputs": [
    {
     "data": {
      "text/plain": [
       "[('Production', 15887),\n",
       " ('Sound', 9319),\n",
       " ('Art', 8069),\n",
       " ('Crew', 7315),\n",
       " ('Writing', 6567),\n",
       " ('Costume & Make-Up', 6156),\n",
       " ('Camera', 5424),\n",
       " ('Directing', 4954),\n",
       " ('Editing', 4508),\n",
       " ('Visual Effects', 3591),\n",
       " ('Lighting', 1303),\n",
       " ('Actors', 4)]"
      ]
     },
     "execution_count": 90,
     "metadata": {},
     "output_type": "execute_result"
    }
   ],
   "source": [
    "list_of_dep = list(train_df['crew'].apply(lambda x: [i['department'] for i in x] if x != {} else []).values)\n",
    "Counter([i for j in list_of_dep for i in j]).most_common()"
   ]
  },
  {
   "cell_type": "code",
   "execution_count": 91,
   "metadata": {
    "scrolled": true
   },
   "outputs": [],
   "source": [
    "for df in [train_df, test_df]:\n",
    "    df['crew_num'] = df['crew'].apply(lambda x: len(x) if x != {} else 0) ## numero di componenti della crew\n",
    "    df['genders_0_crew'] = df['crew'].apply(lambda x: sum([1 for i in x if i['gender'] == 0])) ## non specificato\n",
    "    df['female_crew'] = df['crew'].apply(lambda x: sum([1 for i in x if i['gender'] == 1])) ## donna\n",
    "    df['male_crew'] = df['crew'].apply(lambda x: sum([1 for i in x if i['gender'] == 2])) ## uomo"
   ]
  },
  {
   "cell_type": "code",
   "execution_count": 92,
   "metadata": {
    "scrolled": true
   },
   "outputs": [],
   "source": [
    "## Queste sono le top 15 persone che hanno lavorato di più nei film, raggruppate per lavoro.\n",
    "## Penso sia meglio se le raggruppo per dipartimento.\n",
    "# list_of_names = list(train_df['crew'].apply(lambda x: [i['name'] for i in x] if x != {} else []).values)\n",
    "# list_of_top_names = Counter([i for j in list_of_names for i in j]).most_common(15)\n",
    "# list_of_top_names"
   ]
  },
  {
   "cell_type": "markdown",
   "metadata": {},
   "source": [
    "##### Directing"
   ]
  },
  {
   "cell_type": "code",
   "execution_count": 93,
   "metadata": {
    "scrolled": true
   },
   "outputs": [],
   "source": [
    "for df in [train_df, test_df]:\n",
    "    df['all_dir'] = df['crew'].apply(lambda x: [i['name'] for i in x if i['department'] == 'Directing'] if x != {} else []).values"
   ]
  },
  {
   "cell_type": "code",
   "execution_count": 94,
   "metadata": {
    "scrolled": false
   },
   "outputs": [
    {
     "data": {
      "text/html": [
       "<div>\n",
       "<style scoped>\n",
       "    .dataframe tbody tr th:only-of-type {\n",
       "        vertical-align: middle;\n",
       "    }\n",
       "\n",
       "    .dataframe tbody tr th {\n",
       "        vertical-align: top;\n",
       "    }\n",
       "\n",
       "    .dataframe thead th {\n",
       "        text-align: right;\n",
       "    }\n",
       "</style>\n",
       "<table border=\"1\" class=\"dataframe\">\n",
       "  <thead>\n",
       "    <tr style=\"text-align: right;\">\n",
       "      <th></th>\n",
       "      <th>director</th>\n",
       "      <th>count</th>\n",
       "    </tr>\n",
       "  </thead>\n",
       "  <tbody>\n",
       "    <tr>\n",
       "      <th>238</th>\n",
       "      <td>Karen Golden</td>\n",
       "      <td>13</td>\n",
       "    </tr>\n",
       "    <tr>\n",
       "      <th>526</th>\n",
       "      <td>Clint Eastwood</td>\n",
       "      <td>11</td>\n",
       "    </tr>\n",
       "    <tr>\n",
       "      <th>214</th>\n",
       "      <td>Kerry Lyn McKissick</td>\n",
       "      <td>11</td>\n",
       "    </tr>\n",
       "    <tr>\n",
       "      <th>200</th>\n",
       "      <td>Ron Howard</td>\n",
       "      <td>11</td>\n",
       "    </tr>\n",
       "    <tr>\n",
       "      <th>29</th>\n",
       "      <td>Steven Spielberg</td>\n",
       "      <td>10</td>\n",
       "    </tr>\n",
       "    <tr>\n",
       "      <th>...</th>\n",
       "      <td>...</td>\n",
       "      <td>...</td>\n",
       "    </tr>\n",
       "    <tr>\n",
       "      <th>1400</th>\n",
       "      <td>Mark Sandrich</td>\n",
       "      <td>1</td>\n",
       "    </tr>\n",
       "    <tr>\n",
       "      <th>1401</th>\n",
       "      <td>Sandy King</td>\n",
       "      <td>1</td>\n",
       "    </tr>\n",
       "    <tr>\n",
       "      <th>1402</th>\n",
       "      <td>Kazuaki Kiriya</td>\n",
       "      <td>1</td>\n",
       "    </tr>\n",
       "    <tr>\n",
       "      <th>1404</th>\n",
       "      <td>Shinji Higuchi</td>\n",
       "      <td>1</td>\n",
       "    </tr>\n",
       "    <tr>\n",
       "      <th>3181</th>\n",
       "      <td>Lisa Bloch-Tobey</td>\n",
       "      <td>1</td>\n",
       "    </tr>\n",
       "  </tbody>\n",
       "</table>\n",
       "<p>3182 rows × 2 columns</p>\n",
       "</div>"
      ],
      "text/plain": [
       "                 director  count\n",
       "238          Karen Golden     13\n",
       "526        Clint Eastwood     11\n",
       "214   Kerry Lyn McKissick     11\n",
       "200            Ron Howard     11\n",
       "29       Steven Spielberg     10\n",
       "...                   ...    ...\n",
       "1400        Mark Sandrich      1\n",
       "1401           Sandy King      1\n",
       "1402       Kazuaki Kiriya      1\n",
       "1404       Shinji Higuchi      1\n",
       "3181     Lisa Bloch-Tobey      1\n",
       "\n",
       "[3182 rows x 2 columns]"
      ]
     },
     "execution_count": 94,
     "metadata": {},
     "output_type": "execute_result"
    }
   ],
   "source": [
    "count_of_directors = Counter([i for j in list(train_df['all_dir']) for i in j])\n",
    "df_count_directors = pd.DataFrame.from_dict(count_of_directors, orient='index').reset_index().rename(columns={'index':'director', 0:'count'})\n",
    "df_count_directors = df_count_directors.sort_values('count', ascending=False)\n",
    "df_count_directors"
   ]
  },
  {
   "cell_type": "code",
   "execution_count": 95,
   "metadata": {},
   "outputs": [
    {
     "data": {
      "text/html": [
       "<div>\n",
       "<style scoped>\n",
       "    .dataframe tbody tr th:only-of-type {\n",
       "        vertical-align: middle;\n",
       "    }\n",
       "\n",
       "    .dataframe tbody tr th {\n",
       "        vertical-align: top;\n",
       "    }\n",
       "\n",
       "    .dataframe thead th {\n",
       "        text-align: right;\n",
       "    }\n",
       "</style>\n",
       "<table border=\"1\" class=\"dataframe\">\n",
       "  <thead>\n",
       "    <tr style=\"text-align: right;\">\n",
       "      <th></th>\n",
       "      <th>director</th>\n",
       "      <th>count</th>\n",
       "    </tr>\n",
       "  </thead>\n",
       "  <tbody>\n",
       "    <tr>\n",
       "      <th>449</th>\n",
       "      <td>Steven Spielberg</td>\n",
       "      <td>20</td>\n",
       "    </tr>\n",
       "    <tr>\n",
       "      <th>1002</th>\n",
       "      <td>Clint Eastwood</td>\n",
       "      <td>18</td>\n",
       "    </tr>\n",
       "    <tr>\n",
       "      <th>215</th>\n",
       "      <td>Woody Allen</td>\n",
       "      <td>18</td>\n",
       "    </tr>\n",
       "    <tr>\n",
       "      <th>98</th>\n",
       "      <td>Ridley Scott</td>\n",
       "      <td>16</td>\n",
       "    </tr>\n",
       "    <tr>\n",
       "      <th>271</th>\n",
       "      <td>Alfred Hitchcock</td>\n",
       "      <td>13</td>\n",
       "    </tr>\n",
       "    <tr>\n",
       "      <th>...</th>\n",
       "      <td>...</td>\n",
       "      <td>...</td>\n",
       "    </tr>\n",
       "    <tr>\n",
       "      <th>1957</th>\n",
       "      <td>Radmila Jovancicevic</td>\n",
       "      <td>1</td>\n",
       "    </tr>\n",
       "    <tr>\n",
       "      <th>1958</th>\n",
       "      <td>Antony J. Bowman</td>\n",
       "      <td>1</td>\n",
       "    </tr>\n",
       "    <tr>\n",
       "      <th>1960</th>\n",
       "      <td>Elliot Silverstein</td>\n",
       "      <td>1</td>\n",
       "    </tr>\n",
       "    <tr>\n",
       "      <th>1961</th>\n",
       "      <td>Deb Hagan</td>\n",
       "      <td>1</td>\n",
       "    </tr>\n",
       "    <tr>\n",
       "      <th>4155</th>\n",
       "      <td>Jean-Paul Savignac</td>\n",
       "      <td>1</td>\n",
       "    </tr>\n",
       "  </tbody>\n",
       "</table>\n",
       "<p>4156 rows × 2 columns</p>\n",
       "</div>"
      ],
      "text/plain": [
       "                  director  count\n",
       "449       Steven Spielberg     20\n",
       "1002        Clint Eastwood     18\n",
       "215            Woody Allen     18\n",
       "98            Ridley Scott     16\n",
       "271       Alfred Hitchcock     13\n",
       "...                    ...    ...\n",
       "1957  Radmila Jovancicevic      1\n",
       "1958      Antony J. Bowman      1\n",
       "1960    Elliot Silverstein      1\n",
       "1961             Deb Hagan      1\n",
       "4155    Jean-Paul Savignac      1\n",
       "\n",
       "[4156 rows x 2 columns]"
      ]
     },
     "execution_count": 95,
     "metadata": {},
     "output_type": "execute_result"
    }
   ],
   "source": [
    "count_of_directors = Counter([i for j in list(test_df['all_dir']) for i in j])\n",
    "df_count_directors = pd.DataFrame.from_dict(count_of_directors, orient='index').reset_index().rename(columns={'index':'director', 0:'count'})\n",
    "df_count_directors = df_count_directors.sort_values('count', ascending=False)\n",
    "df_count_directors"
   ]
  },
  {
   "cell_type": "markdown",
   "metadata": {},
   "source": [
    "Non ci sono registi che hanno girato un numero di film significativo, quindi creerei delle feature poco importanti."
   ]
  },
  {
   "cell_type": "code",
   "execution_count": 96,
   "metadata": {
    "scrolled": true
   },
   "outputs": [
    {
     "name": "stdout",
     "output_type": "stream",
     "text": [
      "               director     mean_revenue\n",
      "34          Anna Worley  933959197.00000\n",
      "220     Alfonso Cuar√≥n  716392705.00000\n",
      "120         Zack Snyder  662845518.00000\n",
      "82         Harald Kraut  622052149.00000\n",
      "176         Michael Bay  488344056.62500\n",
      "8    Ana Maria Quintana  487500802.42857\n",
      "193         Rob Minkoff  485266021.00000\n",
      "151      Gore Verbinski  471568411.50000\n",
      "63           Rick Moore  442500920.40000\n",
      "0      Steven Spielberg  417390522.90000\n"
     ]
    }
   ],
   "source": [
    "df_top_directors =  df_count_directors[df_count_directors['count'] > 4] ## registi che hanno lavorato a più di 10 film\n",
    "unique_names = list(df_top_directors['director'])\n",
    "\n",
    "dic = {}\n",
    "for n in unique_names:\n",
    "    director = train_df['all_dir'].apply(lambda x: n in x)\n",
    "    dic[n] = train_df[director]['revenue'].mean()\n",
    "    \n",
    "## top 10 registi con la media degli incassi più alta e che hanno lavorato a  più di 10 film\n",
    "d_mean_revenue = pd.DataFrame.from_dict(dic, orient='index', columns = ['mean_revenue']).reset_index().rename(columns = {'index':'director'})\n",
    "d_mean_revenue = d_mean_revenue.nlargest(10, 'mean_revenue') \n",
    "list_top_directors = list(d_mean_revenue['director'])\n",
    "d_mean_revenue['mean_revenue'] = d_mean_revenue['mean_revenue'].apply(lambda x:  '{0:.5f}'.format(x))\n",
    "print(d_mean_revenue)\n",
    "\n",
    "for d in list_top_directors: ## one hot encoding\n",
    "    train_df['dir_' + d] = train_df['all_dir'].apply(lambda x: 1 if d in x else 0)\n",
    "    test_df['dir_' + d] = test_df['all_dir'].apply(lambda x: 1 if d in x else 0)"
   ]
  },
  {
   "cell_type": "code",
   "execution_count": 97,
   "metadata": {
    "scrolled": true
   },
   "outputs": [],
   "source": [
    "for df in [train_df, test_df]:\n",
    "    df.drop(columns = 'all_dir', inplace=True)"
   ]
  },
  {
   "cell_type": "markdown",
   "metadata": {},
   "source": [
    "##### Production"
   ]
  },
  {
   "cell_type": "code",
   "execution_count": 98,
   "metadata": {
    "scrolled": true
   },
   "outputs": [
    {
     "data": {
      "text/plain": [
       "[('Avy Kaufman', 50),\n",
       " ('Deborah Aquila', 40),\n",
       " ('Mary Vernieu', 38),\n",
       " ('Francine Maisler', 35),\n",
       " ('Tricia Wood', 35),\n",
       " ('Kerry Barden', 32),\n",
       " ('Bob Weinstein', 30),\n",
       " ('Harvey Weinstein', 30),\n",
       " ('Janet Hirshenson', 30),\n",
       " ('Jane Jenkins', 29),\n",
       " ('John Papsidera', 28),\n",
       " ('Billy Hopkins', 27),\n",
       " ('Mindy Marin', 27),\n",
       " ('Sarah Finn', 26),\n",
       " ('Neal H. Moritz', 26),\n",
       " ('Tim Bevan', 26),\n",
       " ('Scott Rudin', 25),\n",
       " ('Arnon Milchan', 25),\n",
       " ('Eric Fellner', 25),\n",
       " ('Bruce Berman', 25),\n",
       " ('Steven Spielberg', 25),\n",
       " ('Suzanne Smith', 24),\n",
       " ('Amanda Mackey', 24),\n",
       " ('Denise Chamian', 22),\n",
       " ('Randi Hiller', 22),\n",
       " ('Cathy Sandrich', 22),\n",
       " ('Joel Silver', 22),\n",
       " ('Roger Birnbaum', 21),\n",
       " ('Brian Grazer', 21),\n",
       " ('Ronna Kress', 20),\n",
       " ('Gary Barber', 20)]"
      ]
     },
     "execution_count": 98,
     "metadata": {},
     "output_type": "execute_result"
    }
   ],
   "source": [
    "list_of_prod = list(train_df['crew'].apply(lambda x: [i['name'] for i in x if i['department'] == 'Production'] if x != {} else []).values)\n",
    "list_of_top_prod = Counter([i for j in list_of_prod for i in j]).most_common(31) ## hanno contribuito ad almeno 20 film\n",
    "list_of_top_prod"
   ]
  },
  {
   "cell_type": "code",
   "execution_count": 99,
   "metadata": {
    "scrolled": true
   },
   "outputs": [],
   "source": [
    "for df in [train_df, test_df]:\n",
    "    df['all_prod'] = df['crew'].apply(lambda x: [i['name'] for i in x if i['department'] == 'Production'] if x != {} else []).values"
   ]
  },
  {
   "cell_type": "code",
   "execution_count": 100,
   "metadata": {
    "scrolled": true
   },
   "outputs": [
    {
     "name": "stdout",
     "output_type": "stream",
     "text": [
      "          productors     mean_revenue\n",
      "13        Sarah Finn  321927457.24000\n",
      "23    Denise Chamian  249449655.77273\n",
      "20  Steven Spielberg  247456500.40000\n",
      "14    Neal H. Moritz  205106778.92308\n",
      "8   Janet Hirshenson  193387514.43333\n",
      "9       Jane Jenkins  188347625.89655\n",
      "19      Bruce Berman  170024873.08000\n",
      "24      Randi Hiller  167842672.28571\n",
      "29       Ronna Kress  166784772.80000\n",
      "10    John Papsidera  140751883.89286\n"
     ]
    }
   ],
   "source": [
    "prod = [x[0] for x in list_of_top_prod]\n",
    "unique_names = pd.Series(prod).unique()\n",
    "dic = {}\n",
    "for n in unique_names:\n",
    "    prod = train_df['all_prod'].apply(lambda x: n in x)\n",
    "    dic[n] = train_df[prod]['revenue'].mean()\n",
    "    \n",
    "## top 10 produttori con la media degli incassi più alta e che hanno contribuito ad almeno 20 film\n",
    "prod_mean_revenue = pd.DataFrame.from_dict(dic, orient = 'index', columns = ['mean_revenue']).reset_index().rename(columns = {'index':'productors'})\n",
    "prod_mean_revenue = prod_mean_revenue.nlargest(10, 'mean_revenue') \n",
    "list_top_actors = list(prod_mean_revenue['productors'])\n",
    "prod_mean_revenue['mean_revenue'] = prod_mean_revenue['mean_revenue'].apply(lambda x:  '{0:.5f}'.format(x))\n",
    "print(prod_mean_revenue)\n",
    "\n",
    "for prod in list_top_actors: ## one hot encoding\n",
    "    train_df['prod_' + prod] = train_df['all_prod'].apply(lambda x: 1 if prod in x else 0)\n",
    "    test_df['prod_' + prod] = test_df['all_prod'].apply(lambda x: 1 if prod in x else 0)"
   ]
  },
  {
   "cell_type": "code",
   "execution_count": 101,
   "metadata": {
    "scrolled": true
   },
   "outputs": [],
   "source": [
    "for df in [train_df, test_df]:\n",
    "    df.drop(columns = 'all_prod', inplace=True)"
   ]
  },
  {
   "cell_type": "markdown",
   "metadata": {},
   "source": [
    "##### Writing"
   ]
  },
  {
   "cell_type": "code",
   "execution_count": 102,
   "metadata": {
    "scrolled": true
   },
   "outputs": [],
   "source": [
    "for df in [train_df, test_df]:\n",
    "    df['all_writ'] = df['crew'].apply(lambda x: [i['name'] for i in x if i['department'] == 'Writing'] if x != {} else []).values"
   ]
  },
  {
   "cell_type": "code",
   "execution_count": 103,
   "metadata": {
    "scrolled": false
   },
   "outputs": [
    {
     "data": {
      "text/html": [
       "<div>\n",
       "<style scoped>\n",
       "    .dataframe tbody tr th:only-of-type {\n",
       "        vertical-align: middle;\n",
       "    }\n",
       "\n",
       "    .dataframe tbody tr th {\n",
       "        vertical-align: top;\n",
       "    }\n",
       "\n",
       "    .dataframe thead th {\n",
       "        text-align: right;\n",
       "    }\n",
       "</style>\n",
       "<table border=\"1\" class=\"dataframe\">\n",
       "  <thead>\n",
       "    <tr style=\"text-align: right;\">\n",
       "      <th></th>\n",
       "      <th>writers</th>\n",
       "      <th>count</th>\n",
       "    </tr>\n",
       "  </thead>\n",
       "  <tbody>\n",
       "    <tr>\n",
       "      <th>35</th>\n",
       "      <td>Luc Besson</td>\n",
       "      <td>17</td>\n",
       "    </tr>\n",
       "    <tr>\n",
       "      <th>130</th>\n",
       "      <td>Ian Fleming</td>\n",
       "      <td>16</td>\n",
       "    </tr>\n",
       "    <tr>\n",
       "      <th>1015</th>\n",
       "      <td>Stephen King</td>\n",
       "      <td>14</td>\n",
       "    </tr>\n",
       "    <tr>\n",
       "      <th>17</th>\n",
       "      <td>Sylvester Stallone</td>\n",
       "      <td>14</td>\n",
       "    </tr>\n",
       "    <tr>\n",
       "      <th>1521</th>\n",
       "      <td>David S. Goyer</td>\n",
       "      <td>11</td>\n",
       "    </tr>\n",
       "    <tr>\n",
       "      <th>...</th>\n",
       "      <td>...</td>\n",
       "      <td>...</td>\n",
       "    </tr>\n",
       "    <tr>\n",
       "      <th>1914</th>\n",
       "      <td>Dan Schneider</td>\n",
       "      <td>1</td>\n",
       "    </tr>\n",
       "    <tr>\n",
       "      <th>1915</th>\n",
       "      <td>Elisa Briganti</td>\n",
       "      <td>1</td>\n",
       "    </tr>\n",
       "    <tr>\n",
       "      <th>1916</th>\n",
       "      <td>Jos√© Truchado</td>\n",
       "      <td>1</td>\n",
       "    </tr>\n",
       "    <tr>\n",
       "      <th>1917</th>\n",
       "      <td>Jeff Tremaine</td>\n",
       "      <td>1</td>\n",
       "    </tr>\n",
       "    <tr>\n",
       "      <th>4331</th>\n",
       "      <td>Coco Moodysson</td>\n",
       "      <td>1</td>\n",
       "    </tr>\n",
       "  </tbody>\n",
       "</table>\n",
       "<p>4332 rows × 2 columns</p>\n",
       "</div>"
      ],
      "text/plain": [
       "                 writers  count\n",
       "35            Luc Besson     17\n",
       "130          Ian Fleming     16\n",
       "1015        Stephen King     14\n",
       "17    Sylvester Stallone     14\n",
       "1521      David S. Goyer     11\n",
       "...                  ...    ...\n",
       "1914       Dan Schneider      1\n",
       "1915      Elisa Briganti      1\n",
       "1916      Jos√© Truchado      1\n",
       "1917       Jeff Tremaine      1\n",
       "4331      Coco Moodysson      1\n",
       "\n",
       "[4332 rows x 2 columns]"
      ]
     },
     "execution_count": 103,
     "metadata": {},
     "output_type": "execute_result"
    }
   ],
   "source": [
    "count_of_writers = Counter([i for j in list(train_df['all_writ']) for i in j])\n",
    "df_count_writers = pd.DataFrame.from_dict(count_of_writers, orient = 'index').reset_index().rename(columns = {'index':'writers', 0:'count'})\n",
    "df_count_writers = df_count_writers.sort_values('count', ascending = False)\n",
    "df_count_writers"
   ]
  },
  {
   "cell_type": "markdown",
   "metadata": {},
   "source": [
    "Come per i registi, anche il numero di film a cui ha contribuito ciascun sceneggiatore è poco significativo."
   ]
  },
  {
   "cell_type": "code",
   "execution_count": 104,
   "metadata": {
    "scrolled": true
   },
   "outputs": [
    {
     "name": "stdout",
     "output_type": "stream",
     "text": [
      "            writers     mean_revenue\n",
      "53  Philippa Boyens  736780819.66667\n",
      "22     Terry Rossio  673875343.40000\n",
      "27      Ted Elliott  673875343.40000\n",
      "20    Peter Jackson  635720590.57143\n",
      "24       Fran Walsh  635720590.57143\n",
      "49       Jack Kirby  572419819.83333\n",
      "54         Stan Lee  572419819.83333\n",
      "23   Andrew Stanton  551893970.50000\n",
      "16      Joss Whedon  535687153.71429\n",
      "25      Robert Wade  503366305.00000\n"
     ]
    }
   ],
   "source": [
    "df_top_writers =  df_count_writers[df_count_writers['count'] > 5] ## scrittori che hanno scritto più di 5 film\n",
    "unique_names = list(df_top_writers['writers'])\n",
    "\n",
    "dic={}\n",
    "for n in unique_names:\n",
    "    writer = train_df['all_writ'].apply(lambda x: n in x)\n",
    "    dic[n] = train_df[writer]['revenue'].mean()\n",
    "    \n",
    "## top 10 scrittori con la media degli incassi più alta e che hanno scritto più di 5 film\n",
    "w_mean_revenue = pd.DataFrame.from_dict(dic, orient='index', columns=['mean_revenue']).reset_index().rename(columns={'index':'writers'})\n",
    "w_mean_revenue = w_mean_revenue.nlargest(10, 'mean_revenue') \n",
    "list_top_writers = list(w_mean_revenue['writers'])\n",
    "w_mean_revenue['mean_revenue'] = w_mean_revenue['mean_revenue'].apply(lambda x:  '{0:.5f}'.format(x))\n",
    "print(w_mean_revenue)\n",
    "\n",
    "for w in list_top_writers: ## one hot encoding\n",
    "    train_df['writ_' + w] = train_df['all_writ'].apply(lambda x: 1 if w in x else 0)\n",
    "    test_df['writ_' + w] = test_df['all_writ'].apply(lambda x: 1 if w in x else 0)"
   ]
  },
  {
   "cell_type": "code",
   "execution_count": 105,
   "metadata": {
    "scrolled": true
   },
   "outputs": [],
   "source": [
    "for df in [train_df, test_df]:\n",
    "    df.drop(columns = 'all_writ', inplace=True)"
   ]
  },
  {
   "cell_type": "markdown",
   "metadata": {},
   "source": [
    "##### Sound"
   ]
  },
  {
   "cell_type": "code",
   "execution_count": 106,
   "metadata": {
    "scrolled": true
   },
   "outputs": [],
   "source": [
    "for df in [train_df, test_df]:\n",
    "    df['all_sound'] = df['crew'].apply(lambda x: [i['name'] for i in x if i['department'] == 'Sound'] if x != {} else []).values"
   ]
  },
  {
   "cell_type": "code",
   "execution_count": 107,
   "metadata": {
    "scrolled": true
   },
   "outputs": [
    {
     "data": {
      "text/plain": [
       "[('James Newton Howard', 39),\n",
       " ('Jerry Goldsmith', 37),\n",
       " ('James Horner', 33),\n",
       " ('John Debney', 28),\n",
       " ('Hans Zimmer', 28),\n",
       " ('Danny Elfman', 27),\n",
       " ('Alan Silvestri', 26),\n",
       " ('Mark Isham', 26),\n",
       " ('Marco Beltrami', 25),\n",
       " ('Graeme Revell', 25),\n",
       " (\"Dan O'Connell\", 25),\n",
       " ('Thomas Newman', 23),\n",
       " ('John Powell', 22),\n",
       " ('Carter Burwell', 22),\n",
       " ('Christophe Beck', 21),\n",
       " ('John Williams', 21),\n",
       " ('Howard Shore', 21),\n",
       " ('John T. Cucci', 21),\n",
       " ('Christopher Assells', 19),\n",
       " ('Glenn Freemantle', 19),\n",
       " ('Randall Poster', 18),\n",
       " ('Michael Kamen', 18),\n",
       " ('Christopher Boyes', 18),\n",
       " ('Christopher Young', 17),\n",
       " ('Alexandre Desplat', 17),\n",
       " ('Peter Burgis', 16),\n",
       " ('Ron Bartlett', 16),\n",
       " ('Brian Tyler', 16),\n",
       " ('Rachel Portman', 16),\n",
       " ('David Newman', 16),\n",
       " ('Trevor Rabin', 16),\n",
       " ('Kevin Kaska', 16),\n",
       " ('Mark Mothersbaugh', 15),\n",
       " ('Pete Anthony', 15),\n",
       " ('John T. Reitz', 15)]"
      ]
     },
     "execution_count": 107,
     "metadata": {},
     "output_type": "execute_result"
    }
   ],
   "source": [
    "list_of_sound = list(train_df['all_sound'])\n",
    "\n",
    "##hanno lavorato ad almeo 15 film\n",
    "list_of_top_sound = Counter([i for j in list_of_sound for i in j]).most_common(35) \n",
    "list_of_top_sound\n"
   ]
  },
  {
   "cell_type": "code",
   "execution_count": 108,
   "metadata": {
    "scrolled": false
   },
   "outputs": [
    {
     "name": "stdout",
     "output_type": "stream",
     "text": [
      "          compositors     mean_revenue\n",
      "22  Christopher Boyes  602851330.30769\n",
      "31        Kevin Kaska  366454898.25000\n",
      "27        Brian Tyler  331790373.81250\n",
      "15      John Williams  329560727.19048\n",
      "4         Hans Zimmer  304879846.32143\n"
     ]
    }
   ],
   "source": [
    "sound = [x[0] for x in list_of_top_sound]\n",
    "unique_names = pd.Series(sound).unique()\n",
    "dic={}\n",
    "for n in unique_names:\n",
    "    sound = train_df['all_sound'].apply(lambda x: n in x)\n",
    "    dic[n] = train_df[sound]['revenue'].mean()\n",
    "    \n",
    "##top 5 compositori con la media degli incassi più alta e che hanno lavorato ad almeno 20 film\n",
    "sound_mean_revenue = pd.DataFrame.from_dict(dic, orient='index', columns=['mean_revenue']).reset_index().rename(columns={'index':'compositors'})\n",
    "sound_mean_revenue = sound_mean_revenue.nlargest(5, 'mean_revenue') \n",
    "list_top_sound = list(sound_mean_revenue['compositors'])\n",
    "sound_mean_revenue['mean_revenue'] = sound_mean_revenue['mean_revenue'].apply(lambda x:  '{0:.5f}'.format(x))\n",
    "print(sound_mean_revenue)\n",
    "\n",
    "for sound in list_top_sound: ## one hot encoding\n",
    "    train_df['sound_' + sound] = train_df['all_sound'].apply(lambda x: 1 if sound in x else 0)\n",
    "    test_df['sound_' + sound] = test_df['all_sound'].apply(lambda x: 1 if sound in x else 0)"
   ]
  },
  {
   "cell_type": "code",
   "execution_count": 109,
   "metadata": {
    "scrolled": true
   },
   "outputs": [],
   "source": [
    "for df in [train_df, test_df]:\n",
    "    df.drop(columns = 'all_sound', inplace=True)"
   ]
  },
  {
   "cell_type": "code",
   "execution_count": 110,
   "metadata": {
    "scrolled": true
   },
   "outputs": [],
   "source": [
    "# Non rilevante\n",
    "# list_of_art= list(train_df['crew'].apply(lambda x: [i['name'] for i in x if i['department'] == 'Art'] if x != {} else []).values)\n",
    "# list_of_top_art = Counter([i for j in list_of_art for i in j]).most_common(15)\n",
    "# list_of_top_art"
   ]
  },
  {
   "cell_type": "code",
   "execution_count": 111,
   "metadata": {
    "scrolled": true
   },
   "outputs": [],
   "source": [
    "# Non rilevante (la maggior parte sono stunts)\n",
    "# list_of_depcrew= list(train_df['crew'].apply(lambda x: [i['name'] for i in x if i['department'] == 'Crew'] if x != {} else []).values)\n",
    "# list_of_top_depcrew = Counter([i for j in list_of_depcrew for i in j]).most_common(15)\n",
    "# list_of_top_depcrew"
   ]
  },
  {
   "cell_type": "markdown",
   "metadata": {},
   "source": [
    "##### Costume & Make-Up"
   ]
  },
  {
   "cell_type": "code",
   "execution_count": 112,
   "metadata": {},
   "outputs": [],
   "source": [
    "for df in [train_df, test_df]:\n",
    "    df['all_c&m'] = df['crew'].apply(lambda x: [i['name'] for i in x if i['department'] == 'Costume & Make-Up'] if x != {} else []).values"
   ]
  },
  {
   "cell_type": "code",
   "execution_count": 113,
   "metadata": {
    "scrolled": true
   },
   "outputs": [
    {
     "data": {
      "text/plain": [
       "[('Ve Neill', 30),\n",
       " ('Bill Corso', 27),\n",
       " ('Colleen Atwood', 27),\n",
       " ('Ellen Mirojnick', 20),\n",
       " ('Jean Ann Black', 19),\n",
       " ('Camille Friend', 19),\n",
       " ('Edouard F. Henriques', 17),\n",
       " ('Mary Zophres', 17),\n",
       " ('Edith Head', 16),\n",
       " ('Marlene Stewart', 16),\n",
       " ('Joanna Johnston', 15),\n",
       " ('Albert Wolsky', 14),\n",
       " ('Deborah La Mia Denaver', 14),\n",
       " ('Sanja Milkovic Hays', 13),\n",
       " ('Ruth E. Carter', 13),\n",
       " ('Shay Cunliffe', 13)]"
      ]
     },
     "execution_count": 113,
     "metadata": {},
     "output_type": "execute_result"
    }
   ],
   "source": [
    "list_of_cm= list(df['all_c&m'])\n",
    "list_of_top_cm = Counter([i for j in list_of_cm for i in j]).most_common(16) ## hanno lavorato in alemo 10 film\n",
    "list_of_top_cm"
   ]
  },
  {
   "cell_type": "code",
   "execution_count": 114,
   "metadata": {},
   "outputs": [
    {
     "name": "stdout",
     "output_type": "stream",
     "text": [
      "       Costume & Make-Up     mean_revenue\n",
      "6   Edouard F. Henriques  450124096.37500\n",
      "13   Sanja Milkovic Hays  357789503.50000\n",
      "10       Joanna Johnston  287563841.83333\n",
      "0               Ve Neill  266138097.00000\n",
      "5         Camille Friend  246454698.60000\n"
     ]
    }
   ],
   "source": [
    "cm = [x[0] for x in list_of_top_cm]\n",
    "unique_names = pd.Series(cm).unique()\n",
    "dic={}\n",
    "for n in unique_names:\n",
    "    cm = train_df['all_c&m'].apply(lambda x: n in x)\n",
    "    dic[n] = train_df[cm]['revenue'].mean()\n",
    "    \n",
    "##top 5 costumisti e make-up artist con la media degli incassi più alta e che hanno lavorato ad almeno 10 film\n",
    "cm_mean_revenue = pd.DataFrame.from_dict(dic, orient='index', columns=['mean_revenue']).reset_index().rename(columns={'index':'Costume & Make-Up'})\n",
    "cm_mean_revenue = cm_mean_revenue.nlargest(5, 'mean_revenue') \n",
    "list_top_cm = list(cm_mean_revenue['Costume & Make-Up'])\n",
    "cm_mean_revenue['mean_revenue'] = cm_mean_revenue['mean_revenue'].apply(lambda x:  '{0:.5f}'.format(x))\n",
    "print(cm_mean_revenue)\n",
    "\n",
    "for cm in list_top_cm: ## one hot encoding\n",
    "    train_df['cm_' + cm] = train_df['all_c&m'].apply(lambda x: 1 if cm in x else 0)\n",
    "    test_df['cm_' + cm] = test_df['all_c&m'].apply(lambda x: 1 if cm in x else 0)"
   ]
  },
  {
   "cell_type": "code",
   "execution_count": 115,
   "metadata": {},
   "outputs": [],
   "source": [
    "for df in [train_df, test_df]:\n",
    "    df.drop(columns = 'all_c&m', inplace=True)"
   ]
  },
  {
   "cell_type": "markdown",
   "metadata": {},
   "source": [
    "##### Camera"
   ]
  },
  {
   "cell_type": "code",
   "execution_count": 116,
   "metadata": {},
   "outputs": [],
   "source": [
    "for df in [train_df, test_df]:\n",
    "    df['all_cam'] = df['crew'].apply(lambda x: [i['name'] for i in x if i['department'] == 'Camera'] if x != {} else []).values"
   ]
  },
  {
   "cell_type": "code",
   "execution_count": 117,
   "metadata": {
    "scrolled": true
   },
   "outputs": [
    {
     "data": {
      "text/plain": [
       "[('Hans Bjerno', 24),\n",
       " ('Roger Deakins', 23),\n",
       " ('John Marzano', 22),\n",
       " ('David B. Nowell', 20),\n",
       " ('Dean Cundey', 19),\n",
       " ('Mark Irwin', 19),\n",
       " ('Chris Haarhoff', 18),\n",
       " ('Dean Semler', 18),\n",
       " ('Frank Masi', 18),\n",
       " ('Phil Pastuhov', 17),\n",
       " ('Melinda Sue Gordon', 17),\n",
       " ('Andrew Cooper', 17),\n",
       " ('Merrick Morton', 16),\n",
       " ('Matthew F. Leonetti', 16),\n",
       " ('Philippe Rousselot', 16),\n",
       " ('David James', 16),\n",
       " ('David Emmerichs', 15),\n",
       " ('Julio Macat', 15),\n",
       " ('Stephen S. Campanelli', 15),\n",
       " ('Janusz Kami≈Ñski', 15),\n",
       " ('Pete Romano', 15),\n",
       " ('Don Burgess', 15),\n",
       " ('Adam Dale', 15),\n",
       " ('P. Scott Sakamoto', 14),\n",
       " ('Russell Carpenter', 14),\n",
       " ('Pete Cavaciuti', 14),\n",
       " ('Dante Spinotti', 14),\n",
       " ('David Tattersall', 14),\n",
       " ('John Toll', 14),\n",
       " ('Robert Richardson', 14),\n",
       " ('Victor J. Kemper', 14),\n",
       " ('David Eggby', 14),\n",
       " ('Michael Chapman', 13),\n",
       " ('Vilmos Zsigmond', 13),\n",
       " ('Peter Deming', 13)]"
      ]
     },
     "execution_count": 117,
     "metadata": {},
     "output_type": "execute_result"
    }
   ],
   "source": [
    "list_of_cam= list(df['all_cam'])\n",
    "list_of_top_cam = Counter([i for j in list_of_cam for i in j]).most_common(35) ## hanno lavorato ad almeno 10 film\n",
    "list_of_top_cam"
   ]
  },
  {
   "cell_type": "code",
   "execution_count": 118,
   "metadata": {},
   "outputs": [
    {
     "name": "stdout",
     "output_type": "stream",
     "text": [
      "            Camera     mean_revenue\n",
      "2     John Marzano  388974606.22222\n",
      "3  David B. Nowell  267866714.00000\n",
      "0      Hans Bjerno  262107288.19231\n",
      "4      Dean Cundey  258463046.70000\n",
      "6   Chris Haarhoff  257281207.75000\n"
     ]
    }
   ],
   "source": [
    "cam = [x[0] for x in list_of_top_cam]\n",
    "unique_names = pd.Series(cam).unique()\n",
    "dic={}\n",
    "for n in unique_names:\n",
    "    cam = train_df['all_cam'].apply(lambda x: n in x)\n",
    "    dic[n] = train_df[cam]['revenue'].mean()\n",
    "    \n",
    "##top 5 direttori della fotografia con la media degli incassi più alta e che hanno lavorato ad almeno 10 film\n",
    "cam_mean_revenue = pd.DataFrame.from_dict(dic, orient='index', columns=['mean_revenue']).reset_index().rename(columns={'index':'Camera'})\n",
    "cam_mean_revenue = cam_mean_revenue.nlargest(5, 'mean_revenue') \n",
    "list_top_cam = list(cam_mean_revenue['Camera'])\n",
    "cam_mean_revenue['mean_revenue'] = cam_mean_revenue['mean_revenue'].apply(lambda x:  '{0:.5f}'.format(x))\n",
    "print(cam_mean_revenue)\n",
    "\n",
    "for cam in list_top_cam: ## one hot encoding\n",
    "    train_df['cam_' + cam] = train_df['all_cam'].apply(lambda x: 1 if cam in x else 0)\n",
    "    test_df['cam_' + cam] = test_df['all_cam'].apply(lambda x: 1 if cam in x else 0)"
   ]
  },
  {
   "cell_type": "code",
   "execution_count": 119,
   "metadata": {},
   "outputs": [],
   "source": [
    "for df in [train_df, test_df]:\n",
    "    df.drop(columns = 'all_cam', inplace=True)"
   ]
  },
  {
   "cell_type": "code",
   "execution_count": 120,
   "metadata": {
    "scrolled": true
   },
   "outputs": [],
   "source": [
    "# Non penso sia importante.... Magari lo aggiungerò prossimamente...\n",
    "# list_of_depcrew= list(train_df['crew'].apply(lambda x: [i['name'] for i in x if i['department'] == 'Editing'] if x != {} else []).values)\n",
    "# list_of_top_depcrew = Counter([i for j in list_of_depcrew for i in j]).most_common(15)\n",
    "# list_of_top_depcrew"
   ]
  },
  {
   "cell_type": "code",
   "execution_count": 121,
   "metadata": {
    "scrolled": true
   },
   "outputs": [],
   "source": [
    "## sono compositori, alcuni già nella lista trovata dal dipartimento 'sound'\n",
    "# list_of_veffects = list(train_df['crew'].apply(lambda x: [i['name'] for i in x if i['department'] == 'Visual Effects'] if x != {} else []).values)\n",
    "# list_of_top_veffects = Counter([i for j in list_of_sound for i in j]).most_common(18) ## hanno lavorato ad almeno 20 film\n",
    "# list_of_top_veffects"
   ]
  },
  {
   "cell_type": "code",
   "execution_count": 122,
   "metadata": {},
   "outputs": [],
   "source": [
    "for df in [train_df, test_df]:\n",
    "    df.drop(columns = 'crew', inplace=True)"
   ]
  },
  {
   "cell_type": "markdown",
   "metadata": {},
   "source": [
    " "
   ]
  },
  {
   "cell_type": "markdown",
   "metadata": {},
   "source": [
    "## Final dataset "
   ]
  },
  {
   "cell_type": "markdown",
   "metadata": {},
   "source": [
    "#### Train set"
   ]
  },
  {
   "cell_type": "code",
   "execution_count": 123,
   "metadata": {},
   "outputs": [
    {
     "data": {
      "text/html": [
       "<div>\n",
       "<style scoped>\n",
       "    .dataframe tbody tr th:only-of-type {\n",
       "        vertical-align: middle;\n",
       "    }\n",
       "\n",
       "    .dataframe tbody tr th {\n",
       "        vertical-align: top;\n",
       "    }\n",
       "\n",
       "    .dataframe thead th {\n",
       "        text-align: right;\n",
       "    }\n",
       "</style>\n",
       "<table border=\"1\" class=\"dataframe\">\n",
       "  <thead>\n",
       "    <tr style=\"text-align: right;\">\n",
       "      <th></th>\n",
       "      <th>budget</th>\n",
       "      <th>popularity</th>\n",
       "      <th>runtime</th>\n",
       "      <th>revenue</th>\n",
       "      <th>release_date_year</th>\n",
       "      <th>release_date_weekday</th>\n",
       "      <th>release_date_month</th>\n",
       "      <th>release_date_day</th>\n",
       "      <th>has_collection</th>\n",
       "      <th>has_homepage</th>\n",
       "      <th>orig_lang_en</th>\n",
       "      <th>orig_lang_zh</th>\n",
       "      <th>orig_lang_ja</th>\n",
       "      <th>orig_lang_cn</th>\n",
       "      <th>orig_lang_hi</th>\n",
       "      <th>overview_word_count</th>\n",
       "      <th>tagline_word_count</th>\n",
       "      <th>title_word_count</th>\n",
       "      <th>num_gen</th>\n",
       "      <th>Action</th>\n",
       "      <th>Adventure</th>\n",
       "      <th>Animation</th>\n",
       "      <th>Comedy</th>\n",
       "      <th>Crime</th>\n",
       "      <th>Documentary</th>\n",
       "      <th>Drama</th>\n",
       "      <th>Family</th>\n",
       "      <th>Fantasy</th>\n",
       "      <th>Foreign</th>\n",
       "      <th>History</th>\n",
       "      <th>Horror</th>\n",
       "      <th>Music</th>\n",
       "      <th>Mystery</th>\n",
       "      <th>Romance</th>\n",
       "      <th>Science Fiction</th>\n",
       "      <th>Thriller</th>\n",
       "      <th>War</th>\n",
       "      <th>Western</th>\n",
       "      <th>num_prod_comp</th>\n",
       "      <th>pcomp_Walt Disney Pictures</th>\n",
       "      <th>pcomp_Amblin Entertainment</th>\n",
       "      <th>pcomp_Original Film</th>\n",
       "      <th>pcomp_DreamWorks SKG</th>\n",
       "      <th>pcomp_Dune Entertainment</th>\n",
       "      <th>num_prod_countries</th>\n",
       "      <th>pcountr_NZ</th>\n",
       "      <th>pcountr_US</th>\n",
       "      <th>pcountr_CA</th>\n",
       "      <th>pcountr_DE</th>\n",
       "      <th>pcountr_CN</th>\n",
       "      <th>num_lang</th>\n",
       "      <th>lang_la</th>\n",
       "      <th>lang_th</th>\n",
       "      <th>lang_el</th>\n",
       "      <th>lang_zh</th>\n",
       "      <th>lang_ar</th>\n",
       "      <th>num_keywords</th>\n",
       "      <th>kw_3d</th>\n",
       "      <th>kw_aftercreditsstinger</th>\n",
       "      <th>kw_sequel</th>\n",
       "      <th>kw_duringcreditsstinger</th>\n",
       "      <th>kw_dystopia</th>\n",
       "      <th>kw_based on novel</th>\n",
       "      <th>kw_father son relationship</th>\n",
       "      <th>kw_wedding</th>\n",
       "      <th>kw_new york</th>\n",
       "      <th>kw_los angeles</th>\n",
       "      <th>num_cast</th>\n",
       "      <th>actor_Samuel L. Jackson</th>\n",
       "      <th>actor_Frank Welker</th>\n",
       "      <th>actor_John Turturro</th>\n",
       "      <th>actor_Sylvester Stallone</th>\n",
       "      <th>actor_Jason Statham</th>\n",
       "      <th>actor_Ed Harris</th>\n",
       "      <th>actor_Michael Caine</th>\n",
       "      <th>actor_George Clooney</th>\n",
       "      <th>actor_Sigourney Weaver</th>\n",
       "      <th>actor_Owen Wilson</th>\n",
       "      <th>crew_num</th>\n",
       "      <th>genders_0_crew</th>\n",
       "      <th>female_crew</th>\n",
       "      <th>male_crew</th>\n",
       "      <th>dir_Anna Worley</th>\n",
       "      <th>dir_Alfonso Cuar√≥n</th>\n",
       "      <th>dir_Zack Snyder</th>\n",
       "      <th>dir_Harald Kraut</th>\n",
       "      <th>dir_Michael Bay</th>\n",
       "      <th>dir_Ana Maria Quintana</th>\n",
       "      <th>dir_Rob Minkoff</th>\n",
       "      <th>dir_Gore Verbinski</th>\n",
       "      <th>dir_Rick Moore</th>\n",
       "      <th>dir_Steven Spielberg</th>\n",
       "      <th>prod_Sarah Finn</th>\n",
       "      <th>prod_Denise Chamian</th>\n",
       "      <th>prod_Steven Spielberg</th>\n",
       "      <th>prod_Neal H. Moritz</th>\n",
       "      <th>prod_Janet Hirshenson</th>\n",
       "      <th>prod_Jane Jenkins</th>\n",
       "      <th>prod_Bruce Berman</th>\n",
       "      <th>prod_Randi Hiller</th>\n",
       "      <th>prod_Ronna Kress</th>\n",
       "      <th>prod_John Papsidera</th>\n",
       "      <th>writ_Philippa Boyens</th>\n",
       "      <th>writ_Terry Rossio</th>\n",
       "      <th>writ_Ted Elliott</th>\n",
       "      <th>writ_Peter Jackson</th>\n",
       "      <th>writ_Fran Walsh</th>\n",
       "      <th>writ_Jack Kirby</th>\n",
       "      <th>writ_Stan Lee</th>\n",
       "      <th>writ_Andrew Stanton</th>\n",
       "      <th>writ_Joss Whedon</th>\n",
       "      <th>writ_Robert Wade</th>\n",
       "      <th>sound_Christopher Boyes</th>\n",
       "      <th>sound_Kevin Kaska</th>\n",
       "      <th>sound_Brian Tyler</th>\n",
       "      <th>sound_John Williams</th>\n",
       "      <th>sound_Hans Zimmer</th>\n",
       "      <th>cm_Edouard F. Henriques</th>\n",
       "      <th>cm_Sanja Milkovic Hays</th>\n",
       "      <th>cm_Joanna Johnston</th>\n",
       "      <th>cm_Ve Neill</th>\n",
       "      <th>cm_Camille Friend</th>\n",
       "      <th>cam_John Marzano</th>\n",
       "      <th>cam_David B. Nowell</th>\n",
       "      <th>cam_Hans Bjerno</th>\n",
       "      <th>cam_Dean Cundey</th>\n",
       "      <th>cam_Chris Haarhoff</th>\n",
       "    </tr>\n",
       "  </thead>\n",
       "  <tbody>\n",
       "    <tr>\n",
       "      <th>0</th>\n",
       "      <td>14000000</td>\n",
       "      <td>6.575393</td>\n",
       "      <td>93.0</td>\n",
       "      <td>12314651</td>\n",
       "      <td>2015</td>\n",
       "      <td>4</td>\n",
       "      <td>2</td>\n",
       "      <td>20</td>\n",
       "      <td>1</td>\n",
       "      <td>0</td>\n",
       "      <td>1</td>\n",
       "      <td>0</td>\n",
       "      <td>0</td>\n",
       "      <td>0</td>\n",
       "      <td>0</td>\n",
       "      <td>29</td>\n",
       "      <td>11</td>\n",
       "      <td>5</td>\n",
       "      <td>1</td>\n",
       "      <td>0</td>\n",
       "      <td>0</td>\n",
       "      <td>0</td>\n",
       "      <td>1</td>\n",
       "      <td>0</td>\n",
       "      <td>0</td>\n",
       "      <td>0</td>\n",
       "      <td>0</td>\n",
       "      <td>0</td>\n",
       "      <td>0</td>\n",
       "      <td>0</td>\n",
       "      <td>0</td>\n",
       "      <td>0</td>\n",
       "      <td>0</td>\n",
       "      <td>0</td>\n",
       "      <td>0</td>\n",
       "      <td>0</td>\n",
       "      <td>0</td>\n",
       "      <td>0</td>\n",
       "      <td>3</td>\n",
       "      <td>0</td>\n",
       "      <td>0</td>\n",
       "      <td>0</td>\n",
       "      <td>0</td>\n",
       "      <td>0</td>\n",
       "      <td>1</td>\n",
       "      <td>0</td>\n",
       "      <td>1</td>\n",
       "      <td>0</td>\n",
       "      <td>0</td>\n",
       "      <td>0</td>\n",
       "      <td>1</td>\n",
       "      <td>0</td>\n",
       "      <td>0</td>\n",
       "      <td>0</td>\n",
       "      <td>0</td>\n",
       "      <td>0</td>\n",
       "      <td>4</td>\n",
       "      <td>0</td>\n",
       "      <td>0</td>\n",
       "      <td>1</td>\n",
       "      <td>1</td>\n",
       "      <td>0</td>\n",
       "      <td>0</td>\n",
       "      <td>0</td>\n",
       "      <td>0</td>\n",
       "      <td>0</td>\n",
       "      <td>0</td>\n",
       "      <td>24</td>\n",
       "      <td>0</td>\n",
       "      <td>0</td>\n",
       "      <td>0</td>\n",
       "      <td>0</td>\n",
       "      <td>0</td>\n",
       "      <td>0</td>\n",
       "      <td>0</td>\n",
       "      <td>0</td>\n",
       "      <td>0</td>\n",
       "      <td>0</td>\n",
       "      <td>72</td>\n",
       "      <td>59</td>\n",
       "      <td>0</td>\n",
       "      <td>13</td>\n",
       "      <td>0</td>\n",
       "      <td>0</td>\n",
       "      <td>0</td>\n",
       "      <td>0</td>\n",
       "      <td>0</td>\n",
       "      <td>0</td>\n",
       "      <td>0</td>\n",
       "      <td>0</td>\n",
       "      <td>0</td>\n",
       "      <td>0</td>\n",
       "      <td>0</td>\n",
       "      <td>0</td>\n",
       "      <td>0</td>\n",
       "      <td>0</td>\n",
       "      <td>0</td>\n",
       "      <td>0</td>\n",
       "      <td>0</td>\n",
       "      <td>0</td>\n",
       "      <td>0</td>\n",
       "      <td>0</td>\n",
       "      <td>0</td>\n",
       "      <td>0</td>\n",
       "      <td>0</td>\n",
       "      <td>0</td>\n",
       "      <td>0</td>\n",
       "      <td>0</td>\n",
       "      <td>0</td>\n",
       "      <td>0</td>\n",
       "      <td>0</td>\n",
       "      <td>0</td>\n",
       "      <td>0</td>\n",
       "      <td>0</td>\n",
       "      <td>0</td>\n",
       "      <td>0</td>\n",
       "      <td>0</td>\n",
       "      <td>0</td>\n",
       "      <td>0</td>\n",
       "      <td>0</td>\n",
       "      <td>0</td>\n",
       "      <td>0</td>\n",
       "      <td>0</td>\n",
       "      <td>0</td>\n",
       "      <td>0</td>\n",
       "      <td>0</td>\n",
       "      <td>0</td>\n",
       "    </tr>\n",
       "    <tr>\n",
       "      <th>1</th>\n",
       "      <td>40000000</td>\n",
       "      <td>8.248895</td>\n",
       "      <td>113.0</td>\n",
       "      <td>95149435</td>\n",
       "      <td>2004</td>\n",
       "      <td>4</td>\n",
       "      <td>8</td>\n",
       "      <td>6</td>\n",
       "      <td>1</td>\n",
       "      <td>0</td>\n",
       "      <td>1</td>\n",
       "      <td>0</td>\n",
       "      <td>0</td>\n",
       "      <td>0</td>\n",
       "      <td>0</td>\n",
       "      <td>69</td>\n",
       "      <td>13</td>\n",
       "      <td>6</td>\n",
       "      <td>4</td>\n",
       "      <td>0</td>\n",
       "      <td>0</td>\n",
       "      <td>0</td>\n",
       "      <td>1</td>\n",
       "      <td>0</td>\n",
       "      <td>0</td>\n",
       "      <td>1</td>\n",
       "      <td>1</td>\n",
       "      <td>0</td>\n",
       "      <td>0</td>\n",
       "      <td>0</td>\n",
       "      <td>0</td>\n",
       "      <td>0</td>\n",
       "      <td>0</td>\n",
       "      <td>1</td>\n",
       "      <td>0</td>\n",
       "      <td>0</td>\n",
       "      <td>0</td>\n",
       "      <td>0</td>\n",
       "      <td>1</td>\n",
       "      <td>1</td>\n",
       "      <td>0</td>\n",
       "      <td>0</td>\n",
       "      <td>0</td>\n",
       "      <td>0</td>\n",
       "      <td>1</td>\n",
       "      <td>0</td>\n",
       "      <td>1</td>\n",
       "      <td>0</td>\n",
       "      <td>0</td>\n",
       "      <td>0</td>\n",
       "      <td>1</td>\n",
       "      <td>0</td>\n",
       "      <td>0</td>\n",
       "      <td>0</td>\n",
       "      <td>0</td>\n",
       "      <td>0</td>\n",
       "      <td>4</td>\n",
       "      <td>0</td>\n",
       "      <td>0</td>\n",
       "      <td>0</td>\n",
       "      <td>0</td>\n",
       "      <td>0</td>\n",
       "      <td>0</td>\n",
       "      <td>0</td>\n",
       "      <td>0</td>\n",
       "      <td>0</td>\n",
       "      <td>0</td>\n",
       "      <td>20</td>\n",
       "      <td>0</td>\n",
       "      <td>0</td>\n",
       "      <td>0</td>\n",
       "      <td>0</td>\n",
       "      <td>0</td>\n",
       "      <td>0</td>\n",
       "      <td>0</td>\n",
       "      <td>0</td>\n",
       "      <td>0</td>\n",
       "      <td>0</td>\n",
       "      <td>9</td>\n",
       "      <td>1</td>\n",
       "      <td>4</td>\n",
       "      <td>4</td>\n",
       "      <td>0</td>\n",
       "      <td>0</td>\n",
       "      <td>0</td>\n",
       "      <td>0</td>\n",
       "      <td>0</td>\n",
       "      <td>0</td>\n",
       "      <td>0</td>\n",
       "      <td>0</td>\n",
       "      <td>0</td>\n",
       "      <td>0</td>\n",
       "      <td>0</td>\n",
       "      <td>0</td>\n",
       "      <td>0</td>\n",
       "      <td>0</td>\n",
       "      <td>0</td>\n",
       "      <td>0</td>\n",
       "      <td>0</td>\n",
       "      <td>0</td>\n",
       "      <td>0</td>\n",
       "      <td>0</td>\n",
       "      <td>0</td>\n",
       "      <td>0</td>\n",
       "      <td>0</td>\n",
       "      <td>0</td>\n",
       "      <td>0</td>\n",
       "      <td>0</td>\n",
       "      <td>0</td>\n",
       "      <td>0</td>\n",
       "      <td>0</td>\n",
       "      <td>0</td>\n",
       "      <td>0</td>\n",
       "      <td>0</td>\n",
       "      <td>0</td>\n",
       "      <td>0</td>\n",
       "      <td>0</td>\n",
       "      <td>0</td>\n",
       "      <td>0</td>\n",
       "      <td>0</td>\n",
       "      <td>0</td>\n",
       "      <td>0</td>\n",
       "      <td>0</td>\n",
       "      <td>0</td>\n",
       "      <td>0</td>\n",
       "      <td>0</td>\n",
       "      <td>0</td>\n",
       "    </tr>\n",
       "    <tr>\n",
       "      <th>2</th>\n",
       "      <td>3300000</td>\n",
       "      <td>64.299990</td>\n",
       "      <td>105.0</td>\n",
       "      <td>13092000</td>\n",
       "      <td>2014</td>\n",
       "      <td>4</td>\n",
       "      <td>10</td>\n",
       "      <td>10</td>\n",
       "      <td>0</td>\n",
       "      <td>1</td>\n",
       "      <td>1</td>\n",
       "      <td>0</td>\n",
       "      <td>0</td>\n",
       "      <td>0</td>\n",
       "      <td>0</td>\n",
       "      <td>21</td>\n",
       "      <td>10</td>\n",
       "      <td>1</td>\n",
       "      <td>1</td>\n",
       "      <td>0</td>\n",
       "      <td>0</td>\n",
       "      <td>0</td>\n",
       "      <td>0</td>\n",
       "      <td>0</td>\n",
       "      <td>0</td>\n",
       "      <td>1</td>\n",
       "      <td>0</td>\n",
       "      <td>0</td>\n",
       "      <td>0</td>\n",
       "      <td>0</td>\n",
       "      <td>0</td>\n",
       "      <td>0</td>\n",
       "      <td>0</td>\n",
       "      <td>0</td>\n",
       "      <td>0</td>\n",
       "      <td>0</td>\n",
       "      <td>0</td>\n",
       "      <td>0</td>\n",
       "      <td>3</td>\n",
       "      <td>0</td>\n",
       "      <td>0</td>\n",
       "      <td>0</td>\n",
       "      <td>0</td>\n",
       "      <td>0</td>\n",
       "      <td>1</td>\n",
       "      <td>0</td>\n",
       "      <td>1</td>\n",
       "      <td>0</td>\n",
       "      <td>0</td>\n",
       "      <td>0</td>\n",
       "      <td>1</td>\n",
       "      <td>0</td>\n",
       "      <td>0</td>\n",
       "      <td>0</td>\n",
       "      <td>0</td>\n",
       "      <td>0</td>\n",
       "      <td>12</td>\n",
       "      <td>0</td>\n",
       "      <td>0</td>\n",
       "      <td>0</td>\n",
       "      <td>0</td>\n",
       "      <td>0</td>\n",
       "      <td>0</td>\n",
       "      <td>0</td>\n",
       "      <td>0</td>\n",
       "      <td>0</td>\n",
       "      <td>0</td>\n",
       "      <td>51</td>\n",
       "      <td>0</td>\n",
       "      <td>0</td>\n",
       "      <td>0</td>\n",
       "      <td>0</td>\n",
       "      <td>0</td>\n",
       "      <td>0</td>\n",
       "      <td>0</td>\n",
       "      <td>0</td>\n",
       "      <td>0</td>\n",
       "      <td>0</td>\n",
       "      <td>64</td>\n",
       "      <td>49</td>\n",
       "      <td>4</td>\n",
       "      <td>11</td>\n",
       "      <td>0</td>\n",
       "      <td>0</td>\n",
       "      <td>0</td>\n",
       "      <td>0</td>\n",
       "      <td>0</td>\n",
       "      <td>0</td>\n",
       "      <td>0</td>\n",
       "      <td>0</td>\n",
       "      <td>0</td>\n",
       "      <td>0</td>\n",
       "      <td>0</td>\n",
       "      <td>0</td>\n",
       "      <td>0</td>\n",
       "      <td>0</td>\n",
       "      <td>0</td>\n",
       "      <td>0</td>\n",
       "      <td>0</td>\n",
       "      <td>0</td>\n",
       "      <td>0</td>\n",
       "      <td>0</td>\n",
       "      <td>0</td>\n",
       "      <td>0</td>\n",
       "      <td>0</td>\n",
       "      <td>0</td>\n",
       "      <td>0</td>\n",
       "      <td>0</td>\n",
       "      <td>0</td>\n",
       "      <td>0</td>\n",
       "      <td>0</td>\n",
       "      <td>0</td>\n",
       "      <td>0</td>\n",
       "      <td>0</td>\n",
       "      <td>0</td>\n",
       "      <td>0</td>\n",
       "      <td>0</td>\n",
       "      <td>0</td>\n",
       "      <td>0</td>\n",
       "      <td>0</td>\n",
       "      <td>0</td>\n",
       "      <td>0</td>\n",
       "      <td>0</td>\n",
       "      <td>0</td>\n",
       "      <td>0</td>\n",
       "      <td>0</td>\n",
       "      <td>0</td>\n",
       "    </tr>\n",
       "    <tr>\n",
       "      <th>3</th>\n",
       "      <td>1200000</td>\n",
       "      <td>3.174936</td>\n",
       "      <td>122.0</td>\n",
       "      <td>16000000</td>\n",
       "      <td>2012</td>\n",
       "      <td>4</td>\n",
       "      <td>3</td>\n",
       "      <td>9</td>\n",
       "      <td>0</td>\n",
       "      <td>1</td>\n",
       "      <td>0</td>\n",
       "      <td>0</td>\n",
       "      <td>0</td>\n",
       "      <td>0</td>\n",
       "      <td>1</td>\n",
       "      <td>106</td>\n",
       "      <td>0</td>\n",
       "      <td>1</td>\n",
       "      <td>2</td>\n",
       "      <td>0</td>\n",
       "      <td>0</td>\n",
       "      <td>0</td>\n",
       "      <td>0</td>\n",
       "      <td>0</td>\n",
       "      <td>0</td>\n",
       "      <td>1</td>\n",
       "      <td>0</td>\n",
       "      <td>0</td>\n",
       "      <td>0</td>\n",
       "      <td>0</td>\n",
       "      <td>0</td>\n",
       "      <td>0</td>\n",
       "      <td>0</td>\n",
       "      <td>0</td>\n",
       "      <td>0</td>\n",
       "      <td>1</td>\n",
       "      <td>0</td>\n",
       "      <td>0</td>\n",
       "      <td>0</td>\n",
       "      <td>0</td>\n",
       "      <td>0</td>\n",
       "      <td>0</td>\n",
       "      <td>0</td>\n",
       "      <td>0</td>\n",
       "      <td>1</td>\n",
       "      <td>0</td>\n",
       "      <td>0</td>\n",
       "      <td>0</td>\n",
       "      <td>0</td>\n",
       "      <td>0</td>\n",
       "      <td>2</td>\n",
       "      <td>0</td>\n",
       "      <td>0</td>\n",
       "      <td>0</td>\n",
       "      <td>0</td>\n",
       "      <td>0</td>\n",
       "      <td>7</td>\n",
       "      <td>0</td>\n",
       "      <td>0</td>\n",
       "      <td>0</td>\n",
       "      <td>0</td>\n",
       "      <td>0</td>\n",
       "      <td>0</td>\n",
       "      <td>0</td>\n",
       "      <td>0</td>\n",
       "      <td>0</td>\n",
       "      <td>0</td>\n",
       "      <td>7</td>\n",
       "      <td>0</td>\n",
       "      <td>0</td>\n",
       "      <td>0</td>\n",
       "      <td>0</td>\n",
       "      <td>0</td>\n",
       "      <td>0</td>\n",
       "      <td>0</td>\n",
       "      <td>0</td>\n",
       "      <td>0</td>\n",
       "      <td>0</td>\n",
       "      <td>3</td>\n",
       "      <td>3</td>\n",
       "      <td>0</td>\n",
       "      <td>0</td>\n",
       "      <td>0</td>\n",
       "      <td>0</td>\n",
       "      <td>0</td>\n",
       "      <td>0</td>\n",
       "      <td>0</td>\n",
       "      <td>0</td>\n",
       "      <td>0</td>\n",
       "      <td>0</td>\n",
       "      <td>0</td>\n",
       "      <td>0</td>\n",
       "      <td>0</td>\n",
       "      <td>0</td>\n",
       "      <td>0</td>\n",
       "      <td>0</td>\n",
       "      <td>0</td>\n",
       "      <td>0</td>\n",
       "      <td>0</td>\n",
       "      <td>0</td>\n",
       "      <td>0</td>\n",
       "      <td>0</td>\n",
       "      <td>0</td>\n",
       "      <td>0</td>\n",
       "      <td>0</td>\n",
       "      <td>0</td>\n",
       "      <td>0</td>\n",
       "      <td>0</td>\n",
       "      <td>0</td>\n",
       "      <td>0</td>\n",
       "      <td>0</td>\n",
       "      <td>0</td>\n",
       "      <td>0</td>\n",
       "      <td>0</td>\n",
       "      <td>0</td>\n",
       "      <td>0</td>\n",
       "      <td>0</td>\n",
       "      <td>0</td>\n",
       "      <td>0</td>\n",
       "      <td>0</td>\n",
       "      <td>0</td>\n",
       "      <td>0</td>\n",
       "      <td>0</td>\n",
       "      <td>0</td>\n",
       "      <td>0</td>\n",
       "      <td>0</td>\n",
       "      <td>0</td>\n",
       "    </tr>\n",
       "    <tr>\n",
       "      <th>4</th>\n",
       "      <td>0</td>\n",
       "      <td>1.148070</td>\n",
       "      <td>118.0</td>\n",
       "      <td>3923970</td>\n",
       "      <td>2009</td>\n",
       "      <td>3</td>\n",
       "      <td>2</td>\n",
       "      <td>5</td>\n",
       "      <td>0</td>\n",
       "      <td>0</td>\n",
       "      <td>0</td>\n",
       "      <td>0</td>\n",
       "      <td>0</td>\n",
       "      <td>0</td>\n",
       "      <td>0</td>\n",
       "      <td>32</td>\n",
       "      <td>0</td>\n",
       "      <td>2</td>\n",
       "      <td>2</td>\n",
       "      <td>1</td>\n",
       "      <td>0</td>\n",
       "      <td>0</td>\n",
       "      <td>0</td>\n",
       "      <td>0</td>\n",
       "      <td>0</td>\n",
       "      <td>0</td>\n",
       "      <td>0</td>\n",
       "      <td>0</td>\n",
       "      <td>0</td>\n",
       "      <td>0</td>\n",
       "      <td>0</td>\n",
       "      <td>0</td>\n",
       "      <td>0</td>\n",
       "      <td>0</td>\n",
       "      <td>0</td>\n",
       "      <td>1</td>\n",
       "      <td>0</td>\n",
       "      <td>0</td>\n",
       "      <td>0</td>\n",
       "      <td>0</td>\n",
       "      <td>0</td>\n",
       "      <td>0</td>\n",
       "      <td>0</td>\n",
       "      <td>0</td>\n",
       "      <td>1</td>\n",
       "      <td>0</td>\n",
       "      <td>0</td>\n",
       "      <td>0</td>\n",
       "      <td>0</td>\n",
       "      <td>0</td>\n",
       "      <td>1</td>\n",
       "      <td>0</td>\n",
       "      <td>0</td>\n",
       "      <td>0</td>\n",
       "      <td>0</td>\n",
       "      <td>0</td>\n",
       "      <td>0</td>\n",
       "      <td>0</td>\n",
       "      <td>0</td>\n",
       "      <td>0</td>\n",
       "      <td>0</td>\n",
       "      <td>0</td>\n",
       "      <td>0</td>\n",
       "      <td>0</td>\n",
       "      <td>0</td>\n",
       "      <td>0</td>\n",
       "      <td>0</td>\n",
       "      <td>4</td>\n",
       "      <td>0</td>\n",
       "      <td>0</td>\n",
       "      <td>0</td>\n",
       "      <td>0</td>\n",
       "      <td>0</td>\n",
       "      <td>0</td>\n",
       "      <td>0</td>\n",
       "      <td>0</td>\n",
       "      <td>0</td>\n",
       "      <td>0</td>\n",
       "      <td>2</td>\n",
       "      <td>2</td>\n",
       "      <td>0</td>\n",
       "      <td>0</td>\n",
       "      <td>0</td>\n",
       "      <td>0</td>\n",
       "      <td>0</td>\n",
       "      <td>0</td>\n",
       "      <td>0</td>\n",
       "      <td>0</td>\n",
       "      <td>0</td>\n",
       "      <td>0</td>\n",
       "      <td>0</td>\n",
       "      <td>0</td>\n",
       "      <td>0</td>\n",
       "      <td>0</td>\n",
       "      <td>0</td>\n",
       "      <td>0</td>\n",
       "      <td>0</td>\n",
       "      <td>0</td>\n",
       "      <td>0</td>\n",
       "      <td>0</td>\n",
       "      <td>0</td>\n",
       "      <td>0</td>\n",
       "      <td>0</td>\n",
       "      <td>0</td>\n",
       "      <td>0</td>\n",
       "      <td>0</td>\n",
       "      <td>0</td>\n",
       "      <td>0</td>\n",
       "      <td>0</td>\n",
       "      <td>0</td>\n",
       "      <td>0</td>\n",
       "      <td>0</td>\n",
       "      <td>0</td>\n",
       "      <td>0</td>\n",
       "      <td>0</td>\n",
       "      <td>0</td>\n",
       "      <td>0</td>\n",
       "      <td>0</td>\n",
       "      <td>0</td>\n",
       "      <td>0</td>\n",
       "      <td>0</td>\n",
       "      <td>0</td>\n",
       "      <td>0</td>\n",
       "      <td>0</td>\n",
       "      <td>0</td>\n",
       "      <td>0</td>\n",
       "      <td>0</td>\n",
       "    </tr>\n",
       "  </tbody>\n",
       "</table>\n",
       "</div>"
      ],
      "text/plain": [
       "     budget  popularity  runtime   revenue  release_date_year  \\\n",
       "0  14000000    6.575393     93.0  12314651               2015   \n",
       "1  40000000    8.248895    113.0  95149435               2004   \n",
       "2   3300000   64.299990    105.0  13092000               2014   \n",
       "3   1200000    3.174936    122.0  16000000               2012   \n",
       "4         0    1.148070    118.0   3923970               2009   \n",
       "\n",
       "   release_date_weekday  release_date_month  release_date_day  has_collection  \\\n",
       "0                     4                   2                20               1   \n",
       "1                     4                   8                 6               1   \n",
       "2                     4                  10                10               0   \n",
       "3                     4                   3                 9               0   \n",
       "4                     3                   2                 5               0   \n",
       "\n",
       "   has_homepage  orig_lang_en  orig_lang_zh  orig_lang_ja  orig_lang_cn  \\\n",
       "0             0             1             0             0             0   \n",
       "1             0             1             0             0             0   \n",
       "2             1             1             0             0             0   \n",
       "3             1             0             0             0             0   \n",
       "4             0             0             0             0             0   \n",
       "\n",
       "   orig_lang_hi  overview_word_count  tagline_word_count  title_word_count  \\\n",
       "0             0                   29                  11                 5   \n",
       "1             0                   69                  13                 6   \n",
       "2             0                   21                  10                 1   \n",
       "3             1                  106                   0                 1   \n",
       "4             0                   32                   0                 2   \n",
       "\n",
       "   num_gen  Action  Adventure  Animation  Comedy  Crime  Documentary  Drama  \\\n",
       "0        1       0          0          0       1      0            0      0   \n",
       "1        4       0          0          0       1      0            0      1   \n",
       "2        1       0          0          0       0      0            0      1   \n",
       "3        2       0          0          0       0      0            0      1   \n",
       "4        2       1          0          0       0      0            0      0   \n",
       "\n",
       "   Family  Fantasy  Foreign  History  Horror  Music  Mystery  Romance  \\\n",
       "0       0        0        0        0       0      0        0        0   \n",
       "1       1        0        0        0       0      0        0        1   \n",
       "2       0        0        0        0       0      0        0        0   \n",
       "3       0        0        0        0       0      0        0        0   \n",
       "4       0        0        0        0       0      0        0        0   \n",
       "\n",
       "   Science Fiction  Thriller  War  Western  num_prod_comp  \\\n",
       "0                0         0    0        0              3   \n",
       "1                0         0    0        0              1   \n",
       "2                0         0    0        0              3   \n",
       "3                0         1    0        0              0   \n",
       "4                0         1    0        0              0   \n",
       "\n",
       "   pcomp_Walt Disney Pictures  pcomp_Amblin Entertainment  \\\n",
       "0                           0                           0   \n",
       "1                           1                           0   \n",
       "2                           0                           0   \n",
       "3                           0                           0   \n",
       "4                           0                           0   \n",
       "\n",
       "   pcomp_Original Film  pcomp_DreamWorks SKG  pcomp_Dune Entertainment  \\\n",
       "0                    0                     0                         0   \n",
       "1                    0                     0                         0   \n",
       "2                    0                     0                         0   \n",
       "3                    0                     0                         0   \n",
       "4                    0                     0                         0   \n",
       "\n",
       "   num_prod_countries  pcountr_NZ  pcountr_US  pcountr_CA  pcountr_DE  \\\n",
       "0                   1           0           1           0           0   \n",
       "1                   1           0           1           0           0   \n",
       "2                   1           0           1           0           0   \n",
       "3                   1           0           0           0           0   \n",
       "4                   1           0           0           0           0   \n",
       "\n",
       "   pcountr_CN  num_lang  lang_la  lang_th  lang_el  lang_zh  lang_ar  \\\n",
       "0           0         1        0        0        0        0        0   \n",
       "1           0         1        0        0        0        0        0   \n",
       "2           0         1        0        0        0        0        0   \n",
       "3           0         2        0        0        0        0        0   \n",
       "4           0         1        0        0        0        0        0   \n",
       "\n",
       "   num_keywords  kw_3d  kw_aftercreditsstinger  kw_sequel  \\\n",
       "0             4      0                       0          1   \n",
       "1             4      0                       0          0   \n",
       "2            12      0                       0          0   \n",
       "3             7      0                       0          0   \n",
       "4             0      0                       0          0   \n",
       "\n",
       "   kw_duringcreditsstinger  kw_dystopia  kw_based on novel  \\\n",
       "0                        1            0                  0   \n",
       "1                        0            0                  0   \n",
       "2                        0            0                  0   \n",
       "3                        0            0                  0   \n",
       "4                        0            0                  0   \n",
       "\n",
       "   kw_father son relationship  kw_wedding  kw_new york  kw_los angeles  \\\n",
       "0                           0           0            0               0   \n",
       "1                           0           0            0               0   \n",
       "2                           0           0            0               0   \n",
       "3                           0           0            0               0   \n",
       "4                           0           0            0               0   \n",
       "\n",
       "   num_cast  actor_Samuel L. Jackson  actor_Frank Welker  actor_John Turturro  \\\n",
       "0        24                        0                   0                    0   \n",
       "1        20                        0                   0                    0   \n",
       "2        51                        0                   0                    0   \n",
       "3         7                        0                   0                    0   \n",
       "4         4                        0                   0                    0   \n",
       "\n",
       "   actor_Sylvester Stallone  actor_Jason Statham  actor_Ed Harris  \\\n",
       "0                         0                    0                0   \n",
       "1                         0                    0                0   \n",
       "2                         0                    0                0   \n",
       "3                         0                    0                0   \n",
       "4                         0                    0                0   \n",
       "\n",
       "   actor_Michael Caine  actor_George Clooney  actor_Sigourney Weaver  \\\n",
       "0                    0                     0                       0   \n",
       "1                    0                     0                       0   \n",
       "2                    0                     0                       0   \n",
       "3                    0                     0                       0   \n",
       "4                    0                     0                       0   \n",
       "\n",
       "   actor_Owen Wilson  crew_num  genders_0_crew  female_crew  male_crew  \\\n",
       "0                  0        72              59            0         13   \n",
       "1                  0         9               1            4          4   \n",
       "2                  0        64              49            4         11   \n",
       "3                  0         3               3            0          0   \n",
       "4                  0         2               2            0          0   \n",
       "\n",
       "   dir_Anna Worley  dir_Alfonso Cuar√≥n  dir_Zack Snyder  dir_Harald Kraut  \\\n",
       "0                0                    0                0                 0   \n",
       "1                0                    0                0                 0   \n",
       "2                0                    0                0                 0   \n",
       "3                0                    0                0                 0   \n",
       "4                0                    0                0                 0   \n",
       "\n",
       "   dir_Michael Bay  dir_Ana Maria Quintana  dir_Rob Minkoff  \\\n",
       "0                0                       0                0   \n",
       "1                0                       0                0   \n",
       "2                0                       0                0   \n",
       "3                0                       0                0   \n",
       "4                0                       0                0   \n",
       "\n",
       "   dir_Gore Verbinski  dir_Rick Moore  dir_Steven Spielberg  prod_Sarah Finn  \\\n",
       "0                   0               0                     0                0   \n",
       "1                   0               0                     0                0   \n",
       "2                   0               0                     0                0   \n",
       "3                   0               0                     0                0   \n",
       "4                   0               0                     0                0   \n",
       "\n",
       "   prod_Denise Chamian  prod_Steven Spielberg  prod_Neal H. Moritz  \\\n",
       "0                    0                      0                    0   \n",
       "1                    0                      0                    0   \n",
       "2                    0                      0                    0   \n",
       "3                    0                      0                    0   \n",
       "4                    0                      0                    0   \n",
       "\n",
       "   prod_Janet Hirshenson  prod_Jane Jenkins  prod_Bruce Berman  \\\n",
       "0                      0                  0                  0   \n",
       "1                      0                  0                  0   \n",
       "2                      0                  0                  0   \n",
       "3                      0                  0                  0   \n",
       "4                      0                  0                  0   \n",
       "\n",
       "   prod_Randi Hiller  prod_Ronna Kress  prod_John Papsidera  \\\n",
       "0                  0                 0                    0   \n",
       "1                  0                 0                    0   \n",
       "2                  0                 0                    0   \n",
       "3                  0                 0                    0   \n",
       "4                  0                 0                    0   \n",
       "\n",
       "   writ_Philippa Boyens  writ_Terry Rossio  writ_Ted Elliott  \\\n",
       "0                     0                  0                 0   \n",
       "1                     0                  0                 0   \n",
       "2                     0                  0                 0   \n",
       "3                     0                  0                 0   \n",
       "4                     0                  0                 0   \n",
       "\n",
       "   writ_Peter Jackson  writ_Fran Walsh  writ_Jack Kirby  writ_Stan Lee  \\\n",
       "0                   0                0                0              0   \n",
       "1                   0                0                0              0   \n",
       "2                   0                0                0              0   \n",
       "3                   0                0                0              0   \n",
       "4                   0                0                0              0   \n",
       "\n",
       "   writ_Andrew Stanton  writ_Joss Whedon  writ_Robert Wade  \\\n",
       "0                    0                 0                 0   \n",
       "1                    0                 0                 0   \n",
       "2                    0                 0                 0   \n",
       "3                    0                 0                 0   \n",
       "4                    0                 0                 0   \n",
       "\n",
       "   sound_Christopher Boyes  sound_Kevin Kaska  sound_Brian Tyler  \\\n",
       "0                        0                  0                  0   \n",
       "1                        0                  0                  0   \n",
       "2                        0                  0                  0   \n",
       "3                        0                  0                  0   \n",
       "4                        0                  0                  0   \n",
       "\n",
       "   sound_John Williams  sound_Hans Zimmer  cm_Edouard F. Henriques  \\\n",
       "0                    0                  0                        0   \n",
       "1                    0                  0                        0   \n",
       "2                    0                  0                        0   \n",
       "3                    0                  0                        0   \n",
       "4                    0                  0                        0   \n",
       "\n",
       "   cm_Sanja Milkovic Hays  cm_Joanna Johnston  cm_Ve Neill  cm_Camille Friend  \\\n",
       "0                       0                   0            0                  0   \n",
       "1                       0                   0            0                  0   \n",
       "2                       0                   0            0                  0   \n",
       "3                       0                   0            0                  0   \n",
       "4                       0                   0            0                  0   \n",
       "\n",
       "   cam_John Marzano  cam_David B. Nowell  cam_Hans Bjerno  cam_Dean Cundey  \\\n",
       "0                 0                    0                0                0   \n",
       "1                 0                    0                0                0   \n",
       "2                 0                    0                0                0   \n",
       "3                 0                    0                0                0   \n",
       "4                 0                    0                0                0   \n",
       "\n",
       "   cam_Chris Haarhoff  \n",
       "0                   0  \n",
       "1                   0  \n",
       "2                   0  \n",
       "3                   0  \n",
       "4                   0  "
      ]
     },
     "execution_count": 123,
     "metadata": {},
     "output_type": "execute_result"
    }
   ],
   "source": [
    "train_df.head()"
   ]
  },
  {
   "cell_type": "code",
   "execution_count": 124,
   "metadata": {},
   "outputs": [
    {
     "data": {
      "text/plain": [
       "Index(['budget', 'popularity', 'runtime', 'revenue', 'release_date_year',\n",
       "       'release_date_weekday', 'release_date_month', 'release_date_day',\n",
       "       'has_collection', 'has_homepage',\n",
       "       ...\n",
       "       'cm_Edouard F. Henriques', 'cm_Sanja Milkovic Hays',\n",
       "       'cm_Joanna Johnston', 'cm_Ve Neill', 'cm_Camille Friend',\n",
       "       'cam_John Marzano', 'cam_David B. Nowell', 'cam_Hans Bjerno',\n",
       "       'cam_Dean Cundey', 'cam_Chris Haarhoff'],\n",
       "      dtype='object', length=127)"
      ]
     },
     "execution_count": 124,
     "metadata": {},
     "output_type": "execute_result"
    }
   ],
   "source": [
    "train_df.columns"
   ]
  },
  {
   "cell_type": "code",
   "execution_count": 125,
   "metadata": {
    "scrolled": true
   },
   "outputs": [
    {
     "name": "stdout",
     "output_type": "stream",
     "text": [
      "<class 'pandas.core.frame.DataFrame'>\n",
      "RangeIndex: 3000 entries, 0 to 2999\n",
      "Columns: 127 entries, budget to cam_Chris Haarhoff\n",
      "dtypes: float64(2), int32(23), int64(102)\n",
      "memory usage: 2.6 MB\n"
     ]
    }
   ],
   "source": [
    "train_df.info()"
   ]
  },
  {
   "cell_type": "markdown",
   "metadata": {},
   "source": [
    "#### Test set"
   ]
  },
  {
   "cell_type": "code",
   "execution_count": 126,
   "metadata": {},
   "outputs": [
    {
     "data": {
      "text/html": [
       "<div>\n",
       "<style scoped>\n",
       "    .dataframe tbody tr th:only-of-type {\n",
       "        vertical-align: middle;\n",
       "    }\n",
       "\n",
       "    .dataframe tbody tr th {\n",
       "        vertical-align: top;\n",
       "    }\n",
       "\n",
       "    .dataframe thead th {\n",
       "        text-align: right;\n",
       "    }\n",
       "</style>\n",
       "<table border=\"1\" class=\"dataframe\">\n",
       "  <thead>\n",
       "    <tr style=\"text-align: right;\">\n",
       "      <th></th>\n",
       "      <th>budget</th>\n",
       "      <th>popularity</th>\n",
       "      <th>runtime</th>\n",
       "      <th>release_date_year</th>\n",
       "      <th>release_date_weekday</th>\n",
       "      <th>release_date_month</th>\n",
       "      <th>release_date_day</th>\n",
       "      <th>has_collection</th>\n",
       "      <th>has_homepage</th>\n",
       "      <th>orig_lang_en</th>\n",
       "      <th>orig_lang_zh</th>\n",
       "      <th>orig_lang_ja</th>\n",
       "      <th>orig_lang_cn</th>\n",
       "      <th>orig_lang_hi</th>\n",
       "      <th>overview_word_count</th>\n",
       "      <th>tagline_word_count</th>\n",
       "      <th>title_word_count</th>\n",
       "      <th>num_gen</th>\n",
       "      <th>Action</th>\n",
       "      <th>Adventure</th>\n",
       "      <th>Animation</th>\n",
       "      <th>Comedy</th>\n",
       "      <th>Crime</th>\n",
       "      <th>Documentary</th>\n",
       "      <th>Drama</th>\n",
       "      <th>Family</th>\n",
       "      <th>Fantasy</th>\n",
       "      <th>Foreign</th>\n",
       "      <th>History</th>\n",
       "      <th>Horror</th>\n",
       "      <th>Music</th>\n",
       "      <th>Mystery</th>\n",
       "      <th>Romance</th>\n",
       "      <th>Science Fiction</th>\n",
       "      <th>Thriller</th>\n",
       "      <th>War</th>\n",
       "      <th>Western</th>\n",
       "      <th>num_prod_comp</th>\n",
       "      <th>pcomp_Walt Disney Pictures</th>\n",
       "      <th>pcomp_Amblin Entertainment</th>\n",
       "      <th>pcomp_Original Film</th>\n",
       "      <th>pcomp_DreamWorks SKG</th>\n",
       "      <th>pcomp_Dune Entertainment</th>\n",
       "      <th>num_prod_countries</th>\n",
       "      <th>pcountr_NZ</th>\n",
       "      <th>pcountr_US</th>\n",
       "      <th>pcountr_CA</th>\n",
       "      <th>pcountr_DE</th>\n",
       "      <th>pcountr_CN</th>\n",
       "      <th>num_lang</th>\n",
       "      <th>lang_la</th>\n",
       "      <th>lang_th</th>\n",
       "      <th>lang_el</th>\n",
       "      <th>lang_zh</th>\n",
       "      <th>lang_ar</th>\n",
       "      <th>num_keywords</th>\n",
       "      <th>kw_3d</th>\n",
       "      <th>kw_aftercreditsstinger</th>\n",
       "      <th>kw_sequel</th>\n",
       "      <th>kw_duringcreditsstinger</th>\n",
       "      <th>kw_dystopia</th>\n",
       "      <th>kw_based on novel</th>\n",
       "      <th>kw_father son relationship</th>\n",
       "      <th>kw_wedding</th>\n",
       "      <th>kw_new york</th>\n",
       "      <th>kw_los angeles</th>\n",
       "      <th>num_cast</th>\n",
       "      <th>actor_Samuel L. Jackson</th>\n",
       "      <th>actor_Frank Welker</th>\n",
       "      <th>actor_John Turturro</th>\n",
       "      <th>actor_Sylvester Stallone</th>\n",
       "      <th>actor_Jason Statham</th>\n",
       "      <th>actor_Ed Harris</th>\n",
       "      <th>actor_Michael Caine</th>\n",
       "      <th>actor_George Clooney</th>\n",
       "      <th>actor_Sigourney Weaver</th>\n",
       "      <th>actor_Owen Wilson</th>\n",
       "      <th>crew_num</th>\n",
       "      <th>genders_0_crew</th>\n",
       "      <th>female_crew</th>\n",
       "      <th>male_crew</th>\n",
       "      <th>dir_Anna Worley</th>\n",
       "      <th>dir_Alfonso Cuar√≥n</th>\n",
       "      <th>dir_Zack Snyder</th>\n",
       "      <th>dir_Harald Kraut</th>\n",
       "      <th>dir_Michael Bay</th>\n",
       "      <th>dir_Ana Maria Quintana</th>\n",
       "      <th>dir_Rob Minkoff</th>\n",
       "      <th>dir_Gore Verbinski</th>\n",
       "      <th>dir_Rick Moore</th>\n",
       "      <th>dir_Steven Spielberg</th>\n",
       "      <th>prod_Sarah Finn</th>\n",
       "      <th>prod_Denise Chamian</th>\n",
       "      <th>prod_Steven Spielberg</th>\n",
       "      <th>prod_Neal H. Moritz</th>\n",
       "      <th>prod_Janet Hirshenson</th>\n",
       "      <th>prod_Jane Jenkins</th>\n",
       "      <th>prod_Bruce Berman</th>\n",
       "      <th>prod_Randi Hiller</th>\n",
       "      <th>prod_Ronna Kress</th>\n",
       "      <th>prod_John Papsidera</th>\n",
       "      <th>writ_Philippa Boyens</th>\n",
       "      <th>writ_Terry Rossio</th>\n",
       "      <th>writ_Ted Elliott</th>\n",
       "      <th>writ_Peter Jackson</th>\n",
       "      <th>writ_Fran Walsh</th>\n",
       "      <th>writ_Jack Kirby</th>\n",
       "      <th>writ_Stan Lee</th>\n",
       "      <th>writ_Andrew Stanton</th>\n",
       "      <th>writ_Joss Whedon</th>\n",
       "      <th>writ_Robert Wade</th>\n",
       "      <th>sound_Christopher Boyes</th>\n",
       "      <th>sound_Kevin Kaska</th>\n",
       "      <th>sound_Brian Tyler</th>\n",
       "      <th>sound_John Williams</th>\n",
       "      <th>sound_Hans Zimmer</th>\n",
       "      <th>cm_Edouard F. Henriques</th>\n",
       "      <th>cm_Sanja Milkovic Hays</th>\n",
       "      <th>cm_Joanna Johnston</th>\n",
       "      <th>cm_Ve Neill</th>\n",
       "      <th>cm_Camille Friend</th>\n",
       "      <th>cam_John Marzano</th>\n",
       "      <th>cam_David B. Nowell</th>\n",
       "      <th>cam_Hans Bjerno</th>\n",
       "      <th>cam_Dean Cundey</th>\n",
       "      <th>cam_Chris Haarhoff</th>\n",
       "    </tr>\n",
       "  </thead>\n",
       "  <tbody>\n",
       "    <tr>\n",
       "      <th>0</th>\n",
       "      <td>0</td>\n",
       "      <td>3.851534</td>\n",
       "      <td>90.0</td>\n",
       "      <td>2007</td>\n",
       "      <td>5</td>\n",
       "      <td>7</td>\n",
       "      <td>14</td>\n",
       "      <td>1</td>\n",
       "      <td>1</td>\n",
       "      <td>0</td>\n",
       "      <td>0</td>\n",
       "      <td>1</td>\n",
       "      <td>0</td>\n",
       "      <td>0</td>\n",
       "      <td>57</td>\n",
       "      <td>9</td>\n",
       "      <td>5</td>\n",
       "      <td>4</td>\n",
       "      <td>0</td>\n",
       "      <td>1</td>\n",
       "      <td>1</td>\n",
       "      <td>0</td>\n",
       "      <td>0</td>\n",
       "      <td>0</td>\n",
       "      <td>0</td>\n",
       "      <td>1</td>\n",
       "      <td>1</td>\n",
       "      <td>0</td>\n",
       "      <td>0</td>\n",
       "      <td>0</td>\n",
       "      <td>0</td>\n",
       "      <td>0</td>\n",
       "      <td>0</td>\n",
       "      <td>0</td>\n",
       "      <td>0</td>\n",
       "      <td>0</td>\n",
       "      <td>0</td>\n",
       "      <td>0</td>\n",
       "      <td>0</td>\n",
       "      <td>0</td>\n",
       "      <td>0</td>\n",
       "      <td>0</td>\n",
       "      <td>0</td>\n",
       "      <td>2</td>\n",
       "      <td>0</td>\n",
       "      <td>1</td>\n",
       "      <td>0</td>\n",
       "      <td>0</td>\n",
       "      <td>0</td>\n",
       "      <td>2</td>\n",
       "      <td>0</td>\n",
       "      <td>0</td>\n",
       "      <td>0</td>\n",
       "      <td>0</td>\n",
       "      <td>0</td>\n",
       "      <td>2</td>\n",
       "      <td>0</td>\n",
       "      <td>0</td>\n",
       "      <td>0</td>\n",
       "      <td>0</td>\n",
       "      <td>0</td>\n",
       "      <td>0</td>\n",
       "      <td>0</td>\n",
       "      <td>0</td>\n",
       "      <td>0</td>\n",
       "      <td>0</td>\n",
       "      <td>7</td>\n",
       "      <td>0</td>\n",
       "      <td>0</td>\n",
       "      <td>0</td>\n",
       "      <td>0</td>\n",
       "      <td>0</td>\n",
       "      <td>0</td>\n",
       "      <td>0</td>\n",
       "      <td>0</td>\n",
       "      <td>0</td>\n",
       "      <td>0</td>\n",
       "      <td>2</td>\n",
       "      <td>1</td>\n",
       "      <td>0</td>\n",
       "      <td>1</td>\n",
       "      <td>0</td>\n",
       "      <td>0</td>\n",
       "      <td>0</td>\n",
       "      <td>0</td>\n",
       "      <td>0</td>\n",
       "      <td>0</td>\n",
       "      <td>0</td>\n",
       "      <td>0</td>\n",
       "      <td>0</td>\n",
       "      <td>0</td>\n",
       "      <td>0</td>\n",
       "      <td>0</td>\n",
       "      <td>0</td>\n",
       "      <td>0</td>\n",
       "      <td>0</td>\n",
       "      <td>0</td>\n",
       "      <td>0</td>\n",
       "      <td>0</td>\n",
       "      <td>0</td>\n",
       "      <td>0</td>\n",
       "      <td>0</td>\n",
       "      <td>0</td>\n",
       "      <td>0</td>\n",
       "      <td>0</td>\n",
       "      <td>0</td>\n",
       "      <td>0</td>\n",
       "      <td>0</td>\n",
       "      <td>0</td>\n",
       "      <td>0</td>\n",
       "      <td>0</td>\n",
       "      <td>0</td>\n",
       "      <td>0</td>\n",
       "      <td>0</td>\n",
       "      <td>0</td>\n",
       "      <td>0</td>\n",
       "      <td>0</td>\n",
       "      <td>0</td>\n",
       "      <td>0</td>\n",
       "      <td>0</td>\n",
       "      <td>0</td>\n",
       "      <td>0</td>\n",
       "      <td>0</td>\n",
       "      <td>0</td>\n",
       "      <td>0</td>\n",
       "      <td>0</td>\n",
       "    </tr>\n",
       "    <tr>\n",
       "      <th>1</th>\n",
       "      <td>88000</td>\n",
       "      <td>3.559789</td>\n",
       "      <td>65.0</td>\n",
       "      <td>1958</td>\n",
       "      <td>0</td>\n",
       "      <td>5</td>\n",
       "      <td>19</td>\n",
       "      <td>0</td>\n",
       "      <td>0</td>\n",
       "      <td>1</td>\n",
       "      <td>0</td>\n",
       "      <td>0</td>\n",
       "      <td>0</td>\n",
       "      <td>0</td>\n",
       "      <td>29</td>\n",
       "      <td>16</td>\n",
       "      <td>6</td>\n",
       "      <td>2</td>\n",
       "      <td>0</td>\n",
       "      <td>0</td>\n",
       "      <td>0</td>\n",
       "      <td>0</td>\n",
       "      <td>0</td>\n",
       "      <td>0</td>\n",
       "      <td>0</td>\n",
       "      <td>0</td>\n",
       "      <td>0</td>\n",
       "      <td>0</td>\n",
       "      <td>0</td>\n",
       "      <td>1</td>\n",
       "      <td>0</td>\n",
       "      <td>0</td>\n",
       "      <td>0</td>\n",
       "      <td>1</td>\n",
       "      <td>0</td>\n",
       "      <td>0</td>\n",
       "      <td>0</td>\n",
       "      <td>1</td>\n",
       "      <td>0</td>\n",
       "      <td>0</td>\n",
       "      <td>0</td>\n",
       "      <td>0</td>\n",
       "      <td>0</td>\n",
       "      <td>1</td>\n",
       "      <td>0</td>\n",
       "      <td>1</td>\n",
       "      <td>0</td>\n",
       "      <td>0</td>\n",
       "      <td>0</td>\n",
       "      <td>1</td>\n",
       "      <td>0</td>\n",
       "      <td>0</td>\n",
       "      <td>0</td>\n",
       "      <td>0</td>\n",
       "      <td>0</td>\n",
       "      <td>8</td>\n",
       "      <td>0</td>\n",
       "      <td>0</td>\n",
       "      <td>0</td>\n",
       "      <td>0</td>\n",
       "      <td>0</td>\n",
       "      <td>0</td>\n",
       "      <td>0</td>\n",
       "      <td>0</td>\n",
       "      <td>0</td>\n",
       "      <td>0</td>\n",
       "      <td>10</td>\n",
       "      <td>0</td>\n",
       "      <td>0</td>\n",
       "      <td>0</td>\n",
       "      <td>0</td>\n",
       "      <td>0</td>\n",
       "      <td>0</td>\n",
       "      <td>0</td>\n",
       "      <td>0</td>\n",
       "      <td>0</td>\n",
       "      <td>0</td>\n",
       "      <td>8</td>\n",
       "      <td>2</td>\n",
       "      <td>0</td>\n",
       "      <td>6</td>\n",
       "      <td>0</td>\n",
       "      <td>0</td>\n",
       "      <td>0</td>\n",
       "      <td>0</td>\n",
       "      <td>0</td>\n",
       "      <td>0</td>\n",
       "      <td>0</td>\n",
       "      <td>0</td>\n",
       "      <td>0</td>\n",
       "      <td>0</td>\n",
       "      <td>0</td>\n",
       "      <td>0</td>\n",
       "      <td>0</td>\n",
       "      <td>0</td>\n",
       "      <td>0</td>\n",
       "      <td>0</td>\n",
       "      <td>0</td>\n",
       "      <td>0</td>\n",
       "      <td>0</td>\n",
       "      <td>0</td>\n",
       "      <td>0</td>\n",
       "      <td>0</td>\n",
       "      <td>0</td>\n",
       "      <td>0</td>\n",
       "      <td>0</td>\n",
       "      <td>0</td>\n",
       "      <td>0</td>\n",
       "      <td>0</td>\n",
       "      <td>0</td>\n",
       "      <td>0</td>\n",
       "      <td>0</td>\n",
       "      <td>0</td>\n",
       "      <td>0</td>\n",
       "      <td>0</td>\n",
       "      <td>0</td>\n",
       "      <td>0</td>\n",
       "      <td>0</td>\n",
       "      <td>0</td>\n",
       "      <td>0</td>\n",
       "      <td>0</td>\n",
       "      <td>0</td>\n",
       "      <td>0</td>\n",
       "      <td>0</td>\n",
       "      <td>0</td>\n",
       "      <td>0</td>\n",
       "    </tr>\n",
       "    <tr>\n",
       "      <th>2</th>\n",
       "      <td>0</td>\n",
       "      <td>8.085194</td>\n",
       "      <td>100.0</td>\n",
       "      <td>1997</td>\n",
       "      <td>4</td>\n",
       "      <td>5</td>\n",
       "      <td>23</td>\n",
       "      <td>0</td>\n",
       "      <td>0</td>\n",
       "      <td>1</td>\n",
       "      <td>0</td>\n",
       "      <td>0</td>\n",
       "      <td>0</td>\n",
       "      <td>0</td>\n",
       "      <td>61</td>\n",
       "      <td>8</td>\n",
       "      <td>3</td>\n",
       "      <td>2</td>\n",
       "      <td>0</td>\n",
       "      <td>0</td>\n",
       "      <td>0</td>\n",
       "      <td>1</td>\n",
       "      <td>0</td>\n",
       "      <td>0</td>\n",
       "      <td>0</td>\n",
       "      <td>0</td>\n",
       "      <td>0</td>\n",
       "      <td>0</td>\n",
       "      <td>0</td>\n",
       "      <td>0</td>\n",
       "      <td>0</td>\n",
       "      <td>0</td>\n",
       "      <td>1</td>\n",
       "      <td>0</td>\n",
       "      <td>0</td>\n",
       "      <td>0</td>\n",
       "      <td>0</td>\n",
       "      <td>3</td>\n",
       "      <td>0</td>\n",
       "      <td>0</td>\n",
       "      <td>0</td>\n",
       "      <td>0</td>\n",
       "      <td>0</td>\n",
       "      <td>1</td>\n",
       "      <td>0</td>\n",
       "      <td>1</td>\n",
       "      <td>0</td>\n",
       "      <td>0</td>\n",
       "      <td>0</td>\n",
       "      <td>1</td>\n",
       "      <td>0</td>\n",
       "      <td>0</td>\n",
       "      <td>0</td>\n",
       "      <td>0</td>\n",
       "      <td>0</td>\n",
       "      <td>4</td>\n",
       "      <td>0</td>\n",
       "      <td>0</td>\n",
       "      <td>0</td>\n",
       "      <td>0</td>\n",
       "      <td>0</td>\n",
       "      <td>0</td>\n",
       "      <td>0</td>\n",
       "      <td>0</td>\n",
       "      <td>0</td>\n",
       "      <td>0</td>\n",
       "      <td>9</td>\n",
       "      <td>0</td>\n",
       "      <td>0</td>\n",
       "      <td>0</td>\n",
       "      <td>0</td>\n",
       "      <td>0</td>\n",
       "      <td>0</td>\n",
       "      <td>0</td>\n",
       "      <td>0</td>\n",
       "      <td>0</td>\n",
       "      <td>0</td>\n",
       "      <td>10</td>\n",
       "      <td>5</td>\n",
       "      <td>2</td>\n",
       "      <td>3</td>\n",
       "      <td>0</td>\n",
       "      <td>0</td>\n",
       "      <td>0</td>\n",
       "      <td>0</td>\n",
       "      <td>0</td>\n",
       "      <td>0</td>\n",
       "      <td>0</td>\n",
       "      <td>0</td>\n",
       "      <td>0</td>\n",
       "      <td>0</td>\n",
       "      <td>0</td>\n",
       "      <td>0</td>\n",
       "      <td>0</td>\n",
       "      <td>0</td>\n",
       "      <td>0</td>\n",
       "      <td>0</td>\n",
       "      <td>0</td>\n",
       "      <td>0</td>\n",
       "      <td>0</td>\n",
       "      <td>0</td>\n",
       "      <td>0</td>\n",
       "      <td>0</td>\n",
       "      <td>0</td>\n",
       "      <td>0</td>\n",
       "      <td>0</td>\n",
       "      <td>0</td>\n",
       "      <td>0</td>\n",
       "      <td>0</td>\n",
       "      <td>0</td>\n",
       "      <td>0</td>\n",
       "      <td>0</td>\n",
       "      <td>0</td>\n",
       "      <td>0</td>\n",
       "      <td>0</td>\n",
       "      <td>0</td>\n",
       "      <td>0</td>\n",
       "      <td>0</td>\n",
       "      <td>0</td>\n",
       "      <td>0</td>\n",
       "      <td>0</td>\n",
       "      <td>0</td>\n",
       "      <td>0</td>\n",
       "      <td>0</td>\n",
       "      <td>0</td>\n",
       "      <td>0</td>\n",
       "    </tr>\n",
       "    <tr>\n",
       "      <th>3</th>\n",
       "      <td>6800000</td>\n",
       "      <td>8.596012</td>\n",
       "      <td>130.0</td>\n",
       "      <td>2010</td>\n",
       "      <td>5</td>\n",
       "      <td>9</td>\n",
       "      <td>4</td>\n",
       "      <td>0</td>\n",
       "      <td>1</td>\n",
       "      <td>0</td>\n",
       "      <td>0</td>\n",
       "      <td>0</td>\n",
       "      <td>0</td>\n",
       "      <td>0</td>\n",
       "      <td>50</td>\n",
       "      <td>10</td>\n",
       "      <td>1</td>\n",
       "      <td>3</td>\n",
       "      <td>0</td>\n",
       "      <td>0</td>\n",
       "      <td>0</td>\n",
       "      <td>0</td>\n",
       "      <td>0</td>\n",
       "      <td>0</td>\n",
       "      <td>1</td>\n",
       "      <td>0</td>\n",
       "      <td>0</td>\n",
       "      <td>0</td>\n",
       "      <td>0</td>\n",
       "      <td>0</td>\n",
       "      <td>0</td>\n",
       "      <td>1</td>\n",
       "      <td>0</td>\n",
       "      <td>0</td>\n",
       "      <td>0</td>\n",
       "      <td>1</td>\n",
       "      <td>0</td>\n",
       "      <td>3</td>\n",
       "      <td>0</td>\n",
       "      <td>0</td>\n",
       "      <td>0</td>\n",
       "      <td>0</td>\n",
       "      <td>0</td>\n",
       "      <td>2</td>\n",
       "      <td>0</td>\n",
       "      <td>0</td>\n",
       "      <td>1</td>\n",
       "      <td>0</td>\n",
       "      <td>0</td>\n",
       "      <td>3</td>\n",
       "      <td>0</td>\n",
       "      <td>0</td>\n",
       "      <td>0</td>\n",
       "      <td>0</td>\n",
       "      <td>1</td>\n",
       "      <td>15</td>\n",
       "      <td>0</td>\n",
       "      <td>0</td>\n",
       "      <td>0</td>\n",
       "      <td>0</td>\n",
       "      <td>0</td>\n",
       "      <td>0</td>\n",
       "      <td>0</td>\n",
       "      <td>0</td>\n",
       "      <td>0</td>\n",
       "      <td>0</td>\n",
       "      <td>23</td>\n",
       "      <td>0</td>\n",
       "      <td>0</td>\n",
       "      <td>0</td>\n",
       "      <td>0</td>\n",
       "      <td>0</td>\n",
       "      <td>0</td>\n",
       "      <td>0</td>\n",
       "      <td>0</td>\n",
       "      <td>0</td>\n",
       "      <td>0</td>\n",
       "      <td>69</td>\n",
       "      <td>53</td>\n",
       "      <td>5</td>\n",
       "      <td>11</td>\n",
       "      <td>0</td>\n",
       "      <td>0</td>\n",
       "      <td>0</td>\n",
       "      <td>0</td>\n",
       "      <td>0</td>\n",
       "      <td>0</td>\n",
       "      <td>0</td>\n",
       "      <td>0</td>\n",
       "      <td>0</td>\n",
       "      <td>0</td>\n",
       "      <td>0</td>\n",
       "      <td>0</td>\n",
       "      <td>0</td>\n",
       "      <td>0</td>\n",
       "      <td>0</td>\n",
       "      <td>0</td>\n",
       "      <td>0</td>\n",
       "      <td>0</td>\n",
       "      <td>0</td>\n",
       "      <td>0</td>\n",
       "      <td>0</td>\n",
       "      <td>0</td>\n",
       "      <td>0</td>\n",
       "      <td>0</td>\n",
       "      <td>0</td>\n",
       "      <td>0</td>\n",
       "      <td>0</td>\n",
       "      <td>0</td>\n",
       "      <td>0</td>\n",
       "      <td>0</td>\n",
       "      <td>0</td>\n",
       "      <td>0</td>\n",
       "      <td>0</td>\n",
       "      <td>0</td>\n",
       "      <td>0</td>\n",
       "      <td>0</td>\n",
       "      <td>0</td>\n",
       "      <td>0</td>\n",
       "      <td>0</td>\n",
       "      <td>0</td>\n",
       "      <td>0</td>\n",
       "      <td>0</td>\n",
       "      <td>0</td>\n",
       "      <td>0</td>\n",
       "      <td>0</td>\n",
       "    </tr>\n",
       "    <tr>\n",
       "      <th>4</th>\n",
       "      <td>2000000</td>\n",
       "      <td>3.217680</td>\n",
       "      <td>92.0</td>\n",
       "      <td>2005</td>\n",
       "      <td>4</td>\n",
       "      <td>2</td>\n",
       "      <td>11</td>\n",
       "      <td>0</td>\n",
       "      <td>0</td>\n",
       "      <td>1</td>\n",
       "      <td>0</td>\n",
       "      <td>0</td>\n",
       "      <td>0</td>\n",
       "      <td>0</td>\n",
       "      <td>145</td>\n",
       "      <td>42</td>\n",
       "      <td>3</td>\n",
       "      <td>2</td>\n",
       "      <td>0</td>\n",
       "      <td>0</td>\n",
       "      <td>0</td>\n",
       "      <td>0</td>\n",
       "      <td>0</td>\n",
       "      <td>1</td>\n",
       "      <td>0</td>\n",
       "      <td>0</td>\n",
       "      <td>0</td>\n",
       "      <td>0</td>\n",
       "      <td>1</td>\n",
       "      <td>0</td>\n",
       "      <td>0</td>\n",
       "      <td>0</td>\n",
       "      <td>0</td>\n",
       "      <td>0</td>\n",
       "      <td>0</td>\n",
       "      <td>0</td>\n",
       "      <td>0</td>\n",
       "      <td>0</td>\n",
       "      <td>0</td>\n",
       "      <td>0</td>\n",
       "      <td>0</td>\n",
       "      <td>0</td>\n",
       "      <td>0</td>\n",
       "      <td>1</td>\n",
       "      <td>0</td>\n",
       "      <td>1</td>\n",
       "      <td>0</td>\n",
       "      <td>0</td>\n",
       "      <td>0</td>\n",
       "      <td>1</td>\n",
       "      <td>0</td>\n",
       "      <td>0</td>\n",
       "      <td>0</td>\n",
       "      <td>0</td>\n",
       "      <td>0</td>\n",
       "      <td>4</td>\n",
       "      <td>0</td>\n",
       "      <td>0</td>\n",
       "      <td>0</td>\n",
       "      <td>0</td>\n",
       "      <td>0</td>\n",
       "      <td>0</td>\n",
       "      <td>0</td>\n",
       "      <td>0</td>\n",
       "      <td>0</td>\n",
       "      <td>0</td>\n",
       "      <td>4</td>\n",
       "      <td>0</td>\n",
       "      <td>0</td>\n",
       "      <td>0</td>\n",
       "      <td>0</td>\n",
       "      <td>0</td>\n",
       "      <td>0</td>\n",
       "      <td>0</td>\n",
       "      <td>0</td>\n",
       "      <td>0</td>\n",
       "      <td>0</td>\n",
       "      <td>14</td>\n",
       "      <td>3</td>\n",
       "      <td>1</td>\n",
       "      <td>10</td>\n",
       "      <td>0</td>\n",
       "      <td>0</td>\n",
       "      <td>0</td>\n",
       "      <td>0</td>\n",
       "      <td>0</td>\n",
       "      <td>0</td>\n",
       "      <td>0</td>\n",
       "      <td>0</td>\n",
       "      <td>0</td>\n",
       "      <td>0</td>\n",
       "      <td>0</td>\n",
       "      <td>0</td>\n",
       "      <td>0</td>\n",
       "      <td>0</td>\n",
       "      <td>0</td>\n",
       "      <td>0</td>\n",
       "      <td>0</td>\n",
       "      <td>0</td>\n",
       "      <td>0</td>\n",
       "      <td>0</td>\n",
       "      <td>0</td>\n",
       "      <td>0</td>\n",
       "      <td>0</td>\n",
       "      <td>0</td>\n",
       "      <td>0</td>\n",
       "      <td>0</td>\n",
       "      <td>0</td>\n",
       "      <td>0</td>\n",
       "      <td>0</td>\n",
       "      <td>0</td>\n",
       "      <td>0</td>\n",
       "      <td>0</td>\n",
       "      <td>0</td>\n",
       "      <td>0</td>\n",
       "      <td>0</td>\n",
       "      <td>0</td>\n",
       "      <td>0</td>\n",
       "      <td>0</td>\n",
       "      <td>0</td>\n",
       "      <td>0</td>\n",
       "      <td>0</td>\n",
       "      <td>0</td>\n",
       "      <td>0</td>\n",
       "      <td>0</td>\n",
       "      <td>0</td>\n",
       "    </tr>\n",
       "  </tbody>\n",
       "</table>\n",
       "</div>"
      ],
      "text/plain": [
       "    budget  popularity  runtime  release_date_year  release_date_weekday  \\\n",
       "0        0    3.851534     90.0               2007                     5   \n",
       "1    88000    3.559789     65.0               1958                     0   \n",
       "2        0    8.085194    100.0               1997                     4   \n",
       "3  6800000    8.596012    130.0               2010                     5   \n",
       "4  2000000    3.217680     92.0               2005                     4   \n",
       "\n",
       "   release_date_month  release_date_day  has_collection  has_homepage  \\\n",
       "0                   7                14               1             1   \n",
       "1                   5                19               0             0   \n",
       "2                   5                23               0             0   \n",
       "3                   9                 4               0             1   \n",
       "4                   2                11               0             0   \n",
       "\n",
       "   orig_lang_en  orig_lang_zh  orig_lang_ja  orig_lang_cn  orig_lang_hi  \\\n",
       "0             0             0             1             0             0   \n",
       "1             1             0             0             0             0   \n",
       "2             1             0             0             0             0   \n",
       "3             0             0             0             0             0   \n",
       "4             1             0             0             0             0   \n",
       "\n",
       "   overview_word_count  tagline_word_count  title_word_count  num_gen  Action  \\\n",
       "0                   57                   9                 5        4       0   \n",
       "1                   29                  16                 6        2       0   \n",
       "2                   61                   8                 3        2       0   \n",
       "3                   50                  10                 1        3       0   \n",
       "4                  145                  42                 3        2       0   \n",
       "\n",
       "   Adventure  Animation  Comedy  Crime  Documentary  Drama  Family  Fantasy  \\\n",
       "0          1          1       0      0            0      0       1        1   \n",
       "1          0          0       0      0            0      0       0        0   \n",
       "2          0          0       1      0            0      0       0        0   \n",
       "3          0          0       0      0            0      1       0        0   \n",
       "4          0          0       0      0            1      0       0        0   \n",
       "\n",
       "   Foreign  History  Horror  Music  Mystery  Romance  Science Fiction  \\\n",
       "0        0        0       0      0        0        0                0   \n",
       "1        0        0       1      0        0        0                1   \n",
       "2        0        0       0      0        0        1                0   \n",
       "3        0        0       0      0        1        0                0   \n",
       "4        0        1       0      0        0        0                0   \n",
       "\n",
       "   Thriller  War  Western  num_prod_comp  pcomp_Walt Disney Pictures  \\\n",
       "0         0    0        0              0                           0   \n",
       "1         0    0        0              1                           0   \n",
       "2         0    0        0              3                           0   \n",
       "3         0    1        0              3                           0   \n",
       "4         0    0        0              0                           0   \n",
       "\n",
       "   pcomp_Amblin Entertainment  pcomp_Original Film  pcomp_DreamWorks SKG  \\\n",
       "0                           0                    0                     0   \n",
       "1                           0                    0                     0   \n",
       "2                           0                    0                     0   \n",
       "3                           0                    0                     0   \n",
       "4                           0                    0                     0   \n",
       "\n",
       "   pcomp_Dune Entertainment  num_prod_countries  pcountr_NZ  pcountr_US  \\\n",
       "0                         0                   2           0           1   \n",
       "1                         0                   1           0           1   \n",
       "2                         0                   1           0           1   \n",
       "3                         0                   2           0           0   \n",
       "4                         0                   1           0           1   \n",
       "\n",
       "   pcountr_CA  pcountr_DE  pcountr_CN  num_lang  lang_la  lang_th  lang_el  \\\n",
       "0           0           0           0         2        0        0        0   \n",
       "1           0           0           0         1        0        0        0   \n",
       "2           0           0           0         1        0        0        0   \n",
       "3           1           0           0         3        0        0        0   \n",
       "4           0           0           0         1        0        0        0   \n",
       "\n",
       "   lang_zh  lang_ar  num_keywords  kw_3d  kw_aftercreditsstinger  kw_sequel  \\\n",
       "0        0        0             2      0                       0          0   \n",
       "1        0        0             8      0                       0          0   \n",
       "2        0        0             4      0                       0          0   \n",
       "3        0        1            15      0                       0          0   \n",
       "4        0        0             4      0                       0          0   \n",
       "\n",
       "   kw_duringcreditsstinger  kw_dystopia  kw_based on novel  \\\n",
       "0                        0            0                  0   \n",
       "1                        0            0                  0   \n",
       "2                        0            0                  0   \n",
       "3                        0            0                  0   \n",
       "4                        0            0                  0   \n",
       "\n",
       "   kw_father son relationship  kw_wedding  kw_new york  kw_los angeles  \\\n",
       "0                           0           0            0               0   \n",
       "1                           0           0            0               0   \n",
       "2                           0           0            0               0   \n",
       "3                           0           0            0               0   \n",
       "4                           0           0            0               0   \n",
       "\n",
       "   num_cast  actor_Samuel L. Jackson  actor_Frank Welker  actor_John Turturro  \\\n",
       "0         7                        0                   0                    0   \n",
       "1        10                        0                   0                    0   \n",
       "2         9                        0                   0                    0   \n",
       "3        23                        0                   0                    0   \n",
       "4         4                        0                   0                    0   \n",
       "\n",
       "   actor_Sylvester Stallone  actor_Jason Statham  actor_Ed Harris  \\\n",
       "0                         0                    0                0   \n",
       "1                         0                    0                0   \n",
       "2                         0                    0                0   \n",
       "3                         0                    0                0   \n",
       "4                         0                    0                0   \n",
       "\n",
       "   actor_Michael Caine  actor_George Clooney  actor_Sigourney Weaver  \\\n",
       "0                    0                     0                       0   \n",
       "1                    0                     0                       0   \n",
       "2                    0                     0                       0   \n",
       "3                    0                     0                       0   \n",
       "4                    0                     0                       0   \n",
       "\n",
       "   actor_Owen Wilson  crew_num  genders_0_crew  female_crew  male_crew  \\\n",
       "0                  0         2               1            0          1   \n",
       "1                  0         8               2            0          6   \n",
       "2                  0        10               5            2          3   \n",
       "3                  0        69              53            5         11   \n",
       "4                  0        14               3            1         10   \n",
       "\n",
       "   dir_Anna Worley  dir_Alfonso Cuar√≥n  dir_Zack Snyder  dir_Harald Kraut  \\\n",
       "0                0                    0                0                 0   \n",
       "1                0                    0                0                 0   \n",
       "2                0                    0                0                 0   \n",
       "3                0                    0                0                 0   \n",
       "4                0                    0                0                 0   \n",
       "\n",
       "   dir_Michael Bay  dir_Ana Maria Quintana  dir_Rob Minkoff  \\\n",
       "0                0                       0                0   \n",
       "1                0                       0                0   \n",
       "2                0                       0                0   \n",
       "3                0                       0                0   \n",
       "4                0                       0                0   \n",
       "\n",
       "   dir_Gore Verbinski  dir_Rick Moore  dir_Steven Spielberg  prod_Sarah Finn  \\\n",
       "0                   0               0                     0                0   \n",
       "1                   0               0                     0                0   \n",
       "2                   0               0                     0                0   \n",
       "3                   0               0                     0                0   \n",
       "4                   0               0                     0                0   \n",
       "\n",
       "   prod_Denise Chamian  prod_Steven Spielberg  prod_Neal H. Moritz  \\\n",
       "0                    0                      0                    0   \n",
       "1                    0                      0                    0   \n",
       "2                    0                      0                    0   \n",
       "3                    0                      0                    0   \n",
       "4                    0                      0                    0   \n",
       "\n",
       "   prod_Janet Hirshenson  prod_Jane Jenkins  prod_Bruce Berman  \\\n",
       "0                      0                  0                  0   \n",
       "1                      0                  0                  0   \n",
       "2                      0                  0                  0   \n",
       "3                      0                  0                  0   \n",
       "4                      0                  0                  0   \n",
       "\n",
       "   prod_Randi Hiller  prod_Ronna Kress  prod_John Papsidera  \\\n",
       "0                  0                 0                    0   \n",
       "1                  0                 0                    0   \n",
       "2                  0                 0                    0   \n",
       "3                  0                 0                    0   \n",
       "4                  0                 0                    0   \n",
       "\n",
       "   writ_Philippa Boyens  writ_Terry Rossio  writ_Ted Elliott  \\\n",
       "0                     0                  0                 0   \n",
       "1                     0                  0                 0   \n",
       "2                     0                  0                 0   \n",
       "3                     0                  0                 0   \n",
       "4                     0                  0                 0   \n",
       "\n",
       "   writ_Peter Jackson  writ_Fran Walsh  writ_Jack Kirby  writ_Stan Lee  \\\n",
       "0                   0                0                0              0   \n",
       "1                   0                0                0              0   \n",
       "2                   0                0                0              0   \n",
       "3                   0                0                0              0   \n",
       "4                   0                0                0              0   \n",
       "\n",
       "   writ_Andrew Stanton  writ_Joss Whedon  writ_Robert Wade  \\\n",
       "0                    0                 0                 0   \n",
       "1                    0                 0                 0   \n",
       "2                    0                 0                 0   \n",
       "3                    0                 0                 0   \n",
       "4                    0                 0                 0   \n",
       "\n",
       "   sound_Christopher Boyes  sound_Kevin Kaska  sound_Brian Tyler  \\\n",
       "0                        0                  0                  0   \n",
       "1                        0                  0                  0   \n",
       "2                        0                  0                  0   \n",
       "3                        0                  0                  0   \n",
       "4                        0                  0                  0   \n",
       "\n",
       "   sound_John Williams  sound_Hans Zimmer  cm_Edouard F. Henriques  \\\n",
       "0                    0                  0                        0   \n",
       "1                    0                  0                        0   \n",
       "2                    0                  0                        0   \n",
       "3                    0                  0                        0   \n",
       "4                    0                  0                        0   \n",
       "\n",
       "   cm_Sanja Milkovic Hays  cm_Joanna Johnston  cm_Ve Neill  cm_Camille Friend  \\\n",
       "0                       0                   0            0                  0   \n",
       "1                       0                   0            0                  0   \n",
       "2                       0                   0            0                  0   \n",
       "3                       0                   0            0                  0   \n",
       "4                       0                   0            0                  0   \n",
       "\n",
       "   cam_John Marzano  cam_David B. Nowell  cam_Hans Bjerno  cam_Dean Cundey  \\\n",
       "0                 0                    0                0                0   \n",
       "1                 0                    0                0                0   \n",
       "2                 0                    0                0                0   \n",
       "3                 0                    0                0                0   \n",
       "4                 0                    0                0                0   \n",
       "\n",
       "   cam_Chris Haarhoff  \n",
       "0                   0  \n",
       "1                   0  \n",
       "2                   0  \n",
       "3                   0  \n",
       "4                   0  "
      ]
     },
     "execution_count": 126,
     "metadata": {},
     "output_type": "execute_result"
    }
   ],
   "source": [
    "test_df.head()"
   ]
  },
  {
   "cell_type": "code",
   "execution_count": 127,
   "metadata": {},
   "outputs": [
    {
     "name": "stdout",
     "output_type": "stream",
     "text": [
      "<class 'pandas.core.frame.DataFrame'>\n",
      "RangeIndex: 4398 entries, 0 to 4397\n",
      "Columns: 126 entries, budget to cam_Chris Haarhoff\n",
      "dtypes: float64(2), int32(23), int64(101)\n",
      "memory usage: 3.8 MB\n"
     ]
    }
   ],
   "source": [
    "test_df.info()"
   ]
  },
  {
   "cell_type": "markdown",
   "metadata": {},
   "source": [
    "Salvo i dataset"
   ]
  },
  {
   "cell_type": "code",
   "execution_count": 128,
   "metadata": {},
   "outputs": [],
   "source": [
    "train_df.to_pickle('train_df.pkl')\n",
    "test_df.to_pickle('test_df.pkl')"
   ]
  },
  {
   "cell_type": "markdown",
   "metadata": {},
   "source": [
    " "
   ]
  }
 ],
 "metadata": {
  "kernelspec": {
   "display_name": "Python 3",
   "language": "python",
   "name": "python3"
  },
  "language_info": {
   "codemirror_mode": {
    "name": "ipython",
    "version": 3
   },
   "file_extension": ".py",
   "mimetype": "text/x-python",
   "name": "python",
   "nbconvert_exporter": "python",
   "pygments_lexer": "ipython3",
   "version": "3.8.8"
  },
  "toc": {
   "base_numbering": "2",
   "nav_menu": {},
   "number_sections": false,
   "sideBar": true,
   "skip_h1_title": true,
   "title_cell": "Table of Contents",
   "title_sidebar": "Contents",
   "toc_cell": true,
   "toc_position": {
    "height": "calc(100% - 180px)",
    "left": "10px",
    "top": "150px",
    "width": "234px"
   },
   "toc_section_display": true,
   "toc_window_display": true
  },
  "varInspector": {
   "cols": {
    "lenName": 16,
    "lenType": 16,
    "lenVar": 40
   },
   "kernels_config": {
    "python": {
     "delete_cmd_postfix": "",
     "delete_cmd_prefix": "del ",
     "library": "var_list.py",
     "varRefreshCmd": "print(var_dic_list())"
    },
    "r": {
     "delete_cmd_postfix": ") ",
     "delete_cmd_prefix": "rm(",
     "library": "var_list.r",
     "varRefreshCmd": "cat(var_dic_list()) "
    }
   },
   "position": {
    "height": "810px",
    "left": "1550px",
    "right": "20px",
    "top": "120px",
    "width": "350px"
   },
   "types_to_exclude": [
    "module",
    "function",
    "builtin_function_or_method",
    "instance",
    "_Feature"
   ],
   "window_display": false
  }
 },
 "nbformat": 4,
 "nbformat_minor": 4
}
